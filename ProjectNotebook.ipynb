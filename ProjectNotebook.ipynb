{
 "cells": [
  {
   "cell_type": "markdown",
   "metadata": {},
   "source": [
    "# Library Book Recommendation System"
   ]
  },
  {
   "cell_type": "markdown",
   "metadata": {},
   "source": [
    "---\n",
    "## Business Understanding\n",
    "In the increasingly competitive landscape of online libraries and book platforms, personalized recommendation systems have emerged as a critical tool for enhancing user engagement, satisfaction, and retention. Understanding users' unique preferences, demographics, and reading habits is essential for delivering relevant and tailored book suggestions that resonate with individual tastes. By leveraging advanced algorithms and user data analytics, our platform aims to revolutionize the book discovery experience, offering users a curated selection of books that align with their interests and preferences. Through continuous iteration and optimization, we strive to create a dynamic and immersive user interface that not only facilitates book exploration but also fosters a sense of community and interaction among readers, ultimately driving business growth and differentiation in the competitive market.\n"
   ]
  },
  {
   "cell_type": "markdown",
   "metadata": {},
   "source": [
    "---\n",
    "## Problem Statement\n",
    "\n",
    "The current landscape of online libraries and book platforms lacks personalized recommendation systems that effectively cater to individual users' preferences and reading habits. Existing platforms often rely on generic recommendations or fail to leverage user data to deliver relevant book suggestions, leading to suboptimal user experiences and limited engagement. Our platform aims to address this challenge by developing a robust and intuitive recommendation system that harnesses user data, ratings, and book information to provide personalized book recommendations tailored to each user's unique profile. By seamlessly integrating user registration, profile creation, and recommendation display functionalities into the user interface, we seek to empower users to discover new books that align with their interests and preferences while fostering a vibrant and engaging community of readers.\n",
    "\n",
    "### Project Objectives\n",
    "$i.$ Develop a personalized book recommendation engine that utilizes user data, ratings, and book information to generate tailored book suggestions for individual users based on their preferences, demographics, and reading history.\n",
    "\n",
    "$ii.$ **Create User-Friendly Interface:** Develop an intuitive and user-friendly interface that facilitates seamless user registration, profile creation, and recommendation display. \n",
    "\n",
    "### Metrics Of Success\n",
    "\n",
    "The success of our recommendation engine lies in delivering personalized content to every book lover on our platform, as reflected by high conversion rates of the content provided to users. While the industry standard for mean absolute error (MAE) is 0.5, we aim to surpass these expectations by developing a recommendation engine with a maximum MAE of 0.3. This commitment ensures that our engine consistently provides accurate and tailored book suggestions, exceeding industry benchmarks and enhancing user satisfaction and engagement.\n",
    "\n"
   ]
  },
  {
   "cell_type": "markdown",
   "metadata": {},
   "source": [
    "---\n",
    "## Data Understanding\n",
    "\n",
    "The data used in this project was obtained from [Kaggle](https://www.kaggle.com/code/fahadmehfoooz/book-recommendation-system/input?select=Books.csv). \n",
    "It comprises three different tables:\n",
    "\n",
    "`Ratings`<br>\n",
    "Contains the book rating information. Ratings (`Book-Rating`) are either explicit, expressed on a scale from 1-10 (higher values denoting higher appreciation), or implicit, expressed by 0.\n",
    "\n",
    "`Books`<br>\n",
    "Books are identified by their respective `ISBN`. Invalid ISBNs have already been removed from the dataset. Moreover, some content-based information is given (`Book-Title`, `Book-Author`, `Year-Of-Publication`, `Publisher`), obtained from Amazon Web Services. Note that in case of several authors, only the first is provided. URLs linking to cover images are also given, appearing in three different flavors (Image-URL-S, Image-URL-M, Image-URL-L), i.e., small, medium, large. These URLs point to the Amazon web site.\n",
    "\n",
    "`Users`<br>\n",
    "Contains the users. Note that user IDs (`User-ID`) have been anonymized and map to integers. Demographic data is provided (Location, Age) if available. Otherwise, these fields contain NULL-values.\n",
    "\n",
    "\n",
    "Additional data was obtained from [Google Books API](https://developers.google.com/books)."
   ]
  },
  {
   "cell_type": "code",
   "execution_count": 1,
   "metadata": {},
   "outputs": [],
   "source": [
    "#Importing \n",
    "import pandas as pd\n",
    "import numpy as np\n",
    "import matplotlib.pyplot as plt\n",
    "import seaborn as sns\n",
    "import re\n"
   ]
  },
  {
   "cell_type": "markdown",
   "metadata": {},
   "source": [
    "**Loading Data**"
   ]
  },
  {
   "cell_type": "code",
   "execution_count": 195,
   "metadata": {},
   "outputs": [
    {
     "name": "stderr",
     "output_type": "stream",
     "text": [
      "C:\\Users\\KennedyOdhiambo\\AppData\\Local\\Temp\\ipykernel_3804\\939999158.py:9: DtypeWarning: Columns (3) have mixed types. Specify dtype option on import or set low_memory=False.\n",
      "  books = pd.read_csv('data/Books.csv', encoding='latin-1', on_bad_lines='skip')\n"
     ]
    }
   ],
   "source": [
    "#From Kaggle\n",
    "#importing Ratings datasets\n",
    "ratings = pd.read_csv('data/Ratings.csv', encoding= 'latin-1')\n",
    "\n",
    "# importing users dataset\n",
    "users = pd.read_csv('data/Users.csv', encoding= 'latin-1', on_bad_lines= 'skip')\n",
    "\n",
    "# importing books datasets\n",
    "books = pd.read_csv('data/Books.csv', encoding='latin-1', on_bad_lines='skip')\n",
    "\n",
    "#importing the books queried from google books API\n",
    "api_books = pd.read_csv('data/apibooks.csv')\n"
   ]
  },
  {
   "cell_type": "markdown",
   "metadata": {},
   "source": [
    "**Ratings**"
   ]
  },
  {
   "cell_type": "code",
   "execution_count": 3,
   "metadata": {},
   "outputs": [
    {
     "data": {
      "text/html": [
       "<div>\n",
       "<style scoped>\n",
       "    .dataframe tbody tr th:only-of-type {\n",
       "        vertical-align: middle;\n",
       "    }\n",
       "\n",
       "    .dataframe tbody tr th {\n",
       "        vertical-align: top;\n",
       "    }\n",
       "\n",
       "    .dataframe thead th {\n",
       "        text-align: right;\n",
       "    }\n",
       "</style>\n",
       "<table border=\"1\" class=\"dataframe\">\n",
       "  <thead>\n",
       "    <tr style=\"text-align: right;\">\n",
       "      <th></th>\n",
       "      <th>User-ID</th>\n",
       "      <th>ISBN</th>\n",
       "      <th>Book-Rating</th>\n",
       "    </tr>\n",
       "  </thead>\n",
       "  <tbody>\n",
       "    <tr>\n",
       "      <th>0</th>\n",
       "      <td>276725</td>\n",
       "      <td>034545104X</td>\n",
       "      <td>0</td>\n",
       "    </tr>\n",
       "    <tr>\n",
       "      <th>1</th>\n",
       "      <td>276726</td>\n",
       "      <td>0155061224</td>\n",
       "      <td>5</td>\n",
       "    </tr>\n",
       "    <tr>\n",
       "      <th>2</th>\n",
       "      <td>276727</td>\n",
       "      <td>0446520802</td>\n",
       "      <td>0</td>\n",
       "    </tr>\n",
       "    <tr>\n",
       "      <th>3</th>\n",
       "      <td>276729</td>\n",
       "      <td>052165615X</td>\n",
       "      <td>3</td>\n",
       "    </tr>\n",
       "    <tr>\n",
       "      <th>4</th>\n",
       "      <td>276729</td>\n",
       "      <td>0521795028</td>\n",
       "      <td>6</td>\n",
       "    </tr>\n",
       "  </tbody>\n",
       "</table>\n",
       "</div>"
      ],
      "text/plain": [
       "   User-ID        ISBN  Book-Rating\n",
       "0   276725  034545104X            0\n",
       "1   276726  0155061224            5\n",
       "2   276727  0446520802            0\n",
       "3   276729  052165615X            3\n",
       "4   276729  0521795028            6"
      ]
     },
     "execution_count": 3,
     "metadata": {},
     "output_type": "execute_result"
    }
   ],
   "source": [
    "#exploring the dataset\n",
    "ratings.head()"
   ]
  },
  {
   "cell_type": "code",
   "execution_count": 4,
   "metadata": {},
   "outputs": [
    {
     "name": "stdout",
     "output_type": "stream",
     "text": [
      "<class 'pandas.core.frame.DataFrame'>\n",
      "RangeIndex: 1149780 entries, 0 to 1149779\n",
      "Data columns (total 3 columns):\n",
      " #   Column       Non-Null Count    Dtype \n",
      "---  ------       --------------    ----- \n",
      " 0   User-ID      1149780 non-null  int64 \n",
      " 1   ISBN         1149780 non-null  object\n",
      " 2   Book-Rating  1149780 non-null  int64 \n",
      "dtypes: int64(2), object(1)\n",
      "memory usage: 26.3+ MB\n"
     ]
    }
   ],
   "source": [
    "ratings.info()"
   ]
  },
  {
   "cell_type": "code",
   "execution_count": 5,
   "metadata": {},
   "outputs": [
    {
     "data": {
      "text/plain": [
       "0"
      ]
     },
     "execution_count": 5,
     "metadata": {},
     "output_type": "execute_result"
    }
   ],
   "source": [
    "#checking for duplicates\n",
    "ratings.duplicated().sum()"
   ]
  },
  {
   "cell_type": "code",
   "execution_count": 6,
   "metadata": {},
   "outputs": [
    {
     "data": {
      "text/plain": [
       "105283"
      ]
     },
     "execution_count": 6,
     "metadata": {},
     "output_type": "execute_result"
    }
   ],
   "source": [
    "#checking for number of unique users\n",
    "ratings['User-ID'].nunique()"
   ]
  },
  {
   "cell_type": "code",
   "execution_count": 7,
   "metadata": {},
   "outputs": [
    {
     "data": {
      "text/plain": [
       "340556"
      ]
     },
     "execution_count": 7,
     "metadata": {},
     "output_type": "execute_result"
    }
   ],
   "source": [
    "#checking for unique books\n",
    "ratings['ISBN'].nunique()"
   ]
  },
  {
   "cell_type": "markdown",
   "metadata": {},
   "source": [
    "For the rating dataset;\n",
    "- The dataset has 3 features with **1,149,780** records\n",
    "- The dataset has 105,283 unique users and 340556 different books rated by the users\n",
    "- There are no missing values\n",
    "- There are no duplicates"
   ]
  },
  {
   "cell_type": "markdown",
   "metadata": {},
   "source": [
    "**Books**"
   ]
  },
  {
   "cell_type": "code",
   "execution_count": 8,
   "metadata": {},
   "outputs": [
    {
     "data": {
      "text/html": [
       "<div>\n",
       "<style scoped>\n",
       "    .dataframe tbody tr th:only-of-type {\n",
       "        vertical-align: middle;\n",
       "    }\n",
       "\n",
       "    .dataframe tbody tr th {\n",
       "        vertical-align: top;\n",
       "    }\n",
       "\n",
       "    .dataframe thead th {\n",
       "        text-align: right;\n",
       "    }\n",
       "</style>\n",
       "<table border=\"1\" class=\"dataframe\">\n",
       "  <thead>\n",
       "    <tr style=\"text-align: right;\">\n",
       "      <th></th>\n",
       "      <th>ISBN</th>\n",
       "      <th>Book-Title</th>\n",
       "      <th>Book-Author</th>\n",
       "      <th>Year-Of-Publication</th>\n",
       "      <th>Publisher</th>\n",
       "      <th>Image-URL-S</th>\n",
       "      <th>Image-URL-M</th>\n",
       "      <th>Image-URL-L</th>\n",
       "    </tr>\n",
       "  </thead>\n",
       "  <tbody>\n",
       "    <tr>\n",
       "      <th>0</th>\n",
       "      <td>0195153448</td>\n",
       "      <td>Classical Mythology</td>\n",
       "      <td>Mark P. O. Morford</td>\n",
       "      <td>2002</td>\n",
       "      <td>Oxford University Press</td>\n",
       "      <td>http://images.amazon.com/images/P/0195153448.0...</td>\n",
       "      <td>http://images.amazon.com/images/P/0195153448.0...</td>\n",
       "      <td>http://images.amazon.com/images/P/0195153448.0...</td>\n",
       "    </tr>\n",
       "    <tr>\n",
       "      <th>1</th>\n",
       "      <td>0002005018</td>\n",
       "      <td>Clara Callan</td>\n",
       "      <td>Richard Bruce Wright</td>\n",
       "      <td>2001</td>\n",
       "      <td>HarperFlamingo Canada</td>\n",
       "      <td>http://images.amazon.com/images/P/0002005018.0...</td>\n",
       "      <td>http://images.amazon.com/images/P/0002005018.0...</td>\n",
       "      <td>http://images.amazon.com/images/P/0002005018.0...</td>\n",
       "    </tr>\n",
       "    <tr>\n",
       "      <th>2</th>\n",
       "      <td>0060973129</td>\n",
       "      <td>Decision in Normandy</td>\n",
       "      <td>Carlo D'Este</td>\n",
       "      <td>1991</td>\n",
       "      <td>HarperPerennial</td>\n",
       "      <td>http://images.amazon.com/images/P/0060973129.0...</td>\n",
       "      <td>http://images.amazon.com/images/P/0060973129.0...</td>\n",
       "      <td>http://images.amazon.com/images/P/0060973129.0...</td>\n",
       "    </tr>\n",
       "    <tr>\n",
       "      <th>3</th>\n",
       "      <td>0374157065</td>\n",
       "      <td>Flu: The Story of the Great Influenza Pandemic...</td>\n",
       "      <td>Gina Bari Kolata</td>\n",
       "      <td>1999</td>\n",
       "      <td>Farrar Straus Giroux</td>\n",
       "      <td>http://images.amazon.com/images/P/0374157065.0...</td>\n",
       "      <td>http://images.amazon.com/images/P/0374157065.0...</td>\n",
       "      <td>http://images.amazon.com/images/P/0374157065.0...</td>\n",
       "    </tr>\n",
       "    <tr>\n",
       "      <th>4</th>\n",
       "      <td>0393045218</td>\n",
       "      <td>The Mummies of Urumchi</td>\n",
       "      <td>E. J. W. Barber</td>\n",
       "      <td>1999</td>\n",
       "      <td>W. W. Norton &amp;amp; Company</td>\n",
       "      <td>http://images.amazon.com/images/P/0393045218.0...</td>\n",
       "      <td>http://images.amazon.com/images/P/0393045218.0...</td>\n",
       "      <td>http://images.amazon.com/images/P/0393045218.0...</td>\n",
       "    </tr>\n",
       "  </tbody>\n",
       "</table>\n",
       "</div>"
      ],
      "text/plain": [
       "         ISBN                                         Book-Title  \\\n",
       "0  0195153448                                Classical Mythology   \n",
       "1  0002005018                                       Clara Callan   \n",
       "2  0060973129                               Decision in Normandy   \n",
       "3  0374157065  Flu: The Story of the Great Influenza Pandemic...   \n",
       "4  0393045218                             The Mummies of Urumchi   \n",
       "\n",
       "            Book-Author Year-Of-Publication                   Publisher  \\\n",
       "0    Mark P. O. Morford                2002     Oxford University Press   \n",
       "1  Richard Bruce Wright                2001       HarperFlamingo Canada   \n",
       "2          Carlo D'Este                1991             HarperPerennial   \n",
       "3      Gina Bari Kolata                1999        Farrar Straus Giroux   \n",
       "4       E. J. W. Barber                1999  W. W. Norton &amp; Company   \n",
       "\n",
       "                                         Image-URL-S  \\\n",
       "0  http://images.amazon.com/images/P/0195153448.0...   \n",
       "1  http://images.amazon.com/images/P/0002005018.0...   \n",
       "2  http://images.amazon.com/images/P/0060973129.0...   \n",
       "3  http://images.amazon.com/images/P/0374157065.0...   \n",
       "4  http://images.amazon.com/images/P/0393045218.0...   \n",
       "\n",
       "                                         Image-URL-M  \\\n",
       "0  http://images.amazon.com/images/P/0195153448.0...   \n",
       "1  http://images.amazon.com/images/P/0002005018.0...   \n",
       "2  http://images.amazon.com/images/P/0060973129.0...   \n",
       "3  http://images.amazon.com/images/P/0374157065.0...   \n",
       "4  http://images.amazon.com/images/P/0393045218.0...   \n",
       "\n",
       "                                         Image-URL-L  \n",
       "0  http://images.amazon.com/images/P/0195153448.0...  \n",
       "1  http://images.amazon.com/images/P/0002005018.0...  \n",
       "2  http://images.amazon.com/images/P/0060973129.0...  \n",
       "3  http://images.amazon.com/images/P/0374157065.0...  \n",
       "4  http://images.amazon.com/images/P/0393045218.0...  "
      ]
     },
     "execution_count": 8,
     "metadata": {},
     "output_type": "execute_result"
    }
   ],
   "source": [
    "books.head()"
   ]
  },
  {
   "cell_type": "code",
   "execution_count": 9,
   "metadata": {},
   "outputs": [
    {
     "name": "stdout",
     "output_type": "stream",
     "text": [
      "<class 'pandas.core.frame.DataFrame'>\n",
      "RangeIndex: 271360 entries, 0 to 271359\n",
      "Data columns (total 8 columns):\n",
      " #   Column               Non-Null Count   Dtype \n",
      "---  ------               --------------   ----- \n",
      " 0   ISBN                 271360 non-null  object\n",
      " 1   Book-Title           271360 non-null  object\n",
      " 2   Book-Author          271358 non-null  object\n",
      " 3   Year-Of-Publication  271360 non-null  object\n",
      " 4   Publisher            271358 non-null  object\n",
      " 5   Image-URL-S          271360 non-null  object\n",
      " 6   Image-URL-M          271360 non-null  object\n",
      " 7   Image-URL-L          271357 non-null  object\n",
      "dtypes: object(8)\n",
      "memory usage: 16.6+ MB\n"
     ]
    }
   ],
   "source": [
    "books.info()"
   ]
  },
  {
   "cell_type": "code",
   "execution_count": 10,
   "metadata": {},
   "outputs": [
    {
     "data": {
      "text/plain": [
       "ISBN                   0\n",
       "Book-Title             0\n",
       "Book-Author            2\n",
       "Year-Of-Publication    0\n",
       "Publisher              2\n",
       "Image-URL-S            0\n",
       "Image-URL-M            0\n",
       "Image-URL-L            3\n",
       "dtype: int64"
      ]
     },
     "execution_count": 10,
     "metadata": {},
     "output_type": "execute_result"
    }
   ],
   "source": [
    "books.isna().sum()"
   ]
  },
  {
   "cell_type": "code",
   "execution_count": 11,
   "metadata": {},
   "outputs": [
    {
     "data": {
      "text/plain": [
       "0"
      ]
     },
     "execution_count": 11,
     "metadata": {},
     "output_type": "execute_result"
    }
   ],
   "source": [
    "#checking duplicates\n",
    "books.duplicated().sum()"
   ]
  },
  {
   "cell_type": "markdown",
   "metadata": {},
   "source": [
    "**Users**"
   ]
  },
  {
   "cell_type": "code",
   "execution_count": 12,
   "metadata": {},
   "outputs": [
    {
     "data": {
      "text/html": [
       "<div>\n",
       "<style scoped>\n",
       "    .dataframe tbody tr th:only-of-type {\n",
       "        vertical-align: middle;\n",
       "    }\n",
       "\n",
       "    .dataframe tbody tr th {\n",
       "        vertical-align: top;\n",
       "    }\n",
       "\n",
       "    .dataframe thead th {\n",
       "        text-align: right;\n",
       "    }\n",
       "</style>\n",
       "<table border=\"1\" class=\"dataframe\">\n",
       "  <thead>\n",
       "    <tr style=\"text-align: right;\">\n",
       "      <th></th>\n",
       "      <th>User-ID</th>\n",
       "      <th>Location</th>\n",
       "      <th>Age</th>\n",
       "    </tr>\n",
       "  </thead>\n",
       "  <tbody>\n",
       "    <tr>\n",
       "      <th>0</th>\n",
       "      <td>1</td>\n",
       "      <td>nyc, new york, usa</td>\n",
       "      <td>NaN</td>\n",
       "    </tr>\n",
       "    <tr>\n",
       "      <th>1</th>\n",
       "      <td>2</td>\n",
       "      <td>stockton, california, usa</td>\n",
       "      <td>18.0</td>\n",
       "    </tr>\n",
       "    <tr>\n",
       "      <th>2</th>\n",
       "      <td>3</td>\n",
       "      <td>moscow, yukon territory, russia</td>\n",
       "      <td>NaN</td>\n",
       "    </tr>\n",
       "    <tr>\n",
       "      <th>3</th>\n",
       "      <td>4</td>\n",
       "      <td>porto, v.n.gaia, portugal</td>\n",
       "      <td>17.0</td>\n",
       "    </tr>\n",
       "    <tr>\n",
       "      <th>4</th>\n",
       "      <td>5</td>\n",
       "      <td>farnborough, hants, united kingdom</td>\n",
       "      <td>NaN</td>\n",
       "    </tr>\n",
       "  </tbody>\n",
       "</table>\n",
       "</div>"
      ],
      "text/plain": [
       "   User-ID                            Location   Age\n",
       "0        1                  nyc, new york, usa   NaN\n",
       "1        2           stockton, california, usa  18.0\n",
       "2        3     moscow, yukon territory, russia   NaN\n",
       "3        4           porto, v.n.gaia, portugal  17.0\n",
       "4        5  farnborough, hants, united kingdom   NaN"
      ]
     },
     "execution_count": 12,
     "metadata": {},
     "output_type": "execute_result"
    }
   ],
   "source": [
    "users.head()"
   ]
  },
  {
   "cell_type": "code",
   "execution_count": 13,
   "metadata": {},
   "outputs": [
    {
     "name": "stdout",
     "output_type": "stream",
     "text": [
      "<class 'pandas.core.frame.DataFrame'>\n",
      "RangeIndex: 278858 entries, 0 to 278857\n",
      "Data columns (total 3 columns):\n",
      " #   Column    Non-Null Count   Dtype  \n",
      "---  ------    --------------   -----  \n",
      " 0   User-ID   278858 non-null  int64  \n",
      " 1   Location  278858 non-null  object \n",
      " 2   Age       168096 non-null  float64\n",
      "dtypes: float64(1), int64(1), object(1)\n",
      "memory usage: 6.4+ MB\n"
     ]
    }
   ],
   "source": [
    "users.info()"
   ]
  },
  {
   "cell_type": "code",
   "execution_count": 14,
   "metadata": {},
   "outputs": [
    {
     "data": {
      "text/plain": [
       "User-ID          0\n",
       "Location         0\n",
       "Age         110762\n",
       "dtype: int64"
      ]
     },
     "execution_count": 14,
     "metadata": {},
     "output_type": "execute_result"
    }
   ],
   "source": [
    "users.isna().sum()"
   ]
  },
  {
   "cell_type": "markdown",
   "metadata": {},
   "source": [
    "### Data Cleaning\n",
    "\n",
    "**Users table**\n",
    "\n",
    "The age columns has over 110,000 missing values therefore dropping all these records will lead to loss of monumental information about the users which we can't afford to lose."
   ]
  },
  {
   "cell_type": "code",
   "execution_count": 15,
   "metadata": {},
   "outputs": [
    {
     "name": "stderr",
     "output_type": "stream",
     "text": [
      "c:\\Users\\KennedyOdhiambo\\anaconda3\\envs\\learn-env\\lib\\site-packages\\seaborn\\_oldcore.py:1498: FutureWarning: is_categorical_dtype is deprecated and will be removed in a future version. Use isinstance(dtype, CategoricalDtype) instead\n",
      "  if pd.api.types.is_categorical_dtype(vector):\n",
      "c:\\Users\\KennedyOdhiambo\\anaconda3\\envs\\learn-env\\lib\\site-packages\\seaborn\\_oldcore.py:1119: FutureWarning: use_inf_as_na option is deprecated and will be removed in a future version. Convert inf values to NaN before operating instead.\n",
      "  with pd.option_context('mode.use_inf_as_na', True):\n"
     ]
    },
    {
     "data": {
      "image/png": "[encoded data removed]",
      "text/plain": [
       "<Figure size 640x480 with 1 Axes>"
      ]
     },
     "metadata": {},
     "output_type": "display_data"
    }
   ],
   "source": [
    "#examining the distribution of `age` column\n",
    "sns.histplot(data= users, x= 'Age', kde= True)\n",
    "plt.title('Distribution of Age');"
   ]
  },
  {
   "cell_type": "markdown",
   "metadata": {},
   "source": [
    "Since the data is highly skewed, replacing the missing values with the mean wouldn't be ideal for this project. Instead, the missing values will be replaced by the median value, as it is not susceptible to the outliers."
   ]
  },
  {
   "cell_type": "code",
   "execution_count": 200,
   "metadata": {},
   "outputs": [],
   "source": [
    "#replacing the missing values\n",
    "users['Age'].fillna(users['Age'].median(), inplace= True)"
   ]
  },
  {
   "cell_type": "code",
   "execution_count": 201,
   "metadata": {},
   "outputs": [
    {
     "data": {
      "text/plain": [
       "User-ID    0\n",
       "Age        0\n",
       "City       0\n",
       "State      0\n",
       "Country    0\n",
       "dtype: int64"
      ]
     },
     "execution_count": 201,
     "metadata": {},
     "output_type": "execute_result"
    }
   ],
   "source": [
    "#sanity check\n",
    "users.isna().sum()"
   ]
  },
  {
   "cell_type": "markdown",
   "metadata": {},
   "source": [
    "From the histogram plot, it is observed that there are users with ages as low as 0 and as high as 250. However, in an ideal world, currently with advanced technology, it is assumed that the minimum age for a child to start reading by themselves would be 5 years. Additionally, individuals over 100 years would be least likely to read by themselves or interact with technology. For this project, ages below five years and over 100 years will be treated as most likely placeholders. They will be replaced with the median age."
   ]
  },
  {
   "cell_type": "code",
   "execution_count": 164,
   "metadata": {},
   "outputs": [],
   "source": [
    "# replacing the users with less than 5 year and over 100 years with median\n",
    "\n",
    "users.loc[(users['Age'] < 5) | (users['Age'] > 100)] = users['Age'].median()"
   ]
  },
  {
   "cell_type": "code",
   "execution_count": 165,
   "metadata": {},
   "outputs": [
    {
     "data": {
      "text/html": [
       "<div>\n",
       "<style scoped>\n",
       "    .dataframe tbody tr th:only-of-type {\n",
       "        vertical-align: middle;\n",
       "    }\n",
       "\n",
       "    .dataframe tbody tr th {\n",
       "        vertical-align: top;\n",
       "    }\n",
       "\n",
       "    .dataframe thead th {\n",
       "        text-align: right;\n",
       "    }\n",
       "</style>\n",
       "<table border=\"1\" class=\"dataframe\">\n",
       "  <thead>\n",
       "    <tr style=\"text-align: right;\">\n",
       "      <th></th>\n",
       "      <th>User-ID</th>\n",
       "      <th>Location</th>\n",
       "      <th>Age</th>\n",
       "    </tr>\n",
       "  </thead>\n",
       "  <tbody>\n",
       "    <tr>\n",
       "      <th>267378</th>\n",
       "      <td>267379</td>\n",
       "      <td>h-z, limburg, belgium</td>\n",
       "      <td>18.0</td>\n",
       "    </tr>\n",
       "    <tr>\n",
       "      <th>155140</th>\n",
       "      <td>155141</td>\n",
       "      <td>knoxville, tennessee, usa</td>\n",
       "      <td>31.0</td>\n",
       "    </tr>\n",
       "    <tr>\n",
       "      <th>152101</th>\n",
       "      <td>152102</td>\n",
       "      <td>boucherville, quebec, canada</td>\n",
       "      <td>32.0</td>\n",
       "    </tr>\n",
       "    <tr>\n",
       "      <th>275657</th>\n",
       "      <td>275658</td>\n",
       "      <td>roanoke, virginia, usa</td>\n",
       "      <td>32.0</td>\n",
       "    </tr>\n",
       "    <tr>\n",
       "      <th>56792</th>\n",
       "      <td>56793</td>\n",
       "      <td>greeneville, tennessee, usa</td>\n",
       "      <td>32.0</td>\n",
       "    </tr>\n",
       "    <tr>\n",
       "      <th>170610</th>\n",
       "      <td>170611</td>\n",
       "      <td>milano, lombardia, italy</td>\n",
       "      <td>32.0</td>\n",
       "    </tr>\n",
       "    <tr>\n",
       "      <th>20472</th>\n",
       "      <td>20473</td>\n",
       "      <td>ibadan nigeria, nigeria, nigeria</td>\n",
       "      <td>26.0</td>\n",
       "    </tr>\n",
       "    <tr>\n",
       "      <th>210162</th>\n",
       "      <td>210163</td>\n",
       "      <td>london, n/a, united kingdom</td>\n",
       "      <td>32.0</td>\n",
       "    </tr>\n",
       "    <tr>\n",
       "      <th>40629</th>\n",
       "      <td>40630</td>\n",
       "      <td>norfolk, virginia, usa</td>\n",
       "      <td>32.0</td>\n",
       "    </tr>\n",
       "    <tr>\n",
       "      <th>277507</th>\n",
       "      <td>277508</td>\n",
       "      <td>deventer, overijssel, netherlands</td>\n",
       "      <td>43.0</td>\n",
       "    </tr>\n",
       "  </tbody>\n",
       "</table>\n",
       "</div>"
      ],
      "text/plain": [
       "        User-ID                           Location   Age\n",
       "267378   267379              h-z, limburg, belgium  18.0\n",
       "155140   155141          knoxville, tennessee, usa  31.0\n",
       "152101   152102       boucherville, quebec, canada  32.0\n",
       "275657   275658             roanoke, virginia, usa  32.0\n",
       "56792     56793        greeneville, tennessee, usa  32.0\n",
       "170610   170611           milano, lombardia, italy  32.0\n",
       "20472     20473   ibadan nigeria, nigeria, nigeria  26.0\n",
       "210162   210163        london, n/a, united kingdom  32.0\n",
       "40629     40630             norfolk, virginia, usa  32.0\n",
       "277507   277508  deventer, overijssel, netherlands  43.0"
      ]
     },
     "execution_count": 165,
     "metadata": {},
     "output_type": "execute_result"
    }
   ],
   "source": [
    "#previewing the dataset again\n",
    "users.sample(10)"
   ]
  },
  {
   "cell_type": "code",
   "execution_count": 196,
   "metadata": {},
   "outputs": [
    {
     "name": "stdout",
     "output_type": "stream",
     "text": [
      "4659\n",
      "16044\n"
     ]
    }
   ],
   "source": [
    "# splitting a string into a list\n",
    "list_ = users.Location.str.split(\", \")\n",
    "\n",
    "# empty lists to add values\n",
    "city = []\n",
    "state = []\n",
    "country = []\n",
    "count_no_state = 0\n",
    "count_no_country = 0\n",
    "# generating a for loop to add values to the empty lists\n",
    "for i in range(0, len(list_)):\n",
    "    # removing invalid entries in city\n",
    "    if (\n",
    "        list_[i][0] == \" \"\n",
    "        or list_[i][0] == \"\"\n",
    "        or list_[i][0] == \"n/a\"\n",
    "        or list_[i][0] == \",\"\n",
    "    ):\n",
    "        city.append(\"other\")\n",
    "    else:\n",
    "        city.append(list_[i][0].lower())\n",
    "\n",
    "    if len(list_[i]) < 2:\n",
    "        state.append(\"other\")\n",
    "        country.append(\"other\")\n",
    "        count_no_state += 1\n",
    "        count_no_country += 1\n",
    "    else:\n",
    "        # removing invalid entries in state\n",
    "        if (\n",
    "            list_[i][1] == \" \"\n",
    "            or list_[i][1] == \"\"\n",
    "            or list_[i][1] == \"n/a\"\n",
    "            or list_[i][1] == \",\"\n",
    "        ):\n",
    "            state.append(\"other\")\n",
    "            count_no_state += 1\n",
    "        else:\n",
    "            state.append(list_[i][1].lower())\n",
    "\n",
    "        if len(list_[i]) < 3:\n",
    "            country.append(\"other\")\n",
    "            count_no_country += 1\n",
    "        else:\n",
    "            # removing invalid entries in country\n",
    "            if (\n",
    "                list_[i][2] == \"\"\n",
    "                or list_[i][1] == \",\"\n",
    "                or list_[i][2] == \" \"\n",
    "                or list_[i][2] == \"n/a\"\n",
    "            ):\n",
    "                country.append(\"other\")\n",
    "                count_no_country += 1\n",
    "            else:\n",
    "                country.append(list_[i][2].lower())\n",
    "\n",
    "# dropping the location column from users\n",
    "users = users.drop(\"Location\", axis=1)\n",
    "\n",
    "# handling cases where city/state from the lists is already given\n",
    "temp = []\n",
    "for ent in city:\n",
    "    c = ent.split(\"/\")\n",
    "    temp.append(c[0])\n",
    "\n",
    "# creating a dataframe for city, state and country\n",
    "df_city = pd.DataFrame(temp, columns=[\"City\"])\n",
    "df_state = pd.DataFrame(state, columns=[\"State\"])\n",
    "df_country = pd.DataFrame(country, columns=[\"Country\"])\n",
    "\n",
    "# adding the new dataframes to the original users dataframe\n",
    "users = pd.concat([users, df_city], axis=1)\n",
    "users = pd.concat([users, df_state], axis=1)\n",
    "users = pd.concat([users, df_country], axis=1)\n",
    "\n",
    "# printing the number of countries that do not have values\n",
    "print(count_no_country)\n",
    "\n",
    "# printing the states which didn't have any values\n",
    "print(count_no_state)"
   ]
  },
  {
   "cell_type": "code",
   "execution_count": 197,
   "metadata": {},
   "outputs": [
    {
     "data": {
      "text/plain": [
       "0"
      ]
     },
     "execution_count": 197,
     "metadata": {},
     "output_type": "execute_result"
    }
   ],
   "source": [
    "#sanity check\n",
    "users['Country'].isna().sum()"
   ]
  },
  {
   "cell_type": "markdown",
   "metadata": {},
   "source": [
    "Books Table"
   ]
  },
  {
   "cell_type": "code",
   "execution_count": 42,
   "metadata": {},
   "outputs": [
    {
     "data": {
      "text/html": [
       "<div>\n",
       "<style scoped>\n",
       "    .dataframe tbody tr th:only-of-type {\n",
       "        vertical-align: middle;\n",
       "    }\n",
       "\n",
       "    .dataframe tbody tr th {\n",
       "        vertical-align: top;\n",
       "    }\n",
       "\n",
       "    .dataframe thead th {\n",
       "        text-align: right;\n",
       "    }\n",
       "</style>\n",
       "<table border=\"1\" class=\"dataframe\">\n",
       "  <thead>\n",
       "    <tr style=\"text-align: right;\">\n",
       "      <th></th>\n",
       "      <th>ISBN</th>\n",
       "      <th>Book-Title</th>\n",
       "      <th>Book-Author</th>\n",
       "      <th>Year-Of-Publication</th>\n",
       "      <th>Publisher</th>\n",
       "      <th>Image-URL-S</th>\n",
       "      <th>Image-URL-M</th>\n",
       "      <th>Image-URL-L</th>\n",
       "    </tr>\n",
       "  </thead>\n",
       "  <tbody>\n",
       "    <tr>\n",
       "      <th>195305</th>\n",
       "      <td>0863040586</td>\n",
       "      <td>The Magic Monastery</td>\n",
       "      <td>Idries Shah</td>\n",
       "      <td>1991</td>\n",
       "      <td>Octagon Press, Limited</td>\n",
       "      <td>http://images.amazon.com/images/P/0863040586.0...</td>\n",
       "      <td>http://images.amazon.com/images/P/0863040586.0...</td>\n",
       "      <td>http://images.amazon.com/images/P/0863040586.0...</td>\n",
       "    </tr>\n",
       "    <tr>\n",
       "      <th>74833</th>\n",
       "      <td>0373520069</td>\n",
       "      <td>Unhappily Unwed (Yours Truly #6) (Silhouette Y...</td>\n",
       "      <td>Judy Collins</td>\n",
       "      <td>1995</td>\n",
       "      <td>Silhouette</td>\n",
       "      <td>http://images.amazon.com/images/P/0373520069.0...</td>\n",
       "      <td>http://images.amazon.com/images/P/0373520069.0...</td>\n",
       "      <td>http://images.amazon.com/images/P/0373520069.0...</td>\n",
       "    </tr>\n",
       "    <tr>\n",
       "      <th>49237</th>\n",
       "      <td>0786863978</td>\n",
       "      <td>Pour Your Heart Into It: How Starbuck Built a ...</td>\n",
       "      <td>Howard Schultz</td>\n",
       "      <td>1997</td>\n",
       "      <td>Hyperion</td>\n",
       "      <td>http://images.amazon.com/images/P/0786863978.0...</td>\n",
       "      <td>http://images.amazon.com/images/P/0786863978.0...</td>\n",
       "      <td>http://images.amazon.com/images/P/0786863978.0...</td>\n",
       "    </tr>\n",
       "    <tr>\n",
       "      <th>209728</th>\n",
       "      <td>0918273811</td>\n",
       "      <td>The woman who read novels ; and, Peacetime: Tw...</td>\n",
       "      <td>Constance Urdang</td>\n",
       "      <td>1990</td>\n",
       "      <td>Coffee House Press</td>\n",
       "      <td>http://images.amazon.com/images/P/0918273811.0...</td>\n",
       "      <td>http://images.amazon.com/images/P/0918273811.0...</td>\n",
       "      <td>http://images.amazon.com/images/P/0918273811.0...</td>\n",
       "    </tr>\n",
       "    <tr>\n",
       "      <th>145055</th>\n",
       "      <td>1881559769</td>\n",
       "      <td>Car-Free in Boston: A Guide for Locals and Vis...</td>\n",
       "      <td>Jeff Perk</td>\n",
       "      <td>2003</td>\n",
       "      <td>Rubel Bike Maps</td>\n",
       "      <td>http://images.amazon.com/images/P/1881559769.0...</td>\n",
       "      <td>http://images.amazon.com/images/P/1881559769.0...</td>\n",
       "      <td>http://images.amazon.com/images/P/1881559769.0...</td>\n",
       "    </tr>\n",
       "    <tr>\n",
       "      <th>75943</th>\n",
       "      <td>1562055593</td>\n",
       "      <td>Digital Character Animation</td>\n",
       "      <td>George Maestri</td>\n",
       "      <td>1996</td>\n",
       "      <td>New Riders Publishing</td>\n",
       "      <td>http://images.amazon.com/images/P/1562055593.0...</td>\n",
       "      <td>http://images.amazon.com/images/P/1562055593.0...</td>\n",
       "      <td>http://images.amazon.com/images/P/1562055593.0...</td>\n",
       "    </tr>\n",
       "  </tbody>\n",
       "</table>\n",
       "</div>"
      ],
      "text/plain": [
       "              ISBN                                         Book-Title  \\\n",
       "195305  0863040586                                The Magic Monastery   \n",
       "74833   0373520069  Unhappily Unwed (Yours Truly #6) (Silhouette Y...   \n",
       "49237   0786863978  Pour Your Heart Into It: How Starbuck Built a ...   \n",
       "209728  0918273811  The woman who read novels ; and, Peacetime: Tw...   \n",
       "145055  1881559769  Car-Free in Boston: A Guide for Locals and Vis...   \n",
       "75943   1562055593                        Digital Character Animation   \n",
       "\n",
       "             Book-Author Year-Of-Publication               Publisher  \\\n",
       "195305       Idries Shah                1991  Octagon Press, Limited   \n",
       "74833       Judy Collins                1995              Silhouette   \n",
       "49237     Howard Schultz                1997                Hyperion   \n",
       "209728  Constance Urdang                1990      Coffee House Press   \n",
       "145055         Jeff Perk                2003         Rubel Bike Maps   \n",
       "75943     George Maestri                1996   New Riders Publishing   \n",
       "\n",
       "                                              Image-URL-S  \\\n",
       "195305  http://images.amazon.com/images/P/0863040586.0...   \n",
       "74833   http://images.amazon.com/images/P/0373520069.0...   \n",
       "49237   http://images.amazon.com/images/P/0786863978.0...   \n",
       "209728  http://images.amazon.com/images/P/0918273811.0...   \n",
       "145055  http://images.amazon.com/images/P/1881559769.0...   \n",
       "75943   http://images.amazon.com/images/P/1562055593.0...   \n",
       "\n",
       "                                              Image-URL-M  \\\n",
       "195305  http://images.amazon.com/images/P/0863040586.0...   \n",
       "74833   http://images.amazon.com/images/P/0373520069.0...   \n",
       "49237   http://images.amazon.com/images/P/0786863978.0...   \n",
       "209728  http://images.amazon.com/images/P/0918273811.0...   \n",
       "145055  http://images.amazon.com/images/P/1881559769.0...   \n",
       "75943   http://images.amazon.com/images/P/1562055593.0...   \n",
       "\n",
       "                                              Image-URL-L  \n",
       "195305  http://images.amazon.com/images/P/0863040586.0...  \n",
       "74833   http://images.amazon.com/images/P/0373520069.0...  \n",
       "49237   http://images.amazon.com/images/P/0786863978.0...  \n",
       "209728  http://images.amazon.com/images/P/0918273811.0...  \n",
       "145055  http://images.amazon.com/images/P/1881559769.0...  \n",
       "75943   http://images.amazon.com/images/P/1562055593.0...  "
      ]
     },
     "execution_count": 42,
     "metadata": {},
     "output_type": "execute_result"
    }
   ],
   "source": [
    "books.sample(6)"
   ]
  },
  {
   "cell_type": "markdown",
   "metadata": {},
   "source": [
    "The International Standard Book Number (ISBN) is a numeric commercial book identifier that is intended to be unique. ISBNs are purchased or received by publishers from an affiliate of the International ISBN Agency. The ISBN is ten digits long if assigned before 2007 and thirteen digits long if assigned on or after 1 January 2007. However, the data utilized in this project was collected in 2004, therefore, ISBNs less than 10 digits or more than 10 would be expected to be invalid."
   ]
  },
  {
   "cell_type": "code",
   "execution_count": 43,
   "metadata": {},
   "outputs": [],
   "source": [
    "#removing the whitespaces if there is any and lower all alphabets the the ISBNS\n",
    "books['ISBN'] = books['ISBN'].str.replace(' ', '').str.lower()"
   ]
  },
  {
   "cell_type": "code",
   "execution_count": 44,
   "metadata": {},
   "outputs": [
    {
     "data": {
      "text/plain": [
       "314"
      ]
     },
     "execution_count": 44,
     "metadata": {},
     "output_type": "execute_result"
    }
   ],
   "source": [
    "#Identifying duplicate ISBN\n",
    "books['ISBN'].duplicated().sum()"
   ]
  },
  {
   "cell_type": "markdown",
   "metadata": {},
   "source": [
    "Since ISBNs are intended to be unique for each book, all the duplicated ISBNs are dropped."
   ]
  },
  {
   "cell_type": "code",
   "execution_count": 45,
   "metadata": {},
   "outputs": [],
   "source": [
    "#dropping the duplicates\n",
    "books.drop_duplicates(subset=[\"ISBN\"], inplace=True)"
   ]
  },
  {
   "cell_type": "code",
   "execution_count": 46,
   "metadata": {},
   "outputs": [
    {
     "data": {
      "text/plain": [
       "0"
      ]
     },
     "execution_count": 46,
     "metadata": {},
     "output_type": "execute_result"
    }
   ],
   "source": [
    "#sanity check\n",
    "books['ISBN'].duplicated().sum()"
   ]
  },
  {
   "cell_type": "code",
   "execution_count": 47,
   "metadata": {},
   "outputs": [
    {
     "data": {
      "text/html": [
       "<div>\n",
       "<style scoped>\n",
       "    .dataframe tbody tr th:only-of-type {\n",
       "        vertical-align: middle;\n",
       "    }\n",
       "\n",
       "    .dataframe tbody tr th {\n",
       "        vertical-align: top;\n",
       "    }\n",
       "\n",
       "    .dataframe thead th {\n",
       "        text-align: right;\n",
       "    }\n",
       "</style>\n",
       "<table border=\"1\" class=\"dataframe\">\n",
       "  <thead>\n",
       "    <tr style=\"text-align: right;\">\n",
       "      <th></th>\n",
       "      <th>ISBN</th>\n",
       "      <th>Book-Title</th>\n",
       "      <th>Book-Author</th>\n",
       "      <th>Year-Of-Publication</th>\n",
       "      <th>Publisher</th>\n",
       "      <th>Image-URL-S</th>\n",
       "      <th>Image-URL-M</th>\n",
       "      <th>Image-URL-L</th>\n",
       "    </tr>\n",
       "  </thead>\n",
       "  <tbody>\n",
       "    <tr>\n",
       "      <th>111808</th>\n",
       "      <td>0486404242\\t</td>\n",
       "      <td>War in Kind: And Other Poems (Dover Thrift Edi...</td>\n",
       "      <td>Stephen Crane</td>\n",
       "      <td>1998</td>\n",
       "      <td>Dover Publications</td>\n",
       "      <td>http://images.amazon.com/images/P/0486404242.0...</td>\n",
       "      <td>http://images.amazon.com/images/P/0486404242.0...</td>\n",
       "      <td>http://images.amazon.com/images/P/0486404242.0...</td>\n",
       "    </tr>\n",
       "    <tr>\n",
       "      <th>171206</th>\n",
       "      <td>3518365479&lt;90</td>\n",
       "      <td>Suhrkamp TaschenbÃ?ÃÂ¼cher, Nr.47, Frost</td>\n",
       "      <td>Thomas Bernhard</td>\n",
       "      <td>1972</td>\n",
       "      <td>Suhrkamp</td>\n",
       "      <td>http://images.amazon.com/images/P/3518365479.0...</td>\n",
       "      <td>http://images.amazon.com/images/P/3518365479.0...</td>\n",
       "      <td>http://images.amazon.com/images/P/3518365479.0...</td>\n",
       "    </tr>\n",
       "    <tr>\n",
       "      <th>251424</th>\n",
       "      <td>34422480273</td>\n",
       "      <td>Diamond Age. Die Grenzwelt.</td>\n",
       "      <td>Neal Stephenson</td>\n",
       "      <td>2000</td>\n",
       "      <td>Goldmann</td>\n",
       "      <td>http://images.amazon.com/images/P/3442248027.0...</td>\n",
       "      <td>http://images.amazon.com/images/P/3442248027.0...</td>\n",
       "      <td>http://images.amazon.com/images/P/3442248027.0...</td>\n",
       "    </tr>\n",
       "    <tr>\n",
       "      <th>251649</th>\n",
       "      <td>03857222060</td>\n",
       "      <td>Balzac and the Little Chinese Seamstress : A N...</td>\n",
       "      <td>DAI SIJIE</td>\n",
       "      <td>2002</td>\n",
       "      <td>Anchor</td>\n",
       "      <td>http://images.amazon.com/images/P/0385722206.0...</td>\n",
       "      <td>http://images.amazon.com/images/P/0385722206.0...</td>\n",
       "      <td>http://images.amazon.com/images/P/0385722206.0...</td>\n",
       "    </tr>\n",
       "  </tbody>\n",
       "</table>\n",
       "</div>"
      ],
      "text/plain": [
       "                 ISBN                                         Book-Title  \\\n",
       "111808   0486404242\\t  War in Kind: And Other Poems (Dover Thrift Edi...   \n",
       "171206  3518365479<90         Suhrkamp TaschenbÃ?ÃÂ¼cher, Nr.47, Frost   \n",
       "251424    34422480273                        Diamond Age. Die Grenzwelt.   \n",
       "251649    03857222060  Balzac and the Little Chinese Seamstress : A N...   \n",
       "\n",
       "            Book-Author Year-Of-Publication           Publisher  \\\n",
       "111808    Stephen Crane                1998  Dover Publications   \n",
       "171206  Thomas Bernhard                1972            Suhrkamp   \n",
       "251424  Neal Stephenson                2000            Goldmann   \n",
       "251649        DAI SIJIE                2002              Anchor   \n",
       "\n",
       "                                              Image-URL-S  \\\n",
       "111808  http://images.amazon.com/images/P/0486404242.0...   \n",
       "171206  http://images.amazon.com/images/P/3518365479.0...   \n",
       "251424  http://images.amazon.com/images/P/3442248027.0...   \n",
       "251649  http://images.amazon.com/images/P/0385722206.0...   \n",
       "\n",
       "                                              Image-URL-M  \\\n",
       "111808  http://images.amazon.com/images/P/0486404242.0...   \n",
       "171206  http://images.amazon.com/images/P/3518365479.0...   \n",
       "251424  http://images.amazon.com/images/P/3442248027.0...   \n",
       "251649  http://images.amazon.com/images/P/0385722206.0...   \n",
       "\n",
       "                                              Image-URL-L  \n",
       "111808  http://images.amazon.com/images/P/0486404242.0...  \n",
       "171206  http://images.amazon.com/images/P/3518365479.0...  \n",
       "251424  http://images.amazon.com/images/P/3442248027.0...  \n",
       "251649  http://images.amazon.com/images/P/0385722206.0...  "
      ]
     },
     "execution_count": 47,
     "metadata": {},
     "output_type": "execute_result"
    }
   ],
   "source": [
    "#Identifying with ISBNS less than 10 and more than 10\n",
    "books.loc[(books['ISBN'].apply(lambda x: len(x) > 10)) | (books['ISBN'].apply(lambda x: len(x) < 10))]"
   ]
  },
  {
   "cell_type": "code",
   "execution_count": 48,
   "metadata": {},
   "outputs": [],
   "source": [
    "#droping the records\n",
    "books.drop(books.loc[(books['ISBN']\n",
    "                      .apply(lambda x: len(x) > 10)) | (books['ISBN']\n",
    "                                                        .apply(lambda x: len(x) < 10))].index, inplace=True)"
   ]
  },
  {
   "cell_type": "code",
   "execution_count": 49,
   "metadata": {},
   "outputs": [
    {
     "data": {
      "text/html": [
       "<div>\n",
       "<style scoped>\n",
       "    .dataframe tbody tr th:only-of-type {\n",
       "        vertical-align: middle;\n",
       "    }\n",
       "\n",
       "    .dataframe tbody tr th {\n",
       "        vertical-align: top;\n",
       "    }\n",
       "\n",
       "    .dataframe thead th {\n",
       "        text-align: right;\n",
       "    }\n",
       "</style>\n",
       "<table border=\"1\" class=\"dataframe\">\n",
       "  <thead>\n",
       "    <tr style=\"text-align: right;\">\n",
       "      <th></th>\n",
       "      <th>ISBN</th>\n",
       "      <th>Book-Title</th>\n",
       "      <th>Book-Author</th>\n",
       "      <th>Year-Of-Publication</th>\n",
       "      <th>Publisher</th>\n",
       "      <th>Image-URL-S</th>\n",
       "      <th>Image-URL-M</th>\n",
       "      <th>Image-URL-L</th>\n",
       "    </tr>\n",
       "  </thead>\n",
       "  <tbody>\n",
       "  </tbody>\n",
       "</table>\n",
       "</div>"
      ],
      "text/plain": [
       "Empty DataFrame\n",
       "Columns: [ISBN, Book-Title, Book-Author, Year-Of-Publication, Publisher, Image-URL-S, Image-URL-M, Image-URL-L]\n",
       "Index: []"
      ]
     },
     "execution_count": 49,
     "metadata": {},
     "output_type": "execute_result"
    }
   ],
   "source": [
    "#sanity check\n",
    "books.loc[(books['ISBN'].apply(lambda x: len(x) > 10)) | (books['ISBN'].apply(lambda x: len(x) < 10))]"
   ]
  },
  {
   "cell_type": "code",
   "execution_count": 51,
   "metadata": {},
   "outputs": [
    {
     "data": {
      "text/html": [
       "<div>\n",
       "<style scoped>\n",
       "    .dataframe tbody tr th:only-of-type {\n",
       "        vertical-align: middle;\n",
       "    }\n",
       "\n",
       "    .dataframe tbody tr th {\n",
       "        vertical-align: top;\n",
       "    }\n",
       "\n",
       "    .dataframe thead th {\n",
       "        text-align: right;\n",
       "    }\n",
       "</style>\n",
       "<table border=\"1\" class=\"dataframe\">\n",
       "  <thead>\n",
       "    <tr style=\"text-align: right;\">\n",
       "      <th></th>\n",
       "      <th>ISBN</th>\n",
       "      <th>Book-Title</th>\n",
       "      <th>Book-Author</th>\n",
       "      <th>Year-Of-Publication</th>\n",
       "      <th>Publisher</th>\n",
       "    </tr>\n",
       "  </thead>\n",
       "  <tbody>\n",
       "    <tr>\n",
       "      <th>145308</th>\n",
       "      <td>0882664700</td>\n",
       "      <td>Let's Grow: 72 Gardening Adventures With Children</td>\n",
       "      <td>Linda Tilgner</td>\n",
       "      <td>1988</td>\n",
       "      <td>Storey Books</td>\n",
       "    </tr>\n",
       "    <tr>\n",
       "      <th>60468</th>\n",
       "      <td>0380728850</td>\n",
       "      <td>The True Confessions of Charlotte Doyle</td>\n",
       "      <td>Avi</td>\n",
       "      <td>2004</td>\n",
       "      <td>HarperTrophy</td>\n",
       "    </tr>\n",
       "    <tr>\n",
       "      <th>171209</th>\n",
       "      <td>3492227651</td>\n",
       "      <td>Der Unfisch.</td>\n",
       "      <td>Michael KÃ?ÃÂ¶hlmeier</td>\n",
       "      <td>1999</td>\n",
       "      <td>Piper</td>\n",
       "    </tr>\n",
       "    <tr>\n",
       "      <th>111546</th>\n",
       "      <td>0373245130</td>\n",
       "      <td>Michael's Discovery  (The Devaneys)</td>\n",
       "      <td>Sherryl Woods</td>\n",
       "      <td>2003</td>\n",
       "      <td>Silhouette</td>\n",
       "    </tr>\n",
       "    <tr>\n",
       "      <th>265828</th>\n",
       "      <td>0912880074</td>\n",
       "      <td>Behind the Mountains</td>\n",
       "      <td>Oliver LA Farge</td>\n",
       "      <td>1994</td>\n",
       "      <td>Charles Publishing Company</td>\n",
       "    </tr>\n",
       "  </tbody>\n",
       "</table>\n",
       "</div>"
      ],
      "text/plain": [
       "              ISBN                                         Book-Title  \\\n",
       "145308  0882664700  Let's Grow: 72 Gardening Adventures With Children   \n",
       "60468   0380728850            The True Confessions of Charlotte Doyle   \n",
       "171209  3492227651                                       Der Unfisch.   \n",
       "111546  0373245130                Michael's Discovery  (The Devaneys)   \n",
       "265828  0912880074                               Behind the Mountains   \n",
       "\n",
       "                    Book-Author Year-Of-Publication  \\\n",
       "145308            Linda Tilgner                1988   \n",
       "60468                       Avi                2004   \n",
       "171209  Michael KÃ?ÃÂ¶hlmeier                1999   \n",
       "111546            Sherryl Woods                2003   \n",
       "265828          Oliver LA Farge                1994   \n",
       "\n",
       "                         Publisher  \n",
       "145308                Storey Books  \n",
       "60468                 HarperTrophy  \n",
       "171209                       Piper  \n",
       "111546                  Silhouette  \n",
       "265828  Charles Publishing Company  "
      ]
     },
     "execution_count": 51,
     "metadata": {},
     "output_type": "execute_result"
    }
   ],
   "source": [
    "#previewing the the cleaned books\n",
    "books.sample(5)"
   ]
  },
  {
   "cell_type": "markdown",
   "metadata": {},
   "source": [
    "Api books"
   ]
  },
  {
   "cell_type": "code",
   "execution_count": 52,
   "metadata": {},
   "outputs": [
    {
     "data": {
      "text/html": [
       "<div>\n",
       "<style scoped>\n",
       "    .dataframe tbody tr th:only-of-type {\n",
       "        vertical-align: middle;\n",
       "    }\n",
       "\n",
       "    .dataframe tbody tr th {\n",
       "        vertical-align: top;\n",
       "    }\n",
       "\n",
       "    .dataframe thead th {\n",
       "        text-align: right;\n",
       "    }\n",
       "</style>\n",
       "<table border=\"1\" class=\"dataframe\">\n",
       "  <thead>\n",
       "    <tr style=\"text-align: right;\">\n",
       "      <th></th>\n",
       "      <th>authors</th>\n",
       "      <th>published_date</th>\n",
       "      <th>description</th>\n",
       "      <th>isbn_10</th>\n",
       "      <th>isbn_13</th>\n",
       "      <th>page_count</th>\n",
       "      <th>categories</th>\n",
       "      <th>maturity_rating</th>\n",
       "      <th>language</th>\n",
       "      <th>join_isbn_10</th>\n",
       "    </tr>\n",
       "  </thead>\n",
       "  <tbody>\n",
       "    <tr>\n",
       "      <th>0</th>\n",
       "      <td>['Mark P. O. Morford', 'Robert J. Lenardon']</td>\n",
       "      <td>2003</td>\n",
       "      <td>Provides an introduction to classical myths pl...</td>\n",
       "      <td>0195153448</td>\n",
       "      <td>9780195153446.0</td>\n",
       "      <td>808.0</td>\n",
       "      <td>['Social Science']</td>\n",
       "      <td>NOT_MATURE</td>\n",
       "      <td>en</td>\n",
       "      <td>0195153448</td>\n",
       "    </tr>\n",
       "    <tr>\n",
       "      <th>1</th>\n",
       "      <td>NaN</td>\n",
       "      <td>NaN</td>\n",
       "      <td>NaN</td>\n",
       "      <td>NaN</td>\n",
       "      <td>NaN</td>\n",
       "      <td>NaN</td>\n",
       "      <td>NaN</td>\n",
       "      <td>NaN</td>\n",
       "      <td>NaN</td>\n",
       "      <td>0002005018</td>\n",
       "    </tr>\n",
       "    <tr>\n",
       "      <th>2</th>\n",
       "      <td>[\"Carlo D'Este\"]</td>\n",
       "      <td>1991</td>\n",
       "      <td>Here, for the first time in paperback, is an o...</td>\n",
       "      <td>IND:30000026059836</td>\n",
       "      <td>NaN</td>\n",
       "      <td>582.0</td>\n",
       "      <td>['1940-1949']</td>\n",
       "      <td>NOT_MATURE</td>\n",
       "      <td>en</td>\n",
       "      <td>0060973129</td>\n",
       "    </tr>\n",
       "    <tr>\n",
       "      <th>3</th>\n",
       "      <td>['Gina Bari Kolata']</td>\n",
       "      <td>1999</td>\n",
       "      <td>Describes the great flu epidemic of 1918, an o...</td>\n",
       "      <td>9780374157067</td>\n",
       "      <td>374157065.0</td>\n",
       "      <td>367.0</td>\n",
       "      <td>['Medical']</td>\n",
       "      <td>NOT_MATURE</td>\n",
       "      <td>en</td>\n",
       "      <td>0374157065</td>\n",
       "    </tr>\n",
       "    <tr>\n",
       "      <th>4</th>\n",
       "      <td>['E. J. W. Barber']</td>\n",
       "      <td>1999</td>\n",
       "      <td>A look at the incredibly well-preserved ancien...</td>\n",
       "      <td>0393045218</td>\n",
       "      <td>9780393045215.0</td>\n",
       "      <td>240.0</td>\n",
       "      <td>['Design']</td>\n",
       "      <td>NOT_MATURE</td>\n",
       "      <td>en</td>\n",
       "      <td>0393045218</td>\n",
       "    </tr>\n",
       "  </tbody>\n",
       "</table>\n",
       "</div>"
      ],
      "text/plain": [
       "                                        authors published_date  \\\n",
       "0  ['Mark P. O. Morford', 'Robert J. Lenardon']           2003   \n",
       "1                                           NaN            NaN   \n",
       "2                              [\"Carlo D'Este\"]           1991   \n",
       "3                          ['Gina Bari Kolata']           1999   \n",
       "4                           ['E. J. W. Barber']           1999   \n",
       "\n",
       "                                         description             isbn_10  \\\n",
       "0  Provides an introduction to classical myths pl...          0195153448   \n",
       "1                                                NaN                 NaN   \n",
       "2  Here, for the first time in paperback, is an o...  IND:30000026059836   \n",
       "3  Describes the great flu epidemic of 1918, an o...       9780374157067   \n",
       "4  A look at the incredibly well-preserved ancien...          0393045218   \n",
       "\n",
       "           isbn_13  page_count          categories maturity_rating language  \\\n",
       "0  9780195153446.0       808.0  ['Social Science']      NOT_MATURE       en   \n",
       "1              NaN         NaN                 NaN             NaN      NaN   \n",
       "2              NaN       582.0       ['1940-1949']      NOT_MATURE       en   \n",
       "3      374157065.0       367.0         ['Medical']      NOT_MATURE       en   \n",
       "4  9780393045215.0       240.0          ['Design']      NOT_MATURE       en   \n",
       "\n",
       "  join_isbn_10  \n",
       "0   0195153448  \n",
       "1   0002005018  \n",
       "2   0060973129  \n",
       "3   0374157065  \n",
       "4   0393045218  "
      ]
     },
     "execution_count": 52,
     "metadata": {},
     "output_type": "execute_result"
    }
   ],
   "source": [
    "#previewing the api books\n",
    "api_books.head()"
   ]
  },
  {
   "cell_type": "code",
   "execution_count": 53,
   "metadata": {},
   "outputs": [],
   "source": [
    "#dropping the ISBN_10 and ISBN_13 since we shall use the last column join_isbn_10\n",
    "api_books.drop(columns= ['isbn_10','isbn_13'], inplace= True)"
   ]
  },
  {
   "cell_type": "code",
   "execution_count": 54,
   "metadata": {},
   "outputs": [
    {
     "data": {
      "text/html": [
       "<div>\n",
       "<style scoped>\n",
       "    .dataframe tbody tr th:only-of-type {\n",
       "        vertical-align: middle;\n",
       "    }\n",
       "\n",
       "    .dataframe tbody tr th {\n",
       "        vertical-align: top;\n",
       "    }\n",
       "\n",
       "    .dataframe thead th {\n",
       "        text-align: right;\n",
       "    }\n",
       "</style>\n",
       "<table border=\"1\" class=\"dataframe\">\n",
       "  <thead>\n",
       "    <tr style=\"text-align: right;\">\n",
       "      <th></th>\n",
       "      <th>authors</th>\n",
       "      <th>published_date</th>\n",
       "      <th>description</th>\n",
       "      <th>page_count</th>\n",
       "      <th>categories</th>\n",
       "      <th>maturity_rating</th>\n",
       "      <th>language</th>\n",
       "      <th>join_isbn_10</th>\n",
       "    </tr>\n",
       "  </thead>\n",
       "  <tbody>\n",
       "    <tr>\n",
       "      <th>0</th>\n",
       "      <td>['Mark P. O. Morford', 'Robert J. Lenardon']</td>\n",
       "      <td>2003</td>\n",
       "      <td>Provides an introduction to classical myths pl...</td>\n",
       "      <td>808.0</td>\n",
       "      <td>['Social Science']</td>\n",
       "      <td>NOT_MATURE</td>\n",
       "      <td>en</td>\n",
       "      <td>0195153448</td>\n",
       "    </tr>\n",
       "    <tr>\n",
       "      <th>1</th>\n",
       "      <td>NaN</td>\n",
       "      <td>NaN</td>\n",
       "      <td>NaN</td>\n",
       "      <td>NaN</td>\n",
       "      <td>NaN</td>\n",
       "      <td>NaN</td>\n",
       "      <td>NaN</td>\n",
       "      <td>0002005018</td>\n",
       "    </tr>\n",
       "    <tr>\n",
       "      <th>2</th>\n",
       "      <td>[\"Carlo D'Este\"]</td>\n",
       "      <td>1991</td>\n",
       "      <td>Here, for the first time in paperback, is an o...</td>\n",
       "      <td>582.0</td>\n",
       "      <td>['1940-1949']</td>\n",
       "      <td>NOT_MATURE</td>\n",
       "      <td>en</td>\n",
       "      <td>0060973129</td>\n",
       "    </tr>\n",
       "    <tr>\n",
       "      <th>3</th>\n",
       "      <td>['Gina Bari Kolata']</td>\n",
       "      <td>1999</td>\n",
       "      <td>Describes the great flu epidemic of 1918, an o...</td>\n",
       "      <td>367.0</td>\n",
       "      <td>['Medical']</td>\n",
       "      <td>NOT_MATURE</td>\n",
       "      <td>en</td>\n",
       "      <td>0374157065</td>\n",
       "    </tr>\n",
       "    <tr>\n",
       "      <th>4</th>\n",
       "      <td>['E. J. W. Barber']</td>\n",
       "      <td>1999</td>\n",
       "      <td>A look at the incredibly well-preserved ancien...</td>\n",
       "      <td>240.0</td>\n",
       "      <td>['Design']</td>\n",
       "      <td>NOT_MATURE</td>\n",
       "      <td>en</td>\n",
       "      <td>0393045218</td>\n",
       "    </tr>\n",
       "  </tbody>\n",
       "</table>\n",
       "</div>"
      ],
      "text/plain": [
       "                                        authors published_date  \\\n",
       "0  ['Mark P. O. Morford', 'Robert J. Lenardon']           2003   \n",
       "1                                           NaN            NaN   \n",
       "2                              [\"Carlo D'Este\"]           1991   \n",
       "3                          ['Gina Bari Kolata']           1999   \n",
       "4                           ['E. J. W. Barber']           1999   \n",
       "\n",
       "                                         description  page_count  \\\n",
       "0  Provides an introduction to classical myths pl...       808.0   \n",
       "1                                                NaN         NaN   \n",
       "2  Here, for the first time in paperback, is an o...       582.0   \n",
       "3  Describes the great flu epidemic of 1918, an o...       367.0   \n",
       "4  A look at the incredibly well-preserved ancien...       240.0   \n",
       "\n",
       "           categories maturity_rating language join_isbn_10  \n",
       "0  ['Social Science']      NOT_MATURE       en   0195153448  \n",
       "1                 NaN             NaN      NaN   0002005018  \n",
       "2       ['1940-1949']      NOT_MATURE       en   0060973129  \n",
       "3         ['Medical']      NOT_MATURE       en   0374157065  \n",
       "4          ['Design']      NOT_MATURE       en   0393045218  "
      ]
     },
     "execution_count": 54,
     "metadata": {},
     "output_type": "execute_result"
    }
   ],
   "source": [
    "api_books.head()"
   ]
  },
  {
   "cell_type": "code",
   "execution_count": 122,
   "metadata": {},
   "outputs": [],
   "source": [
    "#merging the books from api and the cleaned books\n",
    "\n",
    "book_df = books.merge(right= api_books, how= 'inner', right_on= 'join_isbn_10', left_on= 'ISBN')"
   ]
  },
  {
   "cell_type": "code",
   "execution_count": 123,
   "metadata": {},
   "outputs": [
    {
     "data": {
      "text/plain": [
       "(249026, 13)"
      ]
     },
     "execution_count": 123,
     "metadata": {},
     "output_type": "execute_result"
    }
   ],
   "source": [
    "book_df.shape"
   ]
  },
  {
   "cell_type": "code",
   "execution_count": 124,
   "metadata": {},
   "outputs": [
    {
     "data": {
      "text/html": [
       "<div>\n",
       "<style scoped>\n",
       "    .dataframe tbody tr th:only-of-type {\n",
       "        vertical-align: middle;\n",
       "    }\n",
       "\n",
       "    .dataframe tbody tr th {\n",
       "        vertical-align: top;\n",
       "    }\n",
       "\n",
       "    .dataframe thead th {\n",
       "        text-align: right;\n",
       "    }\n",
       "</style>\n",
       "<table border=\"1\" class=\"dataframe\">\n",
       "  <thead>\n",
       "    <tr style=\"text-align: right;\">\n",
       "      <th></th>\n",
       "      <th>ISBN</th>\n",
       "      <th>Book-Title</th>\n",
       "      <th>Book-Author</th>\n",
       "      <th>Year-Of-Publication</th>\n",
       "      <th>Publisher</th>\n",
       "      <th>authors</th>\n",
       "      <th>published_date</th>\n",
       "      <th>description</th>\n",
       "      <th>page_count</th>\n",
       "      <th>categories</th>\n",
       "      <th>maturity_rating</th>\n",
       "      <th>language</th>\n",
       "      <th>join_isbn_10</th>\n",
       "    </tr>\n",
       "  </thead>\n",
       "  <tbody>\n",
       "    <tr>\n",
       "      <th>0</th>\n",
       "      <td>0195153448</td>\n",
       "      <td>Classical Mythology</td>\n",
       "      <td>Mark P. O. Morford</td>\n",
       "      <td>2002</td>\n",
       "      <td>Oxford University Press</td>\n",
       "      <td>['Mark P. O. Morford', 'Robert J. Lenardon']</td>\n",
       "      <td>2003</td>\n",
       "      <td>Provides an introduction to classical myths pl...</td>\n",
       "      <td>808.0</td>\n",
       "      <td>['Social Science']</td>\n",
       "      <td>NOT_MATURE</td>\n",
       "      <td>en</td>\n",
       "      <td>0195153448</td>\n",
       "    </tr>\n",
       "    <tr>\n",
       "      <th>1</th>\n",
       "      <td>0002005018</td>\n",
       "      <td>Clara Callan</td>\n",
       "      <td>Richard Bruce Wright</td>\n",
       "      <td>2001</td>\n",
       "      <td>HarperFlamingo Canada</td>\n",
       "      <td>NaN</td>\n",
       "      <td>NaN</td>\n",
       "      <td>NaN</td>\n",
       "      <td>NaN</td>\n",
       "      <td>NaN</td>\n",
       "      <td>NaN</td>\n",
       "      <td>NaN</td>\n",
       "      <td>0002005018</td>\n",
       "    </tr>\n",
       "    <tr>\n",
       "      <th>2</th>\n",
       "      <td>0060973129</td>\n",
       "      <td>Decision in Normandy</td>\n",
       "      <td>Carlo D'Este</td>\n",
       "      <td>1991</td>\n",
       "      <td>HarperPerennial</td>\n",
       "      <td>[\"Carlo D'Este\"]</td>\n",
       "      <td>1991</td>\n",
       "      <td>Here, for the first time in paperback, is an o...</td>\n",
       "      <td>582.0</td>\n",
       "      <td>['1940-1949']</td>\n",
       "      <td>NOT_MATURE</td>\n",
       "      <td>en</td>\n",
       "      <td>0060973129</td>\n",
       "    </tr>\n",
       "    <tr>\n",
       "      <th>3</th>\n",
       "      <td>0374157065</td>\n",
       "      <td>Flu: The Story of the Great Influenza Pandemic...</td>\n",
       "      <td>Gina Bari Kolata</td>\n",
       "      <td>1999</td>\n",
       "      <td>Farrar Straus Giroux</td>\n",
       "      <td>['Gina Bari Kolata']</td>\n",
       "      <td>1999</td>\n",
       "      <td>Describes the great flu epidemic of 1918, an o...</td>\n",
       "      <td>367.0</td>\n",
       "      <td>['Medical']</td>\n",
       "      <td>NOT_MATURE</td>\n",
       "      <td>en</td>\n",
       "      <td>0374157065</td>\n",
       "    </tr>\n",
       "    <tr>\n",
       "      <th>4</th>\n",
       "      <td>0393045218</td>\n",
       "      <td>The Mummies of Urumchi</td>\n",
       "      <td>E. J. W. Barber</td>\n",
       "      <td>1999</td>\n",
       "      <td>W. W. Norton &amp;amp; Company</td>\n",
       "      <td>['E. J. W. Barber']</td>\n",
       "      <td>1999</td>\n",
       "      <td>A look at the incredibly well-preserved ancien...</td>\n",
       "      <td>240.0</td>\n",
       "      <td>['Design']</td>\n",
       "      <td>NOT_MATURE</td>\n",
       "      <td>en</td>\n",
       "      <td>0393045218</td>\n",
       "    </tr>\n",
       "  </tbody>\n",
       "</table>\n",
       "</div>"
      ],
      "text/plain": [
       "         ISBN                                         Book-Title  \\\n",
       "0  0195153448                                Classical Mythology   \n",
       "1  0002005018                                       Clara Callan   \n",
       "2  0060973129                               Decision in Normandy   \n",
       "3  0374157065  Flu: The Story of the Great Influenza Pandemic...   \n",
       "4  0393045218                             The Mummies of Urumchi   \n",
       "\n",
       "            Book-Author Year-Of-Publication                   Publisher  \\\n",
       "0    Mark P. O. Morford                2002     Oxford University Press   \n",
       "1  Richard Bruce Wright                2001       HarperFlamingo Canada   \n",
       "2          Carlo D'Este                1991             HarperPerennial   \n",
       "3      Gina Bari Kolata                1999        Farrar Straus Giroux   \n",
       "4       E. J. W. Barber                1999  W. W. Norton &amp; Company   \n",
       "\n",
       "                                        authors published_date  \\\n",
       "0  ['Mark P. O. Morford', 'Robert J. Lenardon']           2003   \n",
       "1                                           NaN            NaN   \n",
       "2                              [\"Carlo D'Este\"]           1991   \n",
       "3                          ['Gina Bari Kolata']           1999   \n",
       "4                           ['E. J. W. Barber']           1999   \n",
       "\n",
       "                                         description  page_count  \\\n",
       "0  Provides an introduction to classical myths pl...       808.0   \n",
       "1                                                NaN         NaN   \n",
       "2  Here, for the first time in paperback, is an o...       582.0   \n",
       "3  Describes the great flu epidemic of 1918, an o...       367.0   \n",
       "4  A look at the incredibly well-preserved ancien...       240.0   \n",
       "\n",
       "           categories maturity_rating language join_isbn_10  \n",
       "0  ['Social Science']      NOT_MATURE       en   0195153448  \n",
       "1                 NaN             NaN      NaN   0002005018  \n",
       "2       ['1940-1949']      NOT_MATURE       en   0060973129  \n",
       "3         ['Medical']      NOT_MATURE       en   0374157065  \n",
       "4          ['Design']      NOT_MATURE       en   0393045218  "
      ]
     },
     "execution_count": 124,
     "metadata": {},
     "output_type": "execute_result"
    }
   ],
   "source": [
    "#previewing the merged books df\n",
    "\n",
    "book_df.head()"
   ]
  },
  {
   "cell_type": "markdown",
   "metadata": {},
   "source": [
    "When importing the books data, it was noticed that there were mixed data types. Therefore, before beginning the analysis, it would be better to examine the cause of this in the 3rd column (`Year-Of-Publication`) before proceeding with the exploratory data analysis (EDA)."
   ]
  },
  {
   "cell_type": "code",
   "execution_count": 125,
   "metadata": {},
   "outputs": [
    {
     "data": {
      "text/plain": [
       "array([2002, 2001, 1991, 1999, 2000, 1993, 1996, 1988, 2004, 1998, 1994,\n",
       "       2003, 1997, 1995, 1982, 1985, 1992, 1986, 1978, 1980, 1983, 1952,\n",
       "       1987, 1981, 1990, 1989, 1984, 0, 1968, 1961, 1958, 1974, 1976,\n",
       "       1971, 1977, 1975, 1965, 1941, 1970, 1962, 1972, 1960, 1979, 1966,\n",
       "       1920, 1973, 1956, 1959, 1953, 1951, 1942, 1963, 1964, 1969, 1950,\n",
       "       1967, 2005, 1957, 1937, 1955, 1954, 1946, 1930, 2011, 1925, 1948,\n",
       "       1943, 1947, 1923, 1939, 1926, 1938, 2030, 1940, 1911, 1949, 1932,\n",
       "       1928, 1929, 1945, 1927, 1936, 1931, 1914, 2050, 1934, 1910, 1933,\n",
       "       1902, 1924, 1921, 2038, 2026, 1944, 1917, 1901, 2010, 1908, 1906,\n",
       "       1935, 1806, 2021, '2000', '1995', '1999', '2003', '1990', '1994',\n",
       "       '1986', '1989', '2002', '1981', '1993', '1983', '1982', '1976',\n",
       "       '1991', '1977', '1998', '1992', '0', '2001', '1997', '1996',\n",
       "       '2004', '1968', '1987', '1984', '1988', '1963', '1956', '1974',\n",
       "       '1970', '1985', '1978', '1973', '1980', '1979', '1961', '1965',\n",
       "       '1939', '1975', '1958', '1950', '1953', '1966', '1971', '1969',\n",
       "       '1959', '1972', '1955', '1957', '1945', '1967', '1960', '1932',\n",
       "       '1924', '2012', '1911', '1964', '1927', '1948', '1962', '2006',\n",
       "       '1952', '1940', '1951', '1931', '2005', '1930', '1941', '1944',\n",
       "       '1943', '1938', '1900', '1942', '1954', '1923', '1920', '1933',\n",
       "       'Gallimard', 'DK Publishing Inc', '1909', '1946', '1378', '2030',\n",
       "       '1936', '1947', '2011', '1919', '1949', '1922', '1897', '2024',\n",
       "       '1926'], dtype=object)"
      ]
     },
     "execution_count": 125,
     "metadata": {},
     "output_type": "execute_result"
    }
   ],
   "source": [
    "#Checking inique values for years\n",
    "book_df['Year-Of-Publication'].unique()"
   ]
  },
  {
   "cell_type": "markdown",
   "metadata": {},
   "source": [
    "It is noticed that there are values such as `DK Publishing Inc` and `Gallimard`, which are not ideal for years. Therefore, the rows with these values will be examined."
   ]
  },
  {
   "cell_type": "code",
   "execution_count": 126,
   "metadata": {},
   "outputs": [
    {
     "data": {
      "text/html": [
       "<div>\n",
       "<style scoped>\n",
       "    .dataframe tbody tr th:only-of-type {\n",
       "        vertical-align: middle;\n",
       "    }\n",
       "\n",
       "    .dataframe tbody tr th {\n",
       "        vertical-align: top;\n",
       "    }\n",
       "\n",
       "    .dataframe thead th {\n",
       "        text-align: right;\n",
       "    }\n",
       "</style>\n",
       "<table border=\"1\" class=\"dataframe\">\n",
       "  <thead>\n",
       "    <tr style=\"text-align: right;\">\n",
       "      <th></th>\n",
       "      <th>ISBN</th>\n",
       "      <th>Book-Title</th>\n",
       "      <th>Book-Author</th>\n",
       "      <th>Year-Of-Publication</th>\n",
       "      <th>Publisher</th>\n",
       "      <th>authors</th>\n",
       "      <th>published_date</th>\n",
       "      <th>description</th>\n",
       "      <th>page_count</th>\n",
       "      <th>categories</th>\n",
       "      <th>maturity_rating</th>\n",
       "      <th>language</th>\n",
       "      <th>join_isbn_10</th>\n",
       "    </tr>\n",
       "  </thead>\n",
       "  <tbody>\n",
       "    <tr>\n",
       "      <th>202625</th>\n",
       "      <td>2070426769</td>\n",
       "      <td>Peuple du ciel, suivi de 'Les Bergers\\\";Jean-M...</td>\n",
       "      <td>2003</td>\n",
       "      <td>Gallimard</td>\n",
       "      <td>http://images.amazon.com/images/P/2070426769.0...</td>\n",
       "      <td>['Jean-Marie Gustave Le ClÃ©zio']</td>\n",
       "      <td>2002</td>\n",
       "      <td>Deux enfants vivent une expÃ©rience qui boulev...</td>\n",
       "      <td>132.0</td>\n",
       "      <td>['Fiction']</td>\n",
       "      <td>NOT_MATURE</td>\n",
       "      <td>fr</td>\n",
       "      <td>2070426769</td>\n",
       "    </tr>\n",
       "    <tr>\n",
       "      <th>203486</th>\n",
       "      <td>0789466953</td>\n",
       "      <td>DK Readers: Creating the X-Men, How Comic Book...</td>\n",
       "      <td>2000</td>\n",
       "      <td>DK Publishing Inc</td>\n",
       "      <td>http://images.amazon.com/images/P/0789466953.0...</td>\n",
       "      <td>['James Buckley (Jr.)', 'Michael Teitelbaum']</td>\n",
       "      <td>2000</td>\n",
       "      <td>Meet the artists, writers and others who make ...</td>\n",
       "      <td>54.0</td>\n",
       "      <td>['Graphic novels']</td>\n",
       "      <td>NOT_MATURE</td>\n",
       "      <td>en</td>\n",
       "      <td>0789466953</td>\n",
       "    </tr>\n",
       "  </tbody>\n",
       "</table>\n",
       "</div>"
      ],
      "text/plain": [
       "              ISBN                                         Book-Title  \\\n",
       "202625  2070426769  Peuple du ciel, suivi de 'Les Bergers\\\";Jean-M...   \n",
       "203486  0789466953  DK Readers: Creating the X-Men, How Comic Book...   \n",
       "\n",
       "       Book-Author Year-Of-Publication  \\\n",
       "202625        2003           Gallimard   \n",
       "203486        2000   DK Publishing Inc   \n",
       "\n",
       "                                                Publisher  \\\n",
       "202625  http://images.amazon.com/images/P/2070426769.0...   \n",
       "203486  http://images.amazon.com/images/P/0789466953.0...   \n",
       "\n",
       "                                              authors published_date  \\\n",
       "202625              ['Jean-Marie Gustave Le ClÃ©zio']           2002   \n",
       "203486  ['James Buckley (Jr.)', 'Michael Teitelbaum']           2000   \n",
       "\n",
       "                                              description  page_count  \\\n",
       "202625  Deux enfants vivent une expÃ©rience qui boulev...       132.0   \n",
       "203486  Meet the artists, writers and others who make ...        54.0   \n",
       "\n",
       "                categories maturity_rating language join_isbn_10  \n",
       "202625         ['Fiction']      NOT_MATURE       fr   2070426769  \n",
       "203486  ['Graphic novels']      NOT_MATURE       en   0789466953  "
      ]
     },
     "execution_count": 126,
     "metadata": {},
     "output_type": "execute_result"
    }
   ],
   "source": [
    "book_df.loc[(book_df['Year-Of-Publication'] == 'DK Publishing Inc') \n",
    "            | (book_df['Year-Of-Publication'] == 'Gallimard')]"
   ]
  },
  {
   "cell_type": "markdown",
   "metadata": {},
   "source": [
    "Instead of dropping these records, the `Book-Author`, `Year-Of-Publication`, and `Publisher` columns will be fixed for these records using the available information. It is noticed that the year of publication was moved to the book author column at the time of recording, while the publisher was recorded in the year of publication column. The book author can be found from the authors column."
   ]
  },
  {
   "cell_type": "code",
   "execution_count": 127,
   "metadata": {},
   "outputs": [
    {
     "name": "stderr",
     "output_type": "stream",
     "text": [
      "C:\\Users\\KennedyOdhiambo\\AppData\\Local\\Temp\\ipykernel_3804\\3812285632.py:9: SettingWithCopyWarning: \n",
      "A value is trying to be set on a copy of a slice from a DataFrame\n",
      "\n",
      "See the caveats in the documentation: https://pandas.pydata.org/pandas-docs/stable/user_guide/indexing.html#returning-a-view-versus-a-copy\n",
      "  book_df.iloc[209267]['Book-Author'] = 'Michael Teitelbaum'\n",
      "C:\\Users\\KennedyOdhiambo\\AppData\\Local\\Temp\\ipykernel_3804\\3812285632.py:10: SettingWithCopyWarning: \n",
      "A value is trying to be set on a copy of a slice from a DataFrame\n",
      "\n",
      "See the caveats in the documentation: https://pandas.pydata.org/pandas-docs/stable/user_guide/indexing.html#returning-a-view-versus-a-copy\n",
      "  book_df.iloc[220433]['Book-Author'] = 'Jean-Marie Gustave Le ClÃ©zio'\n",
      "C:\\Users\\KennedyOdhiambo\\AppData\\Local\\Temp\\ipykernel_3804\\3812285632.py:11: SettingWithCopyWarning: \n",
      "A value is trying to be set on a copy of a slice from a DataFrame\n",
      "\n",
      "See the caveats in the documentation: https://pandas.pydata.org/pandas-docs/stable/user_guide/indexing.html#returning-a-view-versus-a-copy\n",
      "  book_df.iloc[221374]['Book-Author'] = 'James Buckley (Jr.)'\n",
      "C:\\Users\\KennedyOdhiambo\\AppData\\Local\\Temp\\ipykernel_3804\\3812285632.py:14: SettingWithCopyWarning: \n",
      "A value is trying to be set on a copy of a slice from a DataFrame\n",
      "\n",
      "See the caveats in the documentation: https://pandas.pydata.org/pandas-docs/stable/user_guide/indexing.html#returning-a-view-versus-a-copy\n",
      "  book_df.iloc[209267]['Publisher'] = 'DK Publishing Inc'\n",
      "C:\\Users\\KennedyOdhiambo\\AppData\\Local\\Temp\\ipykernel_3804\\3812285632.py:15: SettingWithCopyWarning: \n",
      "A value is trying to be set on a copy of a slice from a DataFrame\n",
      "\n",
      "See the caveats in the documentation: https://pandas.pydata.org/pandas-docs/stable/user_guide/indexing.html#returning-a-view-versus-a-copy\n",
      "  book_df.iloc[220433]['Publisher'] = 'Gallimard'\n",
      "C:\\Users\\KennedyOdhiambo\\AppData\\Local\\Temp\\ipykernel_3804\\3812285632.py:16: SettingWithCopyWarning: \n",
      "A value is trying to be set on a copy of a slice from a DataFrame\n",
      "\n",
      "See the caveats in the documentation: https://pandas.pydata.org/pandas-docs/stable/user_guide/indexing.html#returning-a-view-versus-a-copy\n",
      "  book_df.iloc[221374]['Publisher'] = 'DK Publishing Inc'\n"
     ]
    }
   ],
   "source": [
    "#fixing the mislabeled records\n",
    "publication_dict = {'DK Publishing Inc': 2000,\n",
    "                    'Gallimard': 2003}\n",
    "\n",
    "#year of publication\n",
    "book_df['Year-Of-Publication'].replace(publication_dict, inplace= True)\n",
    "\n",
    "#Fixing book author\n",
    "book_df.iloc[209267]['Book-Author'] = 'Michael Teitelbaum'\n",
    "book_df.iloc[220433]['Book-Author'] = 'Jean-Marie Gustave Le ClÃ©zio'\n",
    "book_df.iloc[221374]['Book-Author'] = 'James Buckley (Jr.)'\n",
    "\n",
    "#fixing the publisher\n",
    "book_df.iloc[209267]['Publisher'] = 'DK Publishing Inc'\n",
    "book_df.iloc[220433]['Publisher'] = 'Gallimard'\n",
    "book_df.iloc[221374]['Publisher'] = 'DK Publishing Inc'"
   ]
  },
  {
   "cell_type": "code",
   "execution_count": 128,
   "metadata": {},
   "outputs": [],
   "source": [
    "#converting the year column to integer\n",
    "book_df['Year-Of-Publication'] = book_df['Year-Of-Publication'].astype(int)"
   ]
  },
  {
   "cell_type": "code",
   "execution_count": 129,
   "metadata": {},
   "outputs": [
    {
     "data": {
      "text/plain": [
       "Year-Of-Publication\n",
       "2050        2\n",
       "2038        1\n",
       "2030        7\n",
       "2026        1\n",
       "2024        1\n",
       "2021        1\n",
       "2012        1\n",
       "2011        2\n",
       "2010        2\n",
       "2006        3\n",
       "2005       39\n",
       "2004     5347\n",
       "2003    13086\n",
       "2002    16103\n",
       "2001    15851\n",
       "2000    15748\n",
       "1999    15951\n",
       "1998    14512\n",
       "1997    13648\n",
       "1996    12907\n",
       "Name: count, dtype: int64"
      ]
     },
     "execution_count": 129,
     "metadata": {},
     "output_type": "execute_result"
    }
   ],
   "source": [
    "#Rechecking the values of years dataset\n",
    "book_df['Year-Of-Publication'].value_counts().sort_index(ascending= False)[:20]"
   ]
  },
  {
   "cell_type": "markdown",
   "metadata": {},
   "source": [
    "#"
   ]
  },
  {
   "cell_type": "markdown",
   "metadata": {},
   "source": [
    "Considering that the main dataset utilized in this project was collected in 2004, it's essential to inspect the columns containing years above 2004."
   ]
  },
  {
   "cell_type": "code",
   "execution_count": 130,
   "metadata": {},
   "outputs": [
    {
     "data": {
      "text/html": [
       "<div>\n",
       "<style scoped>\n",
       "    .dataframe tbody tr th:only-of-type {\n",
       "        vertical-align: middle;\n",
       "    }\n",
       "\n",
       "    .dataframe tbody tr th {\n",
       "        vertical-align: top;\n",
       "    }\n",
       "\n",
       "    .dataframe thead th {\n",
       "        text-align: right;\n",
       "    }\n",
       "</style>\n",
       "<table border=\"1\" class=\"dataframe\">\n",
       "  <thead>\n",
       "    <tr style=\"text-align: right;\">\n",
       "      <th></th>\n",
       "      <th>ISBN</th>\n",
       "      <th>Book-Title</th>\n",
       "      <th>Book-Author</th>\n",
       "      <th>Year-Of-Publication</th>\n",
       "      <th>Publisher</th>\n",
       "      <th>authors</th>\n",
       "      <th>published_date</th>\n",
       "      <th>description</th>\n",
       "      <th>page_count</th>\n",
       "      <th>categories</th>\n",
       "      <th>maturity_rating</th>\n",
       "      <th>language</th>\n",
       "      <th>join_isbn_10</th>\n",
       "    </tr>\n",
       "  </thead>\n",
       "  <tbody>\n",
       "    <tr>\n",
       "      <th>236921</th>\n",
       "      <td>0743484894</td>\n",
       "      <td>The Winter's Tale (Folger Shakespeare Library)</td>\n",
       "      <td>William Shakespeare</td>\n",
       "      <td>2005</td>\n",
       "      <td>Washington Square Press</td>\n",
       "      <td>NaN</td>\n",
       "      <td>NaN</td>\n",
       "      <td>NaN</td>\n",
       "      <td>NaN</td>\n",
       "      <td>NaN</td>\n",
       "      <td>NaN</td>\n",
       "      <td>NaN</td>\n",
       "      <td>0743484894</td>\n",
       "    </tr>\n",
       "    <tr>\n",
       "      <th>226554</th>\n",
       "      <td>0380000059</td>\n",
       "      <td>CLOUT</td>\n",
       "      <td>D. GIBBONS</td>\n",
       "      <td>2024</td>\n",
       "      <td>Avon</td>\n",
       "      <td>NaN</td>\n",
       "      <td>NaN</td>\n",
       "      <td>NaN</td>\n",
       "      <td>NaN</td>\n",
       "      <td>NaN</td>\n",
       "      <td>NaN</td>\n",
       "      <td>NaN</td>\n",
       "      <td>0380000059</td>\n",
       "    </tr>\n",
       "  </tbody>\n",
       "</table>\n",
       "</div>"
      ],
      "text/plain": [
       "              ISBN                                      Book-Title  \\\n",
       "236921  0743484894  The Winter's Tale (Folger Shakespeare Library)   \n",
       "226554  0380000059                                           CLOUT   \n",
       "\n",
       "                Book-Author  Year-Of-Publication                Publisher  \\\n",
       "236921  William Shakespeare                 2005  Washington Square Press   \n",
       "226554           D. GIBBONS                 2024                     Avon   \n",
       "\n",
       "       authors published_date description  page_count categories  \\\n",
       "236921     NaN            NaN         NaN         NaN        NaN   \n",
       "226554     NaN            NaN         NaN         NaN        NaN   \n",
       "\n",
       "       maturity_rating language join_isbn_10  \n",
       "236921             NaN      NaN   0743484894  \n",
       "226554             NaN      NaN   0380000059  "
      ]
     },
     "execution_count": 130,
     "metadata": {},
     "output_type": "execute_result"
    }
   ],
   "source": [
    "#inspecting the columns that have years above 2004\n",
    "\n",
    "book_df.loc[book_df['Year-Of-Publication'] > 2004].sample(2)"
   ]
  },
  {
   "cell_type": "markdown",
   "metadata": {},
   "source": [
    "Given the dataset's size, we can afford to lose the 72 records containing such unrealistic publication years. Therefore, we will drop all records where the year of publication is above 2004. Additionally, some dates may be unreasonable, and removing them will help ensure the dataset's quality and accuracy."
   ]
  },
  {
   "cell_type": "markdown",
   "metadata": {},
   "source": [
    "There are also records where the year of publication is 0. Given we can't have a zero year, they are problably place holders. For this project, we shall drop the records with zero as the year of publication."
   ]
  },
  {
   "cell_type": "code",
   "execution_count": 131,
   "metadata": {},
   "outputs": [],
   "source": [
    "#sling to have only records with year of publication above 0\n",
    "book_df = book_df.loc[book_df['Year-Of-Publication'] > 0]"
   ]
  },
  {
   "cell_type": "code",
   "execution_count": 132,
   "metadata": {},
   "outputs": [
    {
     "data": {
      "text/html": [
       "<div>\n",
       "<style scoped>\n",
       "    .dataframe tbody tr th:only-of-type {\n",
       "        vertical-align: middle;\n",
       "    }\n",
       "\n",
       "    .dataframe tbody tr th {\n",
       "        vertical-align: top;\n",
       "    }\n",
       "\n",
       "    .dataframe thead th {\n",
       "        text-align: right;\n",
       "    }\n",
       "</style>\n",
       "<table border=\"1\" class=\"dataframe\">\n",
       "  <thead>\n",
       "    <tr style=\"text-align: right;\">\n",
       "      <th></th>\n",
       "      <th>ISBN</th>\n",
       "      <th>Book-Title</th>\n",
       "      <th>Book-Author</th>\n",
       "      <th>Year-Of-Publication</th>\n",
       "      <th>Publisher</th>\n",
       "      <th>authors</th>\n",
       "      <th>published_date</th>\n",
       "      <th>description</th>\n",
       "      <th>page_count</th>\n",
       "      <th>categories</th>\n",
       "      <th>maturity_rating</th>\n",
       "      <th>language</th>\n",
       "      <th>join_isbn_10</th>\n",
       "    </tr>\n",
       "  </thead>\n",
       "  <tbody>\n",
       "  </tbody>\n",
       "</table>\n",
       "</div>"
      ],
      "text/plain": [
       "Empty DataFrame\n",
       "Columns: [ISBN, Book-Title, Book-Author, Year-Of-Publication, Publisher, authors, published_date, description, page_count, categories, maturity_rating, language, join_isbn_10]\n",
       "Index: []"
      ]
     },
     "execution_count": 132,
     "metadata": {},
     "output_type": "execute_result"
    }
   ],
   "source": [
    "#sanity check\n",
    "book_df.loc[book_df['Year-Of-Publication'] == 0]"
   ]
  },
  {
   "cell_type": "code",
   "execution_count": 133,
   "metadata": {},
   "outputs": [],
   "source": [
    "#dropping some duplicate features\n",
    "\n",
    "book_df.drop(columns= ['join_isbn_10','authors','published_date' ], inplace= True)\n"
   ]
  },
  {
   "cell_type": "code",
   "execution_count": 134,
   "metadata": {},
   "outputs": [
    {
     "name": "stdout",
     "output_type": "stream",
     "text": [
      "<class 'pandas.core.frame.DataFrame'>\n",
      "Index: 244835 entries, 0 to 249025\n",
      "Data columns (total 10 columns):\n",
      " #   Column               Non-Null Count   Dtype  \n",
      "---  ------               --------------   -----  \n",
      " 0   ISBN                 244835 non-null  object \n",
      " 1   Book-Title           244835 non-null  object \n",
      " 2   Book-Author          244833 non-null  object \n",
      " 3   Year-Of-Publication  244835 non-null  int32  \n",
      " 4   Publisher            244834 non-null  object \n",
      " 5   description          163922 non-null  object \n",
      " 6   page_count           191322 non-null  float64\n",
      " 7   categories           180410 non-null  object \n",
      " 8   maturity_rating      192535 non-null  object \n",
      " 9   language             192535 non-null  object \n",
      "dtypes: float64(1), int32(1), object(8)\n",
      "memory usage: 19.6+ MB\n"
     ]
    }
   ],
   "source": [
    "book_df.info()"
   ]
  },
  {
   "cell_type": "markdown",
   "metadata": {},
   "source": [
    "- **Handling the categories column**\n",
    "\n"
   ]
  },
  {
   "cell_type": "code",
   "execution_count": 135,
   "metadata": {},
   "outputs": [
    {
     "data": {
      "text/html": [
       "<div>\n",
       "<style scoped>\n",
       "    .dataframe tbody tr th:only-of-type {\n",
       "        vertical-align: middle;\n",
       "    }\n",
       "\n",
       "    .dataframe tbody tr th {\n",
       "        vertical-align: top;\n",
       "    }\n",
       "\n",
       "    .dataframe thead th {\n",
       "        text-align: right;\n",
       "    }\n",
       "</style>\n",
       "<table border=\"1\" class=\"dataframe\">\n",
       "  <thead>\n",
       "    <tr style=\"text-align: right;\">\n",
       "      <th></th>\n",
       "      <th>ISBN</th>\n",
       "      <th>Book-Title</th>\n",
       "      <th>Book-Author</th>\n",
       "      <th>Year-Of-Publication</th>\n",
       "      <th>Publisher</th>\n",
       "      <th>description</th>\n",
       "      <th>page_count</th>\n",
       "      <th>categories</th>\n",
       "      <th>maturity_rating</th>\n",
       "      <th>language</th>\n",
       "    </tr>\n",
       "  </thead>\n",
       "  <tbody>\n",
       "    <tr>\n",
       "      <th>151179</th>\n",
       "      <td>0525934898</td>\n",
       "      <td>The Portable Curmudgeon Redux</td>\n",
       "      <td>Jon Winokur</td>\n",
       "      <td>1992</td>\n",
       "      <td>Penguin USA</td>\n",
       "      <td>Presents a compilation of more than one thousa...</td>\n",
       "      <td>338.0</td>\n",
       "      <td>['Humor']</td>\n",
       "      <td>NOT_MATURE</td>\n",
       "      <td>en</td>\n",
       "    </tr>\n",
       "    <tr>\n",
       "      <th>233818</th>\n",
       "      <td>0847803708</td>\n",
       "      <td>Art in the Ancient World: A Handbook of Styles...</td>\n",
       "      <td>P. Amiet</td>\n",
       "      <td>1981</td>\n",
       "      <td>Rizzoli</td>\n",
       "      <td>NaN</td>\n",
       "      <td>567.0</td>\n",
       "      <td>['Art antique - Moyen-Orient']</td>\n",
       "      <td>NOT_MATURE</td>\n",
       "      <td>en</td>\n",
       "    </tr>\n",
       "    <tr>\n",
       "      <th>43058</th>\n",
       "      <td>2070300951</td>\n",
       "      <td>Capitale De La Douleur Suivi De Lamour L</td>\n",
       "      <td>P. Eluard</td>\n",
       "      <td>1966</td>\n",
       "      <td>Gallimard French</td>\n",
       "      <td>NaN</td>\n",
       "      <td>NaN</td>\n",
       "      <td>NaN</td>\n",
       "      <td>NaN</td>\n",
       "      <td>NaN</td>\n",
       "    </tr>\n",
       "    <tr>\n",
       "      <th>209613</th>\n",
       "      <td>3596143578</td>\n",
       "      <td>Die IdentitÃ?ÃÂ¤t.</td>\n",
       "      <td>Milan Kundera</td>\n",
       "      <td>2000</td>\n",
       "      <td>Fischer (Tb.), Frankfurt</td>\n",
       "      <td>'Die MÃ¤nner drehen sich nicht mehr nach mir u...</td>\n",
       "      <td>162.0</td>\n",
       "      <td>NaN</td>\n",
       "      <td>NOT_MATURE</td>\n",
       "      <td>de</td>\n",
       "    </tr>\n",
       "    <tr>\n",
       "      <th>81219</th>\n",
       "      <td>0790003473</td>\n",
       "      <td>From the mountains to the sea: The secret life...</td>\n",
       "      <td>Nic Bishop</td>\n",
       "      <td>1994</td>\n",
       "      <td>Reed Books</td>\n",
       "      <td>A photographic study of New Zealand's waterway...</td>\n",
       "      <td>120.0</td>\n",
       "      <td>['Animals']</td>\n",
       "      <td>NOT_MATURE</td>\n",
       "      <td>en</td>\n",
       "    </tr>\n",
       "  </tbody>\n",
       "</table>\n",
       "</div>"
      ],
      "text/plain": [
       "              ISBN                                         Book-Title  \\\n",
       "151179  0525934898                      The Portable Curmudgeon Redux   \n",
       "233818  0847803708  Art in the Ancient World: A Handbook of Styles...   \n",
       "43058   2070300951           Capitale De La Douleur Suivi De Lamour L   \n",
       "209613  3596143578                               Die IdentitÃ?ÃÂ¤t.   \n",
       "81219   0790003473  From the mountains to the sea: The secret life...   \n",
       "\n",
       "          Book-Author  Year-Of-Publication                 Publisher  \\\n",
       "151179    Jon Winokur                 1992               Penguin USA   \n",
       "233818       P. Amiet                 1981                   Rizzoli   \n",
       "43058       P. Eluard                 1966          Gallimard French   \n",
       "209613  Milan Kundera                 2000  Fischer (Tb.), Frankfurt   \n",
       "81219      Nic Bishop                 1994                Reed Books   \n",
       "\n",
       "                                              description  page_count  \\\n",
       "151179  Presents a compilation of more than one thousa...       338.0   \n",
       "233818                                                NaN       567.0   \n",
       "43058                                                 NaN         NaN   \n",
       "209613  'Die MÃ¤nner drehen sich nicht mehr nach mir u...       162.0   \n",
       "81219   A photographic study of New Zealand's waterway...       120.0   \n",
       "\n",
       "                            categories maturity_rating language  \n",
       "151179                       ['Humor']      NOT_MATURE       en  \n",
       "233818  ['Art antique - Moyen-Orient']      NOT_MATURE       en  \n",
       "43058                              NaN             NaN      NaN  \n",
       "209613                             NaN      NOT_MATURE       de  \n",
       "81219                      ['Animals']      NOT_MATURE       en  "
      ]
     },
     "execution_count": 135,
     "metadata": {},
     "output_type": "execute_result"
    }
   ],
   "source": [
    "book_df.sample(5)"
   ]
  },
  {
   "cell_type": "code",
   "execution_count": 136,
   "metadata": {},
   "outputs": [],
   "source": [
    "#Replacing the null values with Undefined\n",
    "book_df['categories'].fillna('Undefined', inplace= True)"
   ]
  },
  {
   "cell_type": "code",
   "execution_count": 137,
   "metadata": {},
   "outputs": [],
   "source": [
    "# Remove unwanted characters and split the string into a list\n",
    "book_df['categories'] = book_df['categories'] \\\n",
    "                            .str.replace(\"[\", \"\") \\\n",
    "                            .str.replace(\"]\", \"\") \\\n",
    "                            .str.replace(\"'\", \"\") \\\n",
    "                            .str.replace('\"', \"\") \\\n",
    "                            .str.split(\", \") \n",
    "#spliting the list of categories to individual categories in new rows\n",
    "book_df = book_df.explode(column= 'categories', ignore_index= True)"
   ]
  },
  {
   "cell_type": "markdown",
   "metadata": {},
   "source": [
    "- Handling  page count column"
   ]
  },
  {
   "cell_type": "code",
   "execution_count": 138,
   "metadata": {},
   "outputs": [],
   "source": [
    "#replacing page count with median page count\n",
    "\n",
    "book_df['page_count'].fillna(book_df['page_count'].median(), inplace= True)"
   ]
  },
  {
   "cell_type": "markdown",
   "metadata": {},
   "source": [
    "- Handling description column"
   ]
  },
  {
   "cell_type": "code",
   "execution_count": 139,
   "metadata": {},
   "outputs": [],
   "source": [
    "#dropping the records with missng values in description column\n",
    "book_df.dropna(subset= ['description'], inplace = True)"
   ]
  },
  {
   "cell_type": "code",
   "execution_count": 140,
   "metadata": {},
   "outputs": [
    {
     "data": {
      "text/plain": [
       "ISBN                   0\n",
       "Book-Title             0\n",
       "Book-Author            0\n",
       "Year-Of-Publication    0\n",
       "Publisher              1\n",
       "description            0\n",
       "page_count             0\n",
       "categories             0\n",
       "maturity_rating        0\n",
       "language               0\n",
       "dtype: int64"
      ]
     },
     "execution_count": 140,
     "metadata": {},
     "output_type": "execute_result"
    }
   ],
   "source": [
    "book_df.isna().sum()"
   ]
  },
  {
   "cell_type": "code",
   "execution_count": 141,
   "metadata": {},
   "outputs": [],
   "source": [
    "#dropping the remaining missing value\n",
    "\n",
    "book_df.dropna(inplace= True)"
   ]
  },
  {
   "cell_type": "code",
   "execution_count": 142,
   "metadata": {},
   "outputs": [
    {
     "data": {
      "text/plain": [
       "ISBN                   0\n",
       "Book-Title             0\n",
       "Book-Author            0\n",
       "Year-Of-Publication    0\n",
       "Publisher              0\n",
       "description            0\n",
       "page_count             0\n",
       "categories             0\n",
       "maturity_rating        0\n",
       "language               0\n",
       "dtype: int64"
      ]
     },
     "execution_count": 142,
     "metadata": {},
     "output_type": "execute_result"
    }
   ],
   "source": [
    "#sanity check\n",
    "book_df.isna().sum()"
   ]
  },
  {
   "cell_type": "markdown",
   "metadata": {},
   "source": [
    "- Sorting the maturity rating and Languange"
   ]
  },
  {
   "cell_type": "code",
   "execution_count": 143,
   "metadata": {},
   "outputs": [],
   "source": [
    "# capitalizing the maturity rangings\n",
    "\n",
    "book_df['maturity_rating'] = book_df['maturity_rating'].str.capitalize()\n",
    "\n",
    "#language abreviation to upper case\n",
    "\n",
    "book_df['language'] = book_df['language'].str.upper()"
   ]
  },
  {
   "cell_type": "markdown",
   "metadata": {},
   "source": [
    "**Rating Table**"
   ]
  },
  {
   "cell_type": "code",
   "execution_count": 149,
   "metadata": {},
   "outputs": [
    {
     "data": {
      "text/plain": [
       "(1149780, 3)"
      ]
     },
     "execution_count": 149,
     "metadata": {},
     "output_type": "execute_result"
    }
   ],
   "source": [
    "ratings.shape"
   ]
  },
  {
   "cell_type": "code",
   "execution_count": 150,
   "metadata": {},
   "outputs": [
    {
     "data": {
      "text/html": [
       "<div>\n",
       "<style scoped>\n",
       "    .dataframe tbody tr th:only-of-type {\n",
       "        vertical-align: middle;\n",
       "    }\n",
       "\n",
       "    .dataframe tbody tr th {\n",
       "        vertical-align: top;\n",
       "    }\n",
       "\n",
       "    .dataframe thead th {\n",
       "        text-align: right;\n",
       "    }\n",
       "</style>\n",
       "<table border=\"1\" class=\"dataframe\">\n",
       "  <thead>\n",
       "    <tr style=\"text-align: right;\">\n",
       "      <th></th>\n",
       "      <th>User-ID</th>\n",
       "      <th>ISBN</th>\n",
       "      <th>Book-Rating</th>\n",
       "    </tr>\n",
       "  </thead>\n",
       "  <tbody>\n",
       "    <tr>\n",
       "      <th>883746</th>\n",
       "      <td>213066</td>\n",
       "      <td>0786881208</td>\n",
       "      <td>7</td>\n",
       "    </tr>\n",
       "    <tr>\n",
       "      <th>735196</th>\n",
       "      <td>177458</td>\n",
       "      <td>0671877836</td>\n",
       "      <td>0</td>\n",
       "    </tr>\n",
       "    <tr>\n",
       "      <th>799939</th>\n",
       "      <td>194184</td>\n",
       "      <td>1562921932</td>\n",
       "      <td>9</td>\n",
       "    </tr>\n",
       "    <tr>\n",
       "      <th>387233</th>\n",
       "      <td>93363</td>\n",
       "      <td>0842339051</td>\n",
       "      <td>0</td>\n",
       "    </tr>\n",
       "    <tr>\n",
       "      <th>199432</th>\n",
       "      <td>44595</td>\n",
       "      <td>0671440349</td>\n",
       "      <td>0</td>\n",
       "    </tr>\n",
       "  </tbody>\n",
       "</table>\n",
       "</div>"
      ],
      "text/plain": [
       "        User-ID        ISBN  Book-Rating\n",
       "883746   213066  0786881208            7\n",
       "735196   177458  0671877836            0\n",
       "799939   194184  1562921932            9\n",
       "387233    93363  0842339051            0\n",
       "199432    44595  0671440349            0"
      ]
     },
     "execution_count": 150,
     "metadata": {},
     "output_type": "execute_result"
    }
   ],
   "source": [
    "#preview the dataset\n",
    "ratings.sample(5)"
   ]
  },
  {
   "cell_type": "code",
   "execution_count": 174,
   "metadata": {},
   "outputs": [],
   "source": [
    "#removing the whitespaces if there is any and lower all alphabets the the ISBNS\n",
    "ratings['ISBN'] = ratings['ISBN'].str.replace(' ', '').str.lower()"
   ]
  },
  {
   "cell_type": "code",
   "execution_count": 175,
   "metadata": {},
   "outputs": [
    {
     "data": {
      "text/html": [
       "<div>\n",
       "<style scoped>\n",
       "    .dataframe tbody tr th:only-of-type {\n",
       "        vertical-align: middle;\n",
       "    }\n",
       "\n",
       "    .dataframe tbody tr th {\n",
       "        vertical-align: top;\n",
       "    }\n",
       "\n",
       "    .dataframe thead th {\n",
       "        text-align: right;\n",
       "    }\n",
       "</style>\n",
       "<table border=\"1\" class=\"dataframe\">\n",
       "  <thead>\n",
       "    <tr style=\"text-align: right;\">\n",
       "      <th></th>\n",
       "      <th>User-ID</th>\n",
       "      <th>ISBN</th>\n",
       "      <th>Book-Rating</th>\n",
       "    </tr>\n",
       "  </thead>\n",
       "  <tbody>\n",
       "  </tbody>\n",
       "</table>\n",
       "</div>"
      ],
      "text/plain": [
       "Empty DataFrame\n",
       "Columns: [User-ID, ISBN, Book-Rating]\n",
       "Index: []"
      ]
     },
     "execution_count": 175,
     "metadata": {},
     "output_type": "execute_result"
    }
   ],
   "source": [
    "#checking the ISBN if correct\n",
    "ratings.loc[(ratings['ISBN'].apply(lambda x: len(x) > 10 )) | (ratings['ISBN'].apply(lambda x: len(x) < 10))]"
   ]
  },
  {
   "cell_type": "code",
   "execution_count": 176,
   "metadata": {},
   "outputs": [],
   "source": [
    "#droping the invalid ISBN\n",
    "ratings.drop(ratings.loc[(ratings['ISBN']\n",
    "                      .apply(lambda x: len(x) > 10)) | (ratings['ISBN']\n",
    "                                                        .apply(lambda x: len(x) < 10))].index, inplace=True)"
   ]
  },
  {
   "cell_type": "code",
   "execution_count": 177,
   "metadata": {},
   "outputs": [
    {
     "data": {
      "text/html": [
       "<div>\n",
       "<style scoped>\n",
       "    .dataframe tbody tr th:only-of-type {\n",
       "        vertical-align: middle;\n",
       "    }\n",
       "\n",
       "    .dataframe tbody tr th {\n",
       "        vertical-align: top;\n",
       "    }\n",
       "\n",
       "    .dataframe thead th {\n",
       "        text-align: right;\n",
       "    }\n",
       "</style>\n",
       "<table border=\"1\" class=\"dataframe\">\n",
       "  <thead>\n",
       "    <tr style=\"text-align: right;\">\n",
       "      <th></th>\n",
       "      <th>User-ID</th>\n",
       "      <th>ISBN</th>\n",
       "      <th>Book-Rating</th>\n",
       "    </tr>\n",
       "  </thead>\n",
       "  <tbody>\n",
       "  </tbody>\n",
       "</table>\n",
       "</div>"
      ],
      "text/plain": [
       "Empty DataFrame\n",
       "Columns: [User-ID, ISBN, Book-Rating]\n",
       "Index: []"
      ]
     },
     "execution_count": 177,
     "metadata": {},
     "output_type": "execute_result"
    }
   ],
   "source": [
    "#Sanity check\n",
    "ratings.loc[(ratings['ISBN'].apply(lambda x: len(x) > 10 )) | (ratings['ISBN'].apply(lambda x: len(x) < 10))]"
   ]
  },
  {
   "cell_type": "markdown",
   "metadata": {},
   "source": [
    "In the data description, it was observed that explicit ratings were provided by users to express their sentiments toward a book, using a scale of 1 to 10. Additionally, implicit ratings were denoted by a zero. For this project, the explicit ratings from each user will be utilized, as they provide insight into the user's emotional response to the content they have engaged with. This decision is based on the understanding that explicit ratings convey the user's feelings more directly compared to implicit ratings, which may not necessarily reflect their sentiment accurately."
   ]
  },
  {
   "cell_type": "code",
   "execution_count": 179,
   "metadata": {},
   "outputs": [],
   "source": [
    "#segragating only explicit ratings\n",
    "\n",
    "ratings_explicit = ratings.loc[ratings['Book-Rating'] != 0]"
   ]
  },
  {
   "cell_type": "markdown",
   "metadata": {},
   "source": [
    "- Merging the users table to rating table"
   ]
  },
  {
   "cell_type": "code",
   "execution_count": 202,
   "metadata": {},
   "outputs": [
    {
     "data": {
      "text/plain": [
       "(428887, 7)"
      ]
     },
     "execution_count": 202,
     "metadata": {},
     "output_type": "execute_result"
    }
   ],
   "source": [
    "#merging on User-ID\n",
    "users_and_rating = users.merge(right= ratings_explicit, on= 'User-ID')\n",
    "\n",
    "users_and_rating.shape"
   ]
  },
  {
   "cell_type": "code",
   "execution_count": 203,
   "metadata": {},
   "outputs": [
    {
     "data": {
      "text/plain": [
       "User-ID        0\n",
       "Age            0\n",
       "City           0\n",
       "State          0\n",
       "Country        0\n",
       "ISBN           0\n",
       "Book-Rating    0\n",
       "dtype: int64"
      ]
     },
     "execution_count": 203,
     "metadata": {},
     "output_type": "execute_result"
    }
   ],
   "source": [
    "users_and_rating.isna().sum()"
   ]
  },
  {
   "cell_type": "markdown",
   "metadata": {},
   "source": [
    "- Merging users and ratings with cleaned books"
   ]
  },
  {
   "cell_type": "code",
   "execution_count": 204,
   "metadata": {},
   "outputs": [
    {
     "data": {
      "text/plain": [
       "(286439, 16)"
      ]
     },
     "execution_count": 204,
     "metadata": {},
     "output_type": "execute_result"
    }
   ],
   "source": [
    "#merging on ISBN\n",
    "\n",
    "final_df = users_and_rating.merge(right= book_df, on= 'ISBN')\n",
    "\n",
    "final_df.shape"
   ]
  },
  {
   "cell_type": "code",
   "execution_count": 183,
   "metadata": {},
   "outputs": [
    {
     "data": {
      "text/html": [
       "<div>\n",
       "<style scoped>\n",
       "    .dataframe tbody tr th:only-of-type {\n",
       "        vertical-align: middle;\n",
       "    }\n",
       "\n",
       "    .dataframe tbody tr th {\n",
       "        vertical-align: top;\n",
       "    }\n",
       "\n",
       "    .dataframe thead th {\n",
       "        text-align: right;\n",
       "    }\n",
       "</style>\n",
       "<table border=\"1\" class=\"dataframe\">\n",
       "  <thead>\n",
       "    <tr style=\"text-align: right;\">\n",
       "      <th></th>\n",
       "      <th>User-ID</th>\n",
       "      <th>Location</th>\n",
       "      <th>Age</th>\n",
       "      <th>Country</th>\n",
       "      <th>ISBN</th>\n",
       "      <th>Book-Rating</th>\n",
       "      <th>Book-Title</th>\n",
       "      <th>Book-Author</th>\n",
       "      <th>Year-Of-Publication</th>\n",
       "      <th>Publisher</th>\n",
       "      <th>description</th>\n",
       "      <th>page_count</th>\n",
       "      <th>categories</th>\n",
       "      <th>maturity_rating</th>\n",
       "      <th>language</th>\n",
       "    </tr>\n",
       "  </thead>\n",
       "  <tbody>\n",
       "    <tr>\n",
       "      <th>50079</th>\n",
       "      <td>4157</td>\n",
       "      <td>birmingham, alabama, usa</td>\n",
       "      <td>39.0</td>\n",
       "      <td>usa</td>\n",
       "      <td>0060802162</td>\n",
       "      <td>6</td>\n",
       "      <td>Hitler, a study in tyranny, (Perennial library...</td>\n",
       "      <td>Alan Bullock</td>\n",
       "      <td>1971</td>\n",
       "      <td>Harper &amp;amp; Row</td>\n",
       "      <td>The sources for this exhaustive study included...</td>\n",
       "      <td>489.0</td>\n",
       "      <td>Germany</td>\n",
       "      <td>Not_mature</td>\n",
       "      <td>EN</td>\n",
       "    </tr>\n",
       "    <tr>\n",
       "      <th>253109</th>\n",
       "      <td>277710</td>\n",
       "      <td>douglasville, georgia, usa</td>\n",
       "      <td>56.0</td>\n",
       "      <td>usa</td>\n",
       "      <td>0451210875</td>\n",
       "      <td>8</td>\n",
       "      <td>Wizard and Glass (The Dark Tower, Book 4)</td>\n",
       "      <td>Stephen King</td>\n",
       "      <td>2003</td>\n",
       "      <td>New American Library</td>\n",
       "      <td>More information to be announced soon on this ...</td>\n",
       "      <td>756.0</td>\n",
       "      <td>Fiction</td>\n",
       "      <td>Not_mature</td>\n",
       "      <td>EN</td>\n",
       "    </tr>\n",
       "    <tr>\n",
       "      <th>258197</th>\n",
       "      <td>170051</td>\n",
       "      <td>cunnamulla, queensland, australia</td>\n",
       "      <td>30.0</td>\n",
       "      <td>australia</td>\n",
       "      <td>1740511832</td>\n",
       "      <td>7</td>\n",
       "      <td>Richard Branson: Losing My Virginity, The Auto...</td>\n",
       "      <td>Richard Branson</td>\n",
       "      <td>2002</td>\n",
       "      <td>Virgin Books, Ltd.</td>\n",
       "      <td>A revised and updated edition of the bestselle...</td>\n",
       "      <td>595.0</td>\n",
       "      <td>Airlines</td>\n",
       "      <td>Not_mature</td>\n",
       "      <td>EN</td>\n",
       "    </tr>\n",
       "    <tr>\n",
       "      <th>23885</th>\n",
       "      <td>79726</td>\n",
       "      <td>brooklin, ontario, canada</td>\n",
       "      <td>17.0</td>\n",
       "      <td>canada</td>\n",
       "      <td>0671024248</td>\n",
       "      <td>8</td>\n",
       "      <td>Hearts In Atlantis</td>\n",
       "      <td>Stephen King</td>\n",
       "      <td>2000</td>\n",
       "      <td>Pocket</td>\n",
       "      <td>Hearts In Atlantis is composed of five interco...</td>\n",
       "      <td>688.0</td>\n",
       "      <td>Fiction</td>\n",
       "      <td>Not_mature</td>\n",
       "      <td>EN</td>\n",
       "    </tr>\n",
       "    <tr>\n",
       "      <th>130173</th>\n",
       "      <td>247429</td>\n",
       "      <td>marshfield, wisconsin, usa</td>\n",
       "      <td>39.0</td>\n",
       "      <td>usa</td>\n",
       "      <td>0066213703</td>\n",
       "      <td>10</td>\n",
       "      <td>George and Laura : Portrait of an American Mar...</td>\n",
       "      <td>Christopher Andersen</td>\n",
       "      <td>2002</td>\n",
       "      <td>William Morrow</td>\n",
       "      <td>Draws on research and confidential material to...</td>\n",
       "      <td>320.0</td>\n",
       "      <td>Biography &amp; Autobiography</td>\n",
       "      <td>Not_mature</td>\n",
       "      <td>EN</td>\n",
       "    </tr>\n",
       "    <tr>\n",
       "      <th>150023</th>\n",
       "      <td>241666</td>\n",
       "      <td>san francisco, california, usa</td>\n",
       "      <td>35.0</td>\n",
       "      <td>usa</td>\n",
       "      <td>0449223833</td>\n",
       "      <td>8</td>\n",
       "      <td>The Deep Blue Good-By</td>\n",
       "      <td>John D. MacDonald</td>\n",
       "      <td>1995</td>\n",
       "      <td>Fawcett Books</td>\n",
       "      <td>When a complete stranger informs Cathy Kerr th...</td>\n",
       "      <td>309.0</td>\n",
       "      <td>Fiction</td>\n",
       "      <td>Not_mature</td>\n",
       "      <td>EN</td>\n",
       "    </tr>\n",
       "    <tr>\n",
       "      <th>138138</th>\n",
       "      <td>70594</td>\n",
       "      <td>prince george, british columbia, canada</td>\n",
       "      <td>53.0</td>\n",
       "      <td>canada</td>\n",
       "      <td>0767908171</td>\n",
       "      <td>9</td>\n",
       "      <td>A Short History of Nearly Everything</td>\n",
       "      <td>Bill Bryson</td>\n",
       "      <td>2003</td>\n",
       "      <td>Broadway</td>\n",
       "      <td>One of the worldÃ¢ÂÂs most beloved writers a...</td>\n",
       "      <td>0.0</td>\n",
       "      <td>History</td>\n",
       "      <td>Not_mature</td>\n",
       "      <td>EN</td>\n",
       "    </tr>\n",
       "    <tr>\n",
       "      <th>100889</th>\n",
       "      <td>105769</td>\n",
       "      <td>westminster, colorado, usa</td>\n",
       "      <td>33.0</td>\n",
       "      <td>usa</td>\n",
       "      <td>0425158640</td>\n",
       "      <td>10</td>\n",
       "      <td>Idoru</td>\n",
       "      <td>William Gibson</td>\n",
       "      <td>1997</td>\n",
       "      <td>Berkley Publishing Group</td>\n",
       "      <td>In a story set in twenty-first century Tokyo, ...</td>\n",
       "      <td>383.0</td>\n",
       "      <td>Fiction</td>\n",
       "      <td>Not_mature</td>\n",
       "      <td>EN</td>\n",
       "    </tr>\n",
       "    <tr>\n",
       "      <th>102784</th>\n",
       "      <td>88733</td>\n",
       "      <td>houston, texas, usa</td>\n",
       "      <td>32.0</td>\n",
       "      <td>usa</td>\n",
       "      <td>0446360589</td>\n",
       "      <td>8</td>\n",
       "      <td>The Burden of Proof</td>\n",
       "      <td>Scott Turow</td>\n",
       "      <td>1991</td>\n",
       "      <td>Warner Books</td>\n",
       "      <td>Turow's acclaimed second novel, which topped i...</td>\n",
       "      <td>576.0</td>\n",
       "      <td>Fiction</td>\n",
       "      <td>Not_mature</td>\n",
       "      <td>EN</td>\n",
       "    </tr>\n",
       "    <tr>\n",
       "      <th>273496</th>\n",
       "      <td>220314</td>\n",
       "      <td>mosinee, wisconsin, usa</td>\n",
       "      <td>39.0</td>\n",
       "      <td>usa</td>\n",
       "      <td>0931055660</td>\n",
       "      <td>8</td>\n",
       "      <td>Circle of Stones: Woman's Journey to Herself (...</td>\n",
       "      <td>Judith Duerk</td>\n",
       "      <td>1989</td>\n",
       "      <td>Consortium Book Sales &amp;amp; Dist</td>\n",
       "      <td>In tribute to the thousands of women who have ...</td>\n",
       "      <td>69.0</td>\n",
       "      <td>Femininity</td>\n",
       "      <td>Not_mature</td>\n",
       "      <td>EN</td>\n",
       "    </tr>\n",
       "  </tbody>\n",
       "</table>\n",
       "</div>"
      ],
      "text/plain": [
       "        User-ID                                 Location   Age     Country  \\\n",
       "50079      4157                 birmingham, alabama, usa  39.0         usa   \n",
       "253109   277710               douglasville, georgia, usa  56.0         usa   \n",
       "258197   170051        cunnamulla, queensland, australia  30.0   australia   \n",
       "23885     79726                brooklin, ontario, canada  17.0      canada   \n",
       "130173   247429               marshfield, wisconsin, usa  39.0         usa   \n",
       "150023   241666           san francisco, california, usa  35.0         usa   \n",
       "138138    70594  prince george, british columbia, canada  53.0      canada   \n",
       "100889   105769               westminster, colorado, usa  33.0         usa   \n",
       "102784    88733                      houston, texas, usa  32.0         usa   \n",
       "273496   220314                  mosinee, wisconsin, usa  39.0         usa   \n",
       "\n",
       "              ISBN  Book-Rating  \\\n",
       "50079   0060802162            6   \n",
       "253109  0451210875            8   \n",
       "258197  1740511832            7   \n",
       "23885   0671024248            8   \n",
       "130173  0066213703           10   \n",
       "150023  0449223833            8   \n",
       "138138  0767908171            9   \n",
       "100889  0425158640           10   \n",
       "102784  0446360589            8   \n",
       "273496  0931055660            8   \n",
       "\n",
       "                                               Book-Title  \\\n",
       "50079   Hitler, a study in tyranny, (Perennial library...   \n",
       "253109          Wizard and Glass (The Dark Tower, Book 4)   \n",
       "258197  Richard Branson: Losing My Virginity, The Auto...   \n",
       "23885                                  Hearts In Atlantis   \n",
       "130173  George and Laura : Portrait of an American Mar...   \n",
       "150023                              The Deep Blue Good-By   \n",
       "138138               A Short History of Nearly Everything   \n",
       "100889                                              Idoru   \n",
       "102784                                The Burden of Proof   \n",
       "273496  Circle of Stones: Woman's Journey to Herself (...   \n",
       "\n",
       "                 Book-Author  Year-Of-Publication  \\\n",
       "50079           Alan Bullock                 1971   \n",
       "253109          Stephen King                 2003   \n",
       "258197       Richard Branson                 2002   \n",
       "23885           Stephen King                 2000   \n",
       "130173  Christopher Andersen                 2002   \n",
       "150023     John D. MacDonald                 1995   \n",
       "138138           Bill Bryson                 2003   \n",
       "100889        William Gibson                 1997   \n",
       "102784           Scott Turow                 1991   \n",
       "273496          Judith Duerk                 1989   \n",
       "\n",
       "                               Publisher  \\\n",
       "50079                   Harper &amp; Row   \n",
       "253109              New American Library   \n",
       "258197                Virgin Books, Ltd.   \n",
       "23885                             Pocket   \n",
       "130173                    William Morrow   \n",
       "150023                     Fawcett Books   \n",
       "138138                          Broadway   \n",
       "100889          Berkley Publishing Group   \n",
       "102784                      Warner Books   \n",
       "273496  Consortium Book Sales &amp; Dist   \n",
       "\n",
       "                                              description  page_count  \\\n",
       "50079   The sources for this exhaustive study included...       489.0   \n",
       "253109  More information to be announced soon on this ...       756.0   \n",
       "258197  A revised and updated edition of the bestselle...       595.0   \n",
       "23885   Hearts In Atlantis is composed of five interco...       688.0   \n",
       "130173  Draws on research and confidential material to...       320.0   \n",
       "150023  When a complete stranger informs Cathy Kerr th...       309.0   \n",
       "138138  One of the worldÃ¢ÂÂs most beloved writers a...         0.0   \n",
       "100889  In a story set in twenty-first century Tokyo, ...       383.0   \n",
       "102784  Turow's acclaimed second novel, which topped i...       576.0   \n",
       "273496  In tribute to the thousands of women who have ...        69.0   \n",
       "\n",
       "                       categories maturity_rating language  \n",
       "50079                     Germany      Not_mature       EN  \n",
       "253109                    Fiction      Not_mature       EN  \n",
       "258197                   Airlines      Not_mature       EN  \n",
       "23885                     Fiction      Not_mature       EN  \n",
       "130173  Biography & Autobiography      Not_mature       EN  \n",
       "150023                    Fiction      Not_mature       EN  \n",
       "138138                    History      Not_mature       EN  \n",
       "100889                    Fiction      Not_mature       EN  \n",
       "102784                    Fiction      Not_mature       EN  \n",
       "273496                 Femininity      Not_mature       EN  "
      ]
     },
     "execution_count": 183,
     "metadata": {},
     "output_type": "execute_result"
    }
   ],
   "source": [
    "#previwing sample \n",
    "\n",
    "final_df.sample(10)"
   ]
  },
  {
   "cell_type": "code",
   "execution_count": 206,
   "metadata": {},
   "outputs": [
    {
     "data": {
      "text/plain": [
       "User-ID                0\n",
       "Age                    0\n",
       "City                   0\n",
       "State                  0\n",
       "Country                0\n",
       "ISBN                   0\n",
       "Book-Rating            0\n",
       "Book-Title             0\n",
       "Book-Author            0\n",
       "Year-Of-Publication    0\n",
       "Publisher              0\n",
       "description            0\n",
       "page_count             0\n",
       "categories             0\n",
       "maturity_rating        0\n",
       "language               0\n",
       "dtype: int64"
      ]
     },
     "execution_count": 206,
     "metadata": {},
     "output_type": "execute_result"
    }
   ],
   "source": [
    "final_df.isna().sum()"
   ]
  },
  {
   "cell_type": "code",
   "execution_count": null,
   "metadata": {},
   "outputs": [],
   "source": []
  },
  {
   "cell_type": "markdown",
   "metadata": {},
   "source": [
    "## Exploratory Data Analysis"
   ]
  },
  {
   "cell_type": "code",
   "execution_count": null,
   "metadata": {},
   "outputs": [],
   "source": []
  }
 ],
 "metadata": {
  "kernelspec": {
   "display_name": "learn-env",
   "language": "python",
   "name": "python3"
  },
  "language_info": {
   "codemirror_mode": {
    "name": "ipython",
    "version": 3
   },
   "file_extension": ".py",
   "mimetype": "text/x-python",
   "name": "python",
   "nbconvert_exporter": "python",
   "pygments_lexer": "ipython3",
   "version": "3.10.13"
  }
 },
 "nbformat": 4,
 "nbformat_minor": 2
}
