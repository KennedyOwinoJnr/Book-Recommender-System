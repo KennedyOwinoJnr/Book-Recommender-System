{
 "cells": [
  {
   "cell_type": "markdown",
   "metadata": {},
   "source": [
    "# Library Book Recommendation System"
   ]
  },
  {
   "cell_type": "markdown",
   "metadata": {},
   "source": [
    "---\n",
    "## Business Understanding\n",
    "In the increasingly competitive landscape of online libraries and book platforms, personalized recommendation systems have emerged as a critical tool for enhancing user engagement, satisfaction, and retention. Understanding users' unique preferences, demographics, and reading habits is essential for delivering relevant and tailored book suggestions that resonate with individual tastes. By leveraging advanced algorithms and user data analytics, our platform aims to revolutionize the book discovery experience, offering users a curated selection of books that align with their interests and preferences. Through continuous iteration and optimization, we strive to create a dynamic and immersive user interface that not only facilitates book exploration but also fosters a sense of community and interaction among readers, ultimately driving business growth and differentiation in the competitive market.\n"
   ]
  },
  {
   "cell_type": "markdown",
   "metadata": {},
   "source": [
    "---\n",
    "## Problem Statement\n",
    "\n",
    "The current landscape of online libraries and book platforms lacks personalized recommendation systems that effectively cater to individual users' preferences and reading habits. Existing platforms often rely on generic recommendations or fail to leverage user data to deliver relevant book suggestions, leading to suboptimal user experiences and limited engagement. Our platform aims to address this challenge by developing a robust and intuitive recommendation system that harnesses user data, ratings, and book information to provide personalized book recommendations tailored to each user's unique profile. By seamlessly integrating user registration, profile creation, and recommendation display functionalities into the user interface, we seek to empower users to discover new books that align with their interests and preferences while fostering a vibrant and engaging community of readers.\n",
    "\n",
    "### Project Objectives\n",
    "$i.$ Develop a personalized book recommendation engine that utilizes user data, ratings, and book information to generate tailored book suggestions for individual users based on their preferences, demographics, and reading history.\n",
    "\n",
    "$ii.$ **Create User-Friendly Interface:** Develop an intuitive and user-friendly interface that facilitates seamless user registration, profile creation, and recommendation display. \n",
    "\n",
    "### Metrics Of Success\n",
    "\n",
    "The success of our recommendation engine lies in delivering personalized content to every book lover on our platform, as reflected by high conversion rates of the content provided to users. While the industry standard for mean absolute error (MAE) is 0.5, we aim to surpass these expectations by developing a recommendation engine with a maximum MAE of 0.3. This commitment ensures that our engine consistently provides accurate and tailored book suggestions, exceeding industry benchmarks and enhancing user satisfaction and engagement.\n",
    "\n"
   ]
  },
  {
   "cell_type": "markdown",
   "metadata": {},
   "source": [
    "---\n",
    "## Data Understanding\n",
    "\n",
    "The data used in this project was obtained from [Kaggle](https://www.kaggle.com/code/fahadmehfoooz/book-recommendation-system/input?select=Books.csv). \n",
    "It comprises three different tables:\n",
    "\n",
    "`Ratings`<br>\n",
    "Contains the book rating information. Ratings (`Book-Rating`) are either explicit, expressed on a scale from 1-10 (higher values denoting higher appreciation), or implicit, expressed by 0.\n",
    "\n",
    "`Books`<br>\n",
    "Books are identified by their respective `ISBN`. Invalid ISBNs have already been removed from the dataset. Moreover, some content-based information is given (`Book-Title`, `Book-Author`, `Year-Of-Publication`, `Publisher`), obtained from Amazon Web Services. Note that in case of several authors, only the first is provided. URLs linking to cover images are also given, appearing in three different flavors (Image-URL-S, Image-URL-M, Image-URL-L), i.e., small, medium, large. These URLs point to the Amazon web site.\n",
    "\n",
    "`Users`<br>\n",
    "Contains the users. Note that user IDs (`User-ID`) have been anonymized and map to integers. Demographic data is provided (Location, Age) if available. Otherwise, these fields contain NULL-values.\n",
    "\n",
    "\n",
    "Additional data was obtained from [Google Books API](https://developers.google.com/books)."
   ]
  },
  {
   "cell_type": "code",
   "execution_count": 153,
   "metadata": {
    "tags": []
   },
   "outputs": [],
   "source": [
    "#Importing \n",
    "import pandas as pd\n",
    "import numpy as np\n",
    "import matplotlib.pyplot as plt\n",
    "plt.style.use('fivethirtyeight')\n",
    "import seaborn as sns\n",
    "import re\n"
   ]
  },
  {
   "cell_type": "markdown",
   "metadata": {},
   "source": [
    "**Loading Data**"
   ]
  },
  {
   "cell_type": "code",
   "execution_count": 154,
   "metadata": {
    "tags": []
   },
   "outputs": [
    {
     "name": "stderr",
     "output_type": "stream",
     "text": [
      "C:\\Users\\KennedyOdhiambo\\AppData\\Local\\Temp\\ipykernel_9756\\939999158.py:9: DtypeWarning: Columns (3) have mixed types. Specify dtype option on import or set low_memory=False.\n",
      "  books = pd.read_csv('data/Books.csv', encoding='latin-1', on_bad_lines='skip')\n"
     ]
    }
   ],
   "source": [
    "#From Kaggle\n",
    "#importing Ratings datasets\n",
    "ratings = pd.read_csv('data/Ratings.csv', encoding= 'latin-1')\n",
    "\n",
    "# importing users dataset\n",
    "users = pd.read_csv('data/Users.csv', encoding= 'latin-1', on_bad_lines= 'skip')\n",
    "\n",
    "# importing books datasets\n",
    "books = pd.read_csv('data/Books.csv', encoding='latin-1', on_bad_lines='skip')\n",
    "\n",
    "#importing the books queried from google books API\n",
    "api_books = pd.read_csv('data/apibooks.csv')\n"
   ]
  },
  {
   "cell_type": "markdown",
   "metadata": {},
   "source": [
    "**Ratings**"
   ]
  },
  {
   "cell_type": "code",
   "execution_count": 155,
   "metadata": {
    "tags": []
   },
   "outputs": [
    {
     "data": {
      "text/html": [
       "<div>\n",
       "<style scoped>\n",
       "    .dataframe tbody tr th:only-of-type {\n",
       "        vertical-align: middle;\n",
       "    }\n",
       "\n",
       "    .dataframe tbody tr th {\n",
       "        vertical-align: top;\n",
       "    }\n",
       "\n",
       "    .dataframe thead th {\n",
       "        text-align: right;\n",
       "    }\n",
       "</style>\n",
       "<table border=\"1\" class=\"dataframe\">\n",
       "  <thead>\n",
       "    <tr style=\"text-align: right;\">\n",
       "      <th></th>\n",
       "      <th>User-ID</th>\n",
       "      <th>ISBN</th>\n",
       "      <th>Book-Rating</th>\n",
       "    </tr>\n",
       "  </thead>\n",
       "  <tbody>\n",
       "    <tr>\n",
       "      <th>0</th>\n",
       "      <td>276725</td>\n",
       "      <td>034545104X</td>\n",
       "      <td>0</td>\n",
       "    </tr>\n",
       "    <tr>\n",
       "      <th>1</th>\n",
       "      <td>276726</td>\n",
       "      <td>0155061224</td>\n",
       "      <td>5</td>\n",
       "    </tr>\n",
       "    <tr>\n",
       "      <th>2</th>\n",
       "      <td>276727</td>\n",
       "      <td>0446520802</td>\n",
       "      <td>0</td>\n",
       "    </tr>\n",
       "    <tr>\n",
       "      <th>3</th>\n",
       "      <td>276729</td>\n",
       "      <td>052165615X</td>\n",
       "      <td>3</td>\n",
       "    </tr>\n",
       "    <tr>\n",
       "      <th>4</th>\n",
       "      <td>276729</td>\n",
       "      <td>0521795028</td>\n",
       "      <td>6</td>\n",
       "    </tr>\n",
       "  </tbody>\n",
       "</table>\n",
       "</div>"
      ],
      "text/plain": [
       "   User-ID        ISBN  Book-Rating\n",
       "0   276725  034545104X            0\n",
       "1   276726  0155061224            5\n",
       "2   276727  0446520802            0\n",
       "3   276729  052165615X            3\n",
       "4   276729  0521795028            6"
      ]
     },
     "execution_count": 155,
     "metadata": {},
     "output_type": "execute_result"
    }
   ],
   "source": [
    "#exploring the dataset\n",
    "ratings.head()"
   ]
  },
  {
   "cell_type": "code",
   "execution_count": 156,
   "metadata": {
    "tags": []
   },
   "outputs": [
    {
     "name": "stdout",
     "output_type": "stream",
     "text": [
      "<class 'pandas.core.frame.DataFrame'>\n",
      "RangeIndex: 1149780 entries, 0 to 1149779\n",
      "Data columns (total 3 columns):\n",
      " #   Column       Non-Null Count    Dtype \n",
      "---  ------       --------------    ----- \n",
      " 0   User-ID      1149780 non-null  int64 \n",
      " 1   ISBN         1149780 non-null  object\n",
      " 2   Book-Rating  1149780 non-null  int64 \n",
      "dtypes: int64(2), object(1)\n",
      "memory usage: 26.3+ MB\n"
     ]
    }
   ],
   "source": [
    "ratings.info()"
   ]
  },
  {
   "cell_type": "code",
   "execution_count": 157,
   "metadata": {
    "tags": []
   },
   "outputs": [
    {
     "data": {
      "text/plain": [
       "0"
      ]
     },
     "execution_count": 157,
     "metadata": {},
     "output_type": "execute_result"
    }
   ],
   "source": [
    "#checking for duplicates\n",
    "ratings.duplicated().sum()"
   ]
  },
  {
   "cell_type": "code",
   "execution_count": 158,
   "metadata": {
    "tags": []
   },
   "outputs": [
    {
     "data": {
      "text/plain": [
       "105283"
      ]
     },
     "execution_count": 158,
     "metadata": {},
     "output_type": "execute_result"
    }
   ],
   "source": [
    "#checking for number of unique users\n",
    "ratings['User-ID'].nunique()"
   ]
  },
  {
   "cell_type": "code",
   "execution_count": 159,
   "metadata": {
    "tags": []
   },
   "outputs": [
    {
     "data": {
      "text/plain": [
       "340556"
      ]
     },
     "execution_count": 159,
     "metadata": {},
     "output_type": "execute_result"
    }
   ],
   "source": [
    "#checking for unique books\n",
    "ratings['ISBN'].nunique()"
   ]
  },
  {
   "cell_type": "markdown",
   "metadata": {},
   "source": [
    "For the rating dataset;\n",
    "- The dataset has 3 features with **1,149,780** records\n",
    "- The dataset has 105,283 unique users and 340556 different books rated by the users\n",
    "- There are no missing values\n",
    "- There are no duplicates"
   ]
  },
  {
   "cell_type": "markdown",
   "metadata": {},
   "source": [
    "**Books**"
   ]
  },
  {
   "cell_type": "code",
   "execution_count": 160,
   "metadata": {
    "tags": []
   },
   "outputs": [
    {
     "data": {
      "text/html": [
       "<div>\n",
       "<style scoped>\n",
       "    .dataframe tbody tr th:only-of-type {\n",
       "        vertical-align: middle;\n",
       "    }\n",
       "\n",
       "    .dataframe tbody tr th {\n",
       "        vertical-align: top;\n",
       "    }\n",
       "\n",
       "    .dataframe thead th {\n",
       "        text-align: right;\n",
       "    }\n",
       "</style>\n",
       "<table border=\"1\" class=\"dataframe\">\n",
       "  <thead>\n",
       "    <tr style=\"text-align: right;\">\n",
       "      <th></th>\n",
       "      <th>ISBN</th>\n",
       "      <th>Book-Title</th>\n",
       "      <th>Book-Author</th>\n",
       "      <th>Year-Of-Publication</th>\n",
       "      <th>Publisher</th>\n",
       "      <th>Image-URL-S</th>\n",
       "      <th>Image-URL-M</th>\n",
       "      <th>Image-URL-L</th>\n",
       "    </tr>\n",
       "  </thead>\n",
       "  <tbody>\n",
       "    <tr>\n",
       "      <th>0</th>\n",
       "      <td>0195153448</td>\n",
       "      <td>Classical Mythology</td>\n",
       "      <td>Mark P. O. Morford</td>\n",
       "      <td>2002</td>\n",
       "      <td>Oxford University Press</td>\n",
       "      <td>http://images.amazon.com/images/P/0195153448.0...</td>\n",
       "      <td>http://images.amazon.com/images/P/0195153448.0...</td>\n",
       "      <td>http://images.amazon.com/images/P/0195153448.0...</td>\n",
       "    </tr>\n",
       "    <tr>\n",
       "      <th>1</th>\n",
       "      <td>0002005018</td>\n",
       "      <td>Clara Callan</td>\n",
       "      <td>Richard Bruce Wright</td>\n",
       "      <td>2001</td>\n",
       "      <td>HarperFlamingo Canada</td>\n",
       "      <td>http://images.amazon.com/images/P/0002005018.0...</td>\n",
       "      <td>http://images.amazon.com/images/P/0002005018.0...</td>\n",
       "      <td>http://images.amazon.com/images/P/0002005018.0...</td>\n",
       "    </tr>\n",
       "    <tr>\n",
       "      <th>2</th>\n",
       "      <td>0060973129</td>\n",
       "      <td>Decision in Normandy</td>\n",
       "      <td>Carlo D'Este</td>\n",
       "      <td>1991</td>\n",
       "      <td>HarperPerennial</td>\n",
       "      <td>http://images.amazon.com/images/P/0060973129.0...</td>\n",
       "      <td>http://images.amazon.com/images/P/0060973129.0...</td>\n",
       "      <td>http://images.amazon.com/images/P/0060973129.0...</td>\n",
       "    </tr>\n",
       "    <tr>\n",
       "      <th>3</th>\n",
       "      <td>0374157065</td>\n",
       "      <td>Flu: The Story of the Great Influenza Pandemic...</td>\n",
       "      <td>Gina Bari Kolata</td>\n",
       "      <td>1999</td>\n",
       "      <td>Farrar Straus Giroux</td>\n",
       "      <td>http://images.amazon.com/images/P/0374157065.0...</td>\n",
       "      <td>http://images.amazon.com/images/P/0374157065.0...</td>\n",
       "      <td>http://images.amazon.com/images/P/0374157065.0...</td>\n",
       "    </tr>\n",
       "    <tr>\n",
       "      <th>4</th>\n",
       "      <td>0393045218</td>\n",
       "      <td>The Mummies of Urumchi</td>\n",
       "      <td>E. J. W. Barber</td>\n",
       "      <td>1999</td>\n",
       "      <td>W. W. Norton &amp;amp; Company</td>\n",
       "      <td>http://images.amazon.com/images/P/0393045218.0...</td>\n",
       "      <td>http://images.amazon.com/images/P/0393045218.0...</td>\n",
       "      <td>http://images.amazon.com/images/P/0393045218.0...</td>\n",
       "    </tr>\n",
       "  </tbody>\n",
       "</table>\n",
       "</div>"
      ],
      "text/plain": [
       "         ISBN                                         Book-Title  \\\n",
       "0  0195153448                                Classical Mythology   \n",
       "1  0002005018                                       Clara Callan   \n",
       "2  0060973129                               Decision in Normandy   \n",
       "3  0374157065  Flu: The Story of the Great Influenza Pandemic...   \n",
       "4  0393045218                             The Mummies of Urumchi   \n",
       "\n",
       "            Book-Author Year-Of-Publication                   Publisher  \\\n",
       "0    Mark P. O. Morford                2002     Oxford University Press   \n",
       "1  Richard Bruce Wright                2001       HarperFlamingo Canada   \n",
       "2          Carlo D'Este                1991             HarperPerennial   \n",
       "3      Gina Bari Kolata                1999        Farrar Straus Giroux   \n",
       "4       E. J. W. Barber                1999  W. W. Norton &amp; Company   \n",
       "\n",
       "                                         Image-URL-S  \\\n",
       "0  http://images.amazon.com/images/P/0195153448.0...   \n",
       "1  http://images.amazon.com/images/P/0002005018.0...   \n",
       "2  http://images.amazon.com/images/P/0060973129.0...   \n",
       "3  http://images.amazon.com/images/P/0374157065.0...   \n",
       "4  http://images.amazon.com/images/P/0393045218.0...   \n",
       "\n",
       "                                         Image-URL-M  \\\n",
       "0  http://images.amazon.com/images/P/0195153448.0...   \n",
       "1  http://images.amazon.com/images/P/0002005018.0...   \n",
       "2  http://images.amazon.com/images/P/0060973129.0...   \n",
       "3  http://images.amazon.com/images/P/0374157065.0...   \n",
       "4  http://images.amazon.com/images/P/0393045218.0...   \n",
       "\n",
       "                                         Image-URL-L  \n",
       "0  http://images.amazon.com/images/P/0195153448.0...  \n",
       "1  http://images.amazon.com/images/P/0002005018.0...  \n",
       "2  http://images.amazon.com/images/P/0060973129.0...  \n",
       "3  http://images.amazon.com/images/P/0374157065.0...  \n",
       "4  http://images.amazon.com/images/P/0393045218.0...  "
      ]
     },
     "execution_count": 160,
     "metadata": {},
     "output_type": "execute_result"
    }
   ],
   "source": [
    "books.head()"
   ]
  },
  {
   "cell_type": "code",
   "execution_count": 161,
   "metadata": {
    "tags": []
   },
   "outputs": [
    {
     "name": "stdout",
     "output_type": "stream",
     "text": [
      "<class 'pandas.core.frame.DataFrame'>\n",
      "RangeIndex: 271360 entries, 0 to 271359\n",
      "Data columns (total 8 columns):\n",
      " #   Column               Non-Null Count   Dtype \n",
      "---  ------               --------------   ----- \n",
      " 0   ISBN                 271360 non-null  object\n",
      " 1   Book-Title           271360 non-null  object\n",
      " 2   Book-Author          271358 non-null  object\n",
      " 3   Year-Of-Publication  271360 non-null  object\n",
      " 4   Publisher            271358 non-null  object\n",
      " 5   Image-URL-S          271360 non-null  object\n",
      " 6   Image-URL-M          271360 non-null  object\n",
      " 7   Image-URL-L          271357 non-null  object\n",
      "dtypes: object(8)\n",
      "memory usage: 16.6+ MB\n"
     ]
    }
   ],
   "source": [
    "books.info()"
   ]
  },
  {
   "cell_type": "code",
   "execution_count": 162,
   "metadata": {
    "tags": []
   },
   "outputs": [
    {
     "data": {
      "text/plain": [
       "ISBN                   0\n",
       "Book-Title             0\n",
       "Book-Author            2\n",
       "Year-Of-Publication    0\n",
       "Publisher              2\n",
       "Image-URL-S            0\n",
       "Image-URL-M            0\n",
       "Image-URL-L            3\n",
       "dtype: int64"
      ]
     },
     "execution_count": 162,
     "metadata": {},
     "output_type": "execute_result"
    }
   ],
   "source": [
    "books.isna().sum()"
   ]
  },
  {
   "cell_type": "code",
   "execution_count": 163,
   "metadata": {
    "tags": []
   },
   "outputs": [
    {
     "data": {
      "text/plain": [
       "0"
      ]
     },
     "execution_count": 163,
     "metadata": {},
     "output_type": "execute_result"
    }
   ],
   "source": [
    "#checking duplicates\n",
    "books.duplicated().sum()"
   ]
  },
  {
   "cell_type": "markdown",
   "metadata": {},
   "source": [
    "**Users**"
   ]
  },
  {
   "cell_type": "code",
   "execution_count": 164,
   "metadata": {
    "tags": []
   },
   "outputs": [
    {
     "data": {
      "text/html": [
       "<div>\n",
       "<style scoped>\n",
       "    .dataframe tbody tr th:only-of-type {\n",
       "        vertical-align: middle;\n",
       "    }\n",
       "\n",
       "    .dataframe tbody tr th {\n",
       "        vertical-align: top;\n",
       "    }\n",
       "\n",
       "    .dataframe thead th {\n",
       "        text-align: right;\n",
       "    }\n",
       "</style>\n",
       "<table border=\"1\" class=\"dataframe\">\n",
       "  <thead>\n",
       "    <tr style=\"text-align: right;\">\n",
       "      <th></th>\n",
       "      <th>User-ID</th>\n",
       "      <th>Location</th>\n",
       "      <th>Age</th>\n",
       "    </tr>\n",
       "  </thead>\n",
       "  <tbody>\n",
       "    <tr>\n",
       "      <th>0</th>\n",
       "      <td>1</td>\n",
       "      <td>nyc, new york, usa</td>\n",
       "      <td>NaN</td>\n",
       "    </tr>\n",
       "    <tr>\n",
       "      <th>1</th>\n",
       "      <td>2</td>\n",
       "      <td>stockton, california, usa</td>\n",
       "      <td>18.0</td>\n",
       "    </tr>\n",
       "    <tr>\n",
       "      <th>2</th>\n",
       "      <td>3</td>\n",
       "      <td>moscow, yukon territory, russia</td>\n",
       "      <td>NaN</td>\n",
       "    </tr>\n",
       "    <tr>\n",
       "      <th>3</th>\n",
       "      <td>4</td>\n",
       "      <td>porto, v.n.gaia, portugal</td>\n",
       "      <td>17.0</td>\n",
       "    </tr>\n",
       "    <tr>\n",
       "      <th>4</th>\n",
       "      <td>5</td>\n",
       "      <td>farnborough, hants, united kingdom</td>\n",
       "      <td>NaN</td>\n",
       "    </tr>\n",
       "  </tbody>\n",
       "</table>\n",
       "</div>"
      ],
      "text/plain": [
       "   User-ID                            Location   Age\n",
       "0        1                  nyc, new york, usa   NaN\n",
       "1        2           stockton, california, usa  18.0\n",
       "2        3     moscow, yukon territory, russia   NaN\n",
       "3        4           porto, v.n.gaia, portugal  17.0\n",
       "4        5  farnborough, hants, united kingdom   NaN"
      ]
     },
     "execution_count": 164,
     "metadata": {},
     "output_type": "execute_result"
    }
   ],
   "source": [
    "users.head()"
   ]
  },
  {
   "cell_type": "code",
   "execution_count": 165,
   "metadata": {
    "tags": []
   },
   "outputs": [
    {
     "name": "stdout",
     "output_type": "stream",
     "text": [
      "<class 'pandas.core.frame.DataFrame'>\n",
      "RangeIndex: 278858 entries, 0 to 278857\n",
      "Data columns (total 3 columns):\n",
      " #   Column    Non-Null Count   Dtype  \n",
      "---  ------    --------------   -----  \n",
      " 0   User-ID   278858 non-null  int64  \n",
      " 1   Location  278858 non-null  object \n",
      " 2   Age       168096 non-null  float64\n",
      "dtypes: float64(1), int64(1), object(1)\n",
      "memory usage: 6.4+ MB\n"
     ]
    }
   ],
   "source": [
    "users.info()"
   ]
  },
  {
   "cell_type": "code",
   "execution_count": 166,
   "metadata": {
    "tags": []
   },
   "outputs": [
    {
     "data": {
      "text/plain": [
       "User-ID          0\n",
       "Location         0\n",
       "Age         110762\n",
       "dtype: int64"
      ]
     },
     "execution_count": 166,
     "metadata": {},
     "output_type": "execute_result"
    }
   ],
   "source": [
    "users.isna().sum()"
   ]
  },
  {
   "cell_type": "markdown",
   "metadata": {},
   "source": [
    "### Data Cleaning\n",
    "\n",
    "**Users table**\n",
    "\n",
    "The age columns has over 110,000 missing values therefore dropping all these records will lead to loss of monumental information about the users which we can't afford to lose."
   ]
  },
  {
   "cell_type": "code",
   "execution_count": 167,
   "metadata": {
    "tags": []
   },
   "outputs": [],
   "source": [
    "import warnings\n",
    "warnings.filterwarnings(category = FutureWarning, action = 'ignore')"
   ]
  },
  {
   "cell_type": "code",
   "execution_count": 168,
   "metadata": {
    "tags": []
   },
   "outputs": [
    {
     "data": {
      "image/png": "[encoded data removed]",
      "text/plain": [
       "<Figure size 1200x600 with 1 Axes>"
      ]
     },
     "metadata": {},
     "output_type": "display_data"
    }
   ],
   "source": [
    "#examining the distribution of `age` column\n",
    "fig, ax = plt.subplots(figsize = (12, 6))\n",
    "sns.histplot(data= users, x= 'Age', kde= True)\n",
    "ax.set_title('Distribution of Age', fontname='Consolas', fontsize = 25)\n",
    "ax.set_xlabel('Age', fontname='Consolas', fontsize=18)\n",
    "ax.set_ylabel('Number of Users', fontname='Consolas', fontsize=18);"
   ]
  },
  {
   "cell_type": "markdown",
   "metadata": {},
   "source": [
    "Since the data is highly skewed, replacing the missing values with the mean wouldn't be ideal for this project. Instead, the missing values will be replaced by the median value, as it is not susceptible to the outliers."
   ]
  },
  {
   "cell_type": "code",
   "execution_count": 169,
   "metadata": {
    "tags": []
   },
   "outputs": [],
   "source": [
    "#replacing the missing values\n",
    "users['Age'].fillna(users['Age'].median(), inplace= True)"
   ]
  },
  {
   "cell_type": "code",
   "execution_count": 170,
   "metadata": {
    "tags": []
   },
   "outputs": [
    {
     "data": {
      "text/plain": [
       "User-ID     0\n",
       "Location    0\n",
       "Age         0\n",
       "dtype: int64"
      ]
     },
     "execution_count": 170,
     "metadata": {},
     "output_type": "execute_result"
    }
   ],
   "source": [
    "#sanity check\n",
    "users.isna().sum()"
   ]
  },
  {
   "cell_type": "markdown",
   "metadata": {},
   "source": [
    "From the histogram plot, it is observed that there are users with ages as low as 0 and as high as 250. However, in an ideal world, currently with advanced technology, it is assumed that the minimum age for a child to start reading by themselves would be 5 years. Additionally, individuals over 100 years would be least likely to read by themselves or interact with technology. For this project, ages below five years and over 100 years will be treated as most likely placeholders. They will be replaced with the median age."
   ]
  },
  {
   "cell_type": "code",
   "execution_count": 171,
   "metadata": {
    "tags": []
   },
   "outputs": [],
   "source": [
    "# replacing the users with less than 5 year and over 100 years with median\n",
    "\n",
    "users.loc[(users['Age'] < 5) | (users['Age'] > 100)] = users['Age'].median()"
   ]
  },
  {
   "cell_type": "code",
   "execution_count": 172,
   "metadata": {
    "tags": []
   },
   "outputs": [
    {
     "data": {
      "text/html": [
       "<div>\n",
       "<style scoped>\n",
       "    .dataframe tbody tr th:only-of-type {\n",
       "        vertical-align: middle;\n",
       "    }\n",
       "\n",
       "    .dataframe tbody tr th {\n",
       "        vertical-align: top;\n",
       "    }\n",
       "\n",
       "    .dataframe thead th {\n",
       "        text-align: right;\n",
       "    }\n",
       "</style>\n",
       "<table border=\"1\" class=\"dataframe\">\n",
       "  <thead>\n",
       "    <tr style=\"text-align: right;\">\n",
       "      <th></th>\n",
       "      <th>User-ID</th>\n",
       "      <th>Location</th>\n",
       "      <th>Age</th>\n",
       "    </tr>\n",
       "  </thead>\n",
       "  <tbody>\n",
       "    <tr>\n",
       "      <th>54160</th>\n",
       "      <td>54161</td>\n",
       "      <td>perth, ontario, canada</td>\n",
       "      <td>32.0</td>\n",
       "    </tr>\n",
       "    <tr>\n",
       "      <th>256604</th>\n",
       "      <td>256605</td>\n",
       "      <td>madrid, comunidad de madrid, spain</td>\n",
       "      <td>44.0</td>\n",
       "    </tr>\n",
       "    <tr>\n",
       "      <th>275759</th>\n",
       "      <td>275760</td>\n",
       "      <td>charlottetown, prince edward island, canada</td>\n",
       "      <td>32.0</td>\n",
       "    </tr>\n",
       "    <tr>\n",
       "      <th>107900</th>\n",
       "      <td>107901</td>\n",
       "      <td>brescia, lombardia, italy</td>\n",
       "      <td>29.0</td>\n",
       "    </tr>\n",
       "    <tr>\n",
       "      <th>251909</th>\n",
       "      <td>251910</td>\n",
       "      <td>arlington, virginia, usa</td>\n",
       "      <td>32.0</td>\n",
       "    </tr>\n",
       "    <tr>\n",
       "      <th>249582</th>\n",
       "      <td>249583</td>\n",
       "      <td>league city, texas, usa</td>\n",
       "      <td>38.0</td>\n",
       "    </tr>\n",
       "    <tr>\n",
       "      <th>166806</th>\n",
       "      <td>166807</td>\n",
       "      <td>ottawa, ontario, canada</td>\n",
       "      <td>32.0</td>\n",
       "    </tr>\n",
       "    <tr>\n",
       "      <th>217032</th>\n",
       "      <td>217033</td>\n",
       "      <td>houston, texas, usa</td>\n",
       "      <td>32.0</td>\n",
       "    </tr>\n",
       "    <tr>\n",
       "      <th>112000</th>\n",
       "      <td>112001</td>\n",
       "      <td>barren springs, virginia, usa</td>\n",
       "      <td>43.0</td>\n",
       "    </tr>\n",
       "    <tr>\n",
       "      <th>177375</th>\n",
       "      <td>177376</td>\n",
       "      <td>malvern, pennsylvania, usa</td>\n",
       "      <td>32.0</td>\n",
       "    </tr>\n",
       "  </tbody>\n",
       "</table>\n",
       "</div>"
      ],
      "text/plain": [
       "        User-ID                                     Location   Age\n",
       "54160     54161                       perth, ontario, canada  32.0\n",
       "256604   256605           madrid, comunidad de madrid, spain  44.0\n",
       "275759   275760  charlottetown, prince edward island, canada  32.0\n",
       "107900   107901                    brescia, lombardia, italy  29.0\n",
       "251909   251910                     arlington, virginia, usa  32.0\n",
       "249582   249583                      league city, texas, usa  38.0\n",
       "166806   166807                      ottawa, ontario, canada  32.0\n",
       "217032   217033                          houston, texas, usa  32.0\n",
       "112000   112001                barren springs, virginia, usa  43.0\n",
       "177375   177376                   malvern, pennsylvania, usa  32.0"
      ]
     },
     "execution_count": 172,
     "metadata": {},
     "output_type": "execute_result"
    }
   ],
   "source": [
    "#previewing the dataset again\n",
    "users.sample(10)"
   ]
  },
  {
   "cell_type": "markdown",
   "metadata": {},
   "source": [
    "In this project's analysis, the Country will be extracted from the `Location` column. Records with unidentifiable countries will have their null values replaced with `Other`, instead of being dropped."
   ]
  },
  {
   "cell_type": "code",
   "execution_count": 173,
   "metadata": {
    "tags": []
   },
   "outputs": [],
   "source": [
    "# splitting a string into a list\n",
    "users['Country'] = users['Location'].str.split(\", \", expand = True)[2].str.strip()\n",
    "\n",
    "#replacing the none countries with other\n",
    "\n",
    "users['Country'].fillna('Other', inplace =  True)"
   ]
  },
  {
   "cell_type": "code",
   "execution_count": 174,
   "metadata": {
    "tags": []
   },
   "outputs": [
    {
     "data": {
      "text/plain": [
       "0"
      ]
     },
     "execution_count": 174,
     "metadata": {},
     "output_type": "execute_result"
    }
   ],
   "source": [
    "#sanity check\n",
    "users['Country'].isna().sum()"
   ]
  },
  {
   "cell_type": "code",
   "execution_count": 175,
   "metadata": {
    "tags": []
   },
   "outputs": [],
   "source": [
    "#dropping the location column\n",
    "\n",
    "users.drop(columns = ['Location'], inplace = True)"
   ]
  },
  {
   "cell_type": "code",
   "execution_count": 176,
   "metadata": {
    "tags": []
   },
   "outputs": [
    {
     "data": {
      "text/html": [
       "<div>\n",
       "<style scoped>\n",
       "    .dataframe tbody tr th:only-of-type {\n",
       "        vertical-align: middle;\n",
       "    }\n",
       "\n",
       "    .dataframe tbody tr th {\n",
       "        vertical-align: top;\n",
       "    }\n",
       "\n",
       "    .dataframe thead th {\n",
       "        text-align: right;\n",
       "    }\n",
       "</style>\n",
       "<table border=\"1\" class=\"dataframe\">\n",
       "  <thead>\n",
       "    <tr style=\"text-align: right;\">\n",
       "      <th></th>\n",
       "      <th>User-ID</th>\n",
       "      <th>Age</th>\n",
       "      <th>Country</th>\n",
       "    </tr>\n",
       "  </thead>\n",
       "  <tbody>\n",
       "    <tr>\n",
       "      <th>0</th>\n",
       "      <td>1</td>\n",
       "      <td>32.0</td>\n",
       "      <td>usa</td>\n",
       "    </tr>\n",
       "    <tr>\n",
       "      <th>1</th>\n",
       "      <td>2</td>\n",
       "      <td>18.0</td>\n",
       "      <td>usa</td>\n",
       "    </tr>\n",
       "    <tr>\n",
       "      <th>2</th>\n",
       "      <td>3</td>\n",
       "      <td>32.0</td>\n",
       "      <td>russia</td>\n",
       "    </tr>\n",
       "    <tr>\n",
       "      <th>3</th>\n",
       "      <td>4</td>\n",
       "      <td>17.0</td>\n",
       "      <td>portugal</td>\n",
       "    </tr>\n",
       "    <tr>\n",
       "      <th>4</th>\n",
       "      <td>5</td>\n",
       "      <td>32.0</td>\n",
       "      <td>united kingdom</td>\n",
       "    </tr>\n",
       "  </tbody>\n",
       "</table>\n",
       "</div>"
      ],
      "text/plain": [
       "   User-ID   Age         Country\n",
       "0        1  32.0             usa\n",
       "1        2  18.0             usa\n",
       "2        3  32.0          russia\n",
       "3        4  17.0        portugal\n",
       "4        5  32.0  united kingdom"
      ]
     },
     "execution_count": 176,
     "metadata": {},
     "output_type": "execute_result"
    }
   ],
   "source": [
    "#previewin the users table again\n",
    "\n",
    "users.head()"
   ]
  },
  {
   "cell_type": "markdown",
   "metadata": {},
   "source": [
    "Books Table"
   ]
  },
  {
   "cell_type": "code",
   "execution_count": 177,
   "metadata": {
    "tags": []
   },
   "outputs": [
    {
     "data": {
      "text/html": [
       "<div>\n",
       "<style scoped>\n",
       "    .dataframe tbody tr th:only-of-type {\n",
       "        vertical-align: middle;\n",
       "    }\n",
       "\n",
       "    .dataframe tbody tr th {\n",
       "        vertical-align: top;\n",
       "    }\n",
       "\n",
       "    .dataframe thead th {\n",
       "        text-align: right;\n",
       "    }\n",
       "</style>\n",
       "<table border=\"1\" class=\"dataframe\">\n",
       "  <thead>\n",
       "    <tr style=\"text-align: right;\">\n",
       "      <th></th>\n",
       "      <th>ISBN</th>\n",
       "      <th>Book-Title</th>\n",
       "      <th>Book-Author</th>\n",
       "      <th>Year-Of-Publication</th>\n",
       "      <th>Publisher</th>\n",
       "      <th>Image-URL-S</th>\n",
       "      <th>Image-URL-M</th>\n",
       "      <th>Image-URL-L</th>\n",
       "    </tr>\n",
       "  </thead>\n",
       "  <tbody>\n",
       "    <tr>\n",
       "      <th>253654</th>\n",
       "      <td>043908721X</td>\n",
       "      <td>Read to Me: Raising Kids Who Love to Read</td>\n",
       "      <td>Bernice E. Cullinan</td>\n",
       "      <td>2000</td>\n",
       "      <td>Scholastic</td>\n",
       "      <td>http://images.amazon.com/images/P/043908721X.0...</td>\n",
       "      <td>http://images.amazon.com/images/P/043908721X.0...</td>\n",
       "      <td>http://images.amazon.com/images/P/043908721X.0...</td>\n",
       "    </tr>\n",
       "    <tr>\n",
       "      <th>218177</th>\n",
       "      <td>0553298348</td>\n",
       "      <td>Resurrection</td>\n",
       "      <td>Katharine Kerr</td>\n",
       "      <td>1992</td>\n",
       "      <td>Bantam Books</td>\n",
       "      <td>http://images.amazon.com/images/P/0553298348.0...</td>\n",
       "      <td>http://images.amazon.com/images/P/0553298348.0...</td>\n",
       "      <td>http://images.amazon.com/images/P/0553298348.0...</td>\n",
       "    </tr>\n",
       "    <tr>\n",
       "      <th>100660</th>\n",
       "      <td>3499132648</td>\n",
       "      <td>Harrouda.</td>\n",
       "      <td>Tahar BenJelloun</td>\n",
       "      <td>1993</td>\n",
       "      <td>Rowohlt Tb.</td>\n",
       "      <td>http://images.amazon.com/images/P/3499132648.0...</td>\n",
       "      <td>http://images.amazon.com/images/P/3499132648.0...</td>\n",
       "      <td>http://images.amazon.com/images/P/3499132648.0...</td>\n",
       "    </tr>\n",
       "    <tr>\n",
       "      <th>256620</th>\n",
       "      <td>0695316710</td>\n",
       "      <td>Maria and Mr. Feathers</td>\n",
       "      <td>Hannah Kimball</td>\n",
       "      <td>1982</td>\n",
       "      <td>Follett Pub. Co</td>\n",
       "      <td>http://images.amazon.com/images/P/0695316710.0...</td>\n",
       "      <td>http://images.amazon.com/images/P/0695316710.0...</td>\n",
       "      <td>http://images.amazon.com/images/P/0695316710.0...</td>\n",
       "    </tr>\n",
       "    <tr>\n",
       "      <th>163271</th>\n",
       "      <td>0399140778</td>\n",
       "      <td>The Beast: A Reckoning With Depression</td>\n",
       "      <td>Tracy Thompson</td>\n",
       "      <td>1995</td>\n",
       "      <td>Putnam Pub Group</td>\n",
       "      <td>http://images.amazon.com/images/P/0399140778.0...</td>\n",
       "      <td>http://images.amazon.com/images/P/0399140778.0...</td>\n",
       "      <td>http://images.amazon.com/images/P/0399140778.0...</td>\n",
       "    </tr>\n",
       "    <tr>\n",
       "      <th>167849</th>\n",
       "      <td>1557830436</td>\n",
       "      <td>On Singing Onstage (Applause Acting Series)</td>\n",
       "      <td>David Craig</td>\n",
       "      <td>1990</td>\n",
       "      <td>Applause Books</td>\n",
       "      <td>http://images.amazon.com/images/P/1557830436.0...</td>\n",
       "      <td>http://images.amazon.com/images/P/1557830436.0...</td>\n",
       "      <td>http://images.amazon.com/images/P/1557830436.0...</td>\n",
       "    </tr>\n",
       "  </tbody>\n",
       "</table>\n",
       "</div>"
      ],
      "text/plain": [
       "              ISBN                                   Book-Title  \\\n",
       "253654  043908721X    Read to Me: Raising Kids Who Love to Read   \n",
       "218177  0553298348                                 Resurrection   \n",
       "100660  3499132648                                    Harrouda.   \n",
       "256620  0695316710                       Maria and Mr. Feathers   \n",
       "163271  0399140778       The Beast: A Reckoning With Depression   \n",
       "167849  1557830436  On Singing Onstage (Applause Acting Series)   \n",
       "\n",
       "                Book-Author Year-Of-Publication         Publisher  \\\n",
       "253654  Bernice E. Cullinan                2000        Scholastic   \n",
       "218177       Katharine Kerr                1992      Bantam Books   \n",
       "100660     Tahar BenJelloun                1993       Rowohlt Tb.   \n",
       "256620       Hannah Kimball                1982   Follett Pub. Co   \n",
       "163271       Tracy Thompson                1995  Putnam Pub Group   \n",
       "167849          David Craig                1990    Applause Books   \n",
       "\n",
       "                                              Image-URL-S  \\\n",
       "253654  http://images.amazon.com/images/P/043908721X.0...   \n",
       "218177  http://images.amazon.com/images/P/0553298348.0...   \n",
       "100660  http://images.amazon.com/images/P/3499132648.0...   \n",
       "256620  http://images.amazon.com/images/P/0695316710.0...   \n",
       "163271  http://images.amazon.com/images/P/0399140778.0...   \n",
       "167849  http://images.amazon.com/images/P/1557830436.0...   \n",
       "\n",
       "                                              Image-URL-M  \\\n",
       "253654  http://images.amazon.com/images/P/043908721X.0...   \n",
       "218177  http://images.amazon.com/images/P/0553298348.0...   \n",
       "100660  http://images.amazon.com/images/P/3499132648.0...   \n",
       "256620  http://images.amazon.com/images/P/0695316710.0...   \n",
       "163271  http://images.amazon.com/images/P/0399140778.0...   \n",
       "167849  http://images.amazon.com/images/P/1557830436.0...   \n",
       "\n",
       "                                              Image-URL-L  \n",
       "253654  http://images.amazon.com/images/P/043908721X.0...  \n",
       "218177  http://images.amazon.com/images/P/0553298348.0...  \n",
       "100660  http://images.amazon.com/images/P/3499132648.0...  \n",
       "256620  http://images.amazon.com/images/P/0695316710.0...  \n",
       "163271  http://images.amazon.com/images/P/0399140778.0...  \n",
       "167849  http://images.amazon.com/images/P/1557830436.0...  "
      ]
     },
     "execution_count": 177,
     "metadata": {},
     "output_type": "execute_result"
    }
   ],
   "source": [
    "books.sample(6)"
   ]
  },
  {
   "cell_type": "markdown",
   "metadata": {},
   "source": [
    "The International Standard Book Number (ISBN) is a numeric commercial book identifier that is intended to be unique. ISBNs are purchased or received by publishers from an affiliate of the International ISBN Agency. The ISBN is ten digits long if assigned before 2007 and thirteen digits long if assigned on or after 1 January 2007. However, the data utilized in this project was collected in 2004, therefore, ISBNs less than 10 digits or more than 10 would be expected to be invalid."
   ]
  },
  {
   "cell_type": "code",
   "execution_count": 178,
   "metadata": {
    "tags": []
   },
   "outputs": [],
   "source": [
    "#removing the whitespaces if there is any and lower all alphabets the the ISBNS\n",
    "books['ISBN'] = books['ISBN'].str.replace(' ', '').str.lower()"
   ]
  },
  {
   "cell_type": "code",
   "execution_count": 179,
   "metadata": {
    "tags": []
   },
   "outputs": [
    {
     "data": {
      "text/plain": [
       "314"
      ]
     },
     "execution_count": 179,
     "metadata": {},
     "output_type": "execute_result"
    }
   ],
   "source": [
    "#Identifying duplicate ISBN\n",
    "books['ISBN'].duplicated().sum()"
   ]
  },
  {
   "cell_type": "markdown",
   "metadata": {},
   "source": [
    "Since ISBNs are intended to be unique for each book, all the duplicated ISBNs are dropped."
   ]
  },
  {
   "cell_type": "code",
   "execution_count": 180,
   "metadata": {
    "tags": []
   },
   "outputs": [],
   "source": [
    "#dropping the duplicates\n",
    "books.drop_duplicates(subset=[\"ISBN\"], inplace=True)"
   ]
  },
  {
   "cell_type": "code",
   "execution_count": 181,
   "metadata": {
    "tags": []
   },
   "outputs": [
    {
     "data": {
      "text/plain": [
       "0"
      ]
     },
     "execution_count": 181,
     "metadata": {},
     "output_type": "execute_result"
    }
   ],
   "source": [
    "#sanity check\n",
    "books['ISBN'].duplicated().sum()"
   ]
  },
  {
   "cell_type": "code",
   "execution_count": 182,
   "metadata": {
    "tags": []
   },
   "outputs": [
    {
     "data": {
      "text/html": [
       "<div>\n",
       "<style scoped>\n",
       "    .dataframe tbody tr th:only-of-type {\n",
       "        vertical-align: middle;\n",
       "    }\n",
       "\n",
       "    .dataframe tbody tr th {\n",
       "        vertical-align: top;\n",
       "    }\n",
       "\n",
       "    .dataframe thead th {\n",
       "        text-align: right;\n",
       "    }\n",
       "</style>\n",
       "<table border=\"1\" class=\"dataframe\">\n",
       "  <thead>\n",
       "    <tr style=\"text-align: right;\">\n",
       "      <th></th>\n",
       "      <th>ISBN</th>\n",
       "      <th>Book-Title</th>\n",
       "      <th>Book-Author</th>\n",
       "      <th>Year-Of-Publication</th>\n",
       "      <th>Publisher</th>\n",
       "      <th>Image-URL-S</th>\n",
       "      <th>Image-URL-M</th>\n",
       "      <th>Image-URL-L</th>\n",
       "    </tr>\n",
       "  </thead>\n",
       "  <tbody>\n",
       "    <tr>\n",
       "      <th>111808</th>\n",
       "      <td>0486404242\\t</td>\n",
       "      <td>War in Kind: And Other Poems (Dover Thrift Edi...</td>\n",
       "      <td>Stephen Crane</td>\n",
       "      <td>1998</td>\n",
       "      <td>Dover Publications</td>\n",
       "      <td>http://images.amazon.com/images/P/0486404242.0...</td>\n",
       "      <td>http://images.amazon.com/images/P/0486404242.0...</td>\n",
       "      <td>http://images.amazon.com/images/P/0486404242.0...</td>\n",
       "    </tr>\n",
       "    <tr>\n",
       "      <th>171206</th>\n",
       "      <td>3518365479&lt;90</td>\n",
       "      <td>Suhrkamp TaschenbÃ?ÃÂ¼cher, Nr.47, Frost</td>\n",
       "      <td>Thomas Bernhard</td>\n",
       "      <td>1972</td>\n",
       "      <td>Suhrkamp</td>\n",
       "      <td>http://images.amazon.com/images/P/3518365479.0...</td>\n",
       "      <td>http://images.amazon.com/images/P/3518365479.0...</td>\n",
       "      <td>http://images.amazon.com/images/P/3518365479.0...</td>\n",
       "    </tr>\n",
       "    <tr>\n",
       "      <th>251424</th>\n",
       "      <td>34422480273</td>\n",
       "      <td>Diamond Age. Die Grenzwelt.</td>\n",
       "      <td>Neal Stephenson</td>\n",
       "      <td>2000</td>\n",
       "      <td>Goldmann</td>\n",
       "      <td>http://images.amazon.com/images/P/3442248027.0...</td>\n",
       "      <td>http://images.amazon.com/images/P/3442248027.0...</td>\n",
       "      <td>http://images.amazon.com/images/P/3442248027.0...</td>\n",
       "    </tr>\n",
       "    <tr>\n",
       "      <th>251649</th>\n",
       "      <td>03857222060</td>\n",
       "      <td>Balzac and the Little Chinese Seamstress : A N...</td>\n",
       "      <td>DAI SIJIE</td>\n",
       "      <td>2002</td>\n",
       "      <td>Anchor</td>\n",
       "      <td>http://images.amazon.com/images/P/0385722206.0...</td>\n",
       "      <td>http://images.amazon.com/images/P/0385722206.0...</td>\n",
       "      <td>http://images.amazon.com/images/P/0385722206.0...</td>\n",
       "    </tr>\n",
       "  </tbody>\n",
       "</table>\n",
       "</div>"
      ],
      "text/plain": [
       "                 ISBN                                         Book-Title  \\\n",
       "111808   0486404242\\t  War in Kind: And Other Poems (Dover Thrift Edi...   \n",
       "171206  3518365479<90         Suhrkamp TaschenbÃ?ÃÂ¼cher, Nr.47, Frost   \n",
       "251424    34422480273                        Diamond Age. Die Grenzwelt.   \n",
       "251649    03857222060  Balzac and the Little Chinese Seamstress : A N...   \n",
       "\n",
       "            Book-Author Year-Of-Publication           Publisher  \\\n",
       "111808    Stephen Crane                1998  Dover Publications   \n",
       "171206  Thomas Bernhard                1972            Suhrkamp   \n",
       "251424  Neal Stephenson                2000            Goldmann   \n",
       "251649        DAI SIJIE                2002              Anchor   \n",
       "\n",
       "                                              Image-URL-S  \\\n",
       "111808  http://images.amazon.com/images/P/0486404242.0...   \n",
       "171206  http://images.amazon.com/images/P/3518365479.0...   \n",
       "251424  http://images.amazon.com/images/P/3442248027.0...   \n",
       "251649  http://images.amazon.com/images/P/0385722206.0...   \n",
       "\n",
       "                                              Image-URL-M  \\\n",
       "111808  http://images.amazon.com/images/P/0486404242.0...   \n",
       "171206  http://images.amazon.com/images/P/3518365479.0...   \n",
       "251424  http://images.amazon.com/images/P/3442248027.0...   \n",
       "251649  http://images.amazon.com/images/P/0385722206.0...   \n",
       "\n",
       "                                              Image-URL-L  \n",
       "111808  http://images.amazon.com/images/P/0486404242.0...  \n",
       "171206  http://images.amazon.com/images/P/3518365479.0...  \n",
       "251424  http://images.amazon.com/images/P/3442248027.0...  \n",
       "251649  http://images.amazon.com/images/P/0385722206.0...  "
      ]
     },
     "execution_count": 182,
     "metadata": {},
     "output_type": "execute_result"
    }
   ],
   "source": [
    "#Identifying with ISBNS less than 10 and more than 10\n",
    "books.loc[(books['ISBN'].apply(lambda x: len(x) > 10)) | (books['ISBN'].apply(lambda x: len(x) < 10))]"
   ]
  },
  {
   "cell_type": "code",
   "execution_count": 183,
   "metadata": {
    "tags": []
   },
   "outputs": [],
   "source": [
    "#droping the records\n",
    "books.drop(books.loc[(books['ISBN']\n",
    "                      .apply(lambda x: len(x) > 10)) | (books['ISBN']\n",
    "                                                        .apply(lambda x: len(x) < 10))].index, inplace=True)"
   ]
  },
  {
   "cell_type": "code",
   "execution_count": 184,
   "metadata": {
    "tags": []
   },
   "outputs": [
    {
     "data": {
      "text/html": [
       "<div>\n",
       "<style scoped>\n",
       "    .dataframe tbody tr th:only-of-type {\n",
       "        vertical-align: middle;\n",
       "    }\n",
       "\n",
       "    .dataframe tbody tr th {\n",
       "        vertical-align: top;\n",
       "    }\n",
       "\n",
       "    .dataframe thead th {\n",
       "        text-align: right;\n",
       "    }\n",
       "</style>\n",
       "<table border=\"1\" class=\"dataframe\">\n",
       "  <thead>\n",
       "    <tr style=\"text-align: right;\">\n",
       "      <th></th>\n",
       "      <th>ISBN</th>\n",
       "      <th>Book-Title</th>\n",
       "      <th>Book-Author</th>\n",
       "      <th>Year-Of-Publication</th>\n",
       "      <th>Publisher</th>\n",
       "      <th>Image-URL-S</th>\n",
       "      <th>Image-URL-M</th>\n",
       "      <th>Image-URL-L</th>\n",
       "    </tr>\n",
       "  </thead>\n",
       "  <tbody>\n",
       "  </tbody>\n",
       "</table>\n",
       "</div>"
      ],
      "text/plain": [
       "Empty DataFrame\n",
       "Columns: [ISBN, Book-Title, Book-Author, Year-Of-Publication, Publisher, Image-URL-S, Image-URL-M, Image-URL-L]\n",
       "Index: []"
      ]
     },
     "execution_count": 184,
     "metadata": {},
     "output_type": "execute_result"
    }
   ],
   "source": [
    "#sanity check\n",
    "books.loc[(books['ISBN'].apply(lambda x: len(x) > 10)) | (books['ISBN'].apply(lambda x: len(x) < 10))]"
   ]
  },
  {
   "cell_type": "code",
   "execution_count": 185,
   "metadata": {
    "tags": []
   },
   "outputs": [
    {
     "data": {
      "text/html": [
       "<div>\n",
       "<style scoped>\n",
       "    .dataframe tbody tr th:only-of-type {\n",
       "        vertical-align: middle;\n",
       "    }\n",
       "\n",
       "    .dataframe tbody tr th {\n",
       "        vertical-align: top;\n",
       "    }\n",
       "\n",
       "    .dataframe thead th {\n",
       "        text-align: right;\n",
       "    }\n",
       "</style>\n",
       "<table border=\"1\" class=\"dataframe\">\n",
       "  <thead>\n",
       "    <tr style=\"text-align: right;\">\n",
       "      <th></th>\n",
       "      <th>ISBN</th>\n",
       "      <th>Book-Title</th>\n",
       "      <th>Book-Author</th>\n",
       "      <th>Year-Of-Publication</th>\n",
       "      <th>Publisher</th>\n",
       "      <th>Image-URL-S</th>\n",
       "      <th>Image-URL-M</th>\n",
       "      <th>Image-URL-L</th>\n",
       "    </tr>\n",
       "  </thead>\n",
       "  <tbody>\n",
       "    <tr>\n",
       "      <th>158737</th>\n",
       "      <td>0892551658</td>\n",
       "      <td>Our House in the Last World</td>\n",
       "      <td>Oscar Hijuelos</td>\n",
       "      <td>1991</td>\n",
       "      <td>W W Norton &amp;amp; Co</td>\n",
       "      <td>http://images.amazon.com/images/P/0892551658.0...</td>\n",
       "      <td>http://images.amazon.com/images/P/0892551658.0...</td>\n",
       "      <td>http://images.amazon.com/images/P/0892551658.0...</td>\n",
       "    </tr>\n",
       "    <tr>\n",
       "      <th>54872</th>\n",
       "      <td>0452265762</td>\n",
       "      <td>Martha Quest</td>\n",
       "      <td>Doris May Lessing</td>\n",
       "      <td>1993</td>\n",
       "      <td>Penguin USA</td>\n",
       "      <td>http://images.amazon.com/images/P/0452265762.0...</td>\n",
       "      <td>http://images.amazon.com/images/P/0452265762.0...</td>\n",
       "      <td>http://images.amazon.com/images/P/0452265762.0...</td>\n",
       "    </tr>\n",
       "    <tr>\n",
       "      <th>136318</th>\n",
       "      <td>0890439605</td>\n",
       "      <td>Consumer Reports Buying Guide 2002 (Consumer R...</td>\n",
       "      <td>Consumer Reports</td>\n",
       "      <td>2001</td>\n",
       "      <td>Consumer Reports Books</td>\n",
       "      <td>http://images.amazon.com/images/P/0890439605.0...</td>\n",
       "      <td>http://images.amazon.com/images/P/0890439605.0...</td>\n",
       "      <td>http://images.amazon.com/images/P/0890439605.0...</td>\n",
       "    </tr>\n",
       "    <tr>\n",
       "      <th>150655</th>\n",
       "      <td>1569473269</td>\n",
       "      <td>The House Sitter</td>\n",
       "      <td>Peter Lovesey</td>\n",
       "      <td>2003</td>\n",
       "      <td>Soho Press</td>\n",
       "      <td>http://images.amazon.com/images/P/1569473269.0...</td>\n",
       "      <td>http://images.amazon.com/images/P/1569473269.0...</td>\n",
       "      <td>http://images.amazon.com/images/P/1569473269.0...</td>\n",
       "    </tr>\n",
       "    <tr>\n",
       "      <th>119242</th>\n",
       "      <td>1555911668</td>\n",
       "      <td>Meant to Be Wild: The Struggle to Save Endange...</td>\n",
       "      <td>Jan Deblieu</td>\n",
       "      <td>1993</td>\n",
       "      <td>Fulcrum Publishing</td>\n",
       "      <td>http://images.amazon.com/images/P/1555911668.0...</td>\n",
       "      <td>http://images.amazon.com/images/P/1555911668.0...</td>\n",
       "      <td>http://images.amazon.com/images/P/1555911668.0...</td>\n",
       "    </tr>\n",
       "  </tbody>\n",
       "</table>\n",
       "</div>"
      ],
      "text/plain": [
       "              ISBN                                         Book-Title  \\\n",
       "158737  0892551658                        Our House in the Last World   \n",
       "54872   0452265762                                       Martha Quest   \n",
       "136318  0890439605  Consumer Reports Buying Guide 2002 (Consumer R...   \n",
       "150655  1569473269                                   The House Sitter   \n",
       "119242  1555911668  Meant to Be Wild: The Struggle to Save Endange...   \n",
       "\n",
       "              Book-Author Year-Of-Publication               Publisher  \\\n",
       "158737     Oscar Hijuelos                1991     W W Norton &amp; Co   \n",
       "54872   Doris May Lessing                1993             Penguin USA   \n",
       "136318   Consumer Reports                2001  Consumer Reports Books   \n",
       "150655      Peter Lovesey                2003              Soho Press   \n",
       "119242        Jan Deblieu                1993      Fulcrum Publishing   \n",
       "\n",
       "                                              Image-URL-S  \\\n",
       "158737  http://images.amazon.com/images/P/0892551658.0...   \n",
       "54872   http://images.amazon.com/images/P/0452265762.0...   \n",
       "136318  http://images.amazon.com/images/P/0890439605.0...   \n",
       "150655  http://images.amazon.com/images/P/1569473269.0...   \n",
       "119242  http://images.amazon.com/images/P/1555911668.0...   \n",
       "\n",
       "                                              Image-URL-M  \\\n",
       "158737  http://images.amazon.com/images/P/0892551658.0...   \n",
       "54872   http://images.amazon.com/images/P/0452265762.0...   \n",
       "136318  http://images.amazon.com/images/P/0890439605.0...   \n",
       "150655  http://images.amazon.com/images/P/1569473269.0...   \n",
       "119242  http://images.amazon.com/images/P/1555911668.0...   \n",
       "\n",
       "                                              Image-URL-L  \n",
       "158737  http://images.amazon.com/images/P/0892551658.0...  \n",
       "54872   http://images.amazon.com/images/P/0452265762.0...  \n",
       "136318  http://images.amazon.com/images/P/0890439605.0...  \n",
       "150655  http://images.amazon.com/images/P/1569473269.0...  \n",
       "119242  http://images.amazon.com/images/P/1555911668.0...  "
      ]
     },
     "execution_count": 185,
     "metadata": {},
     "output_type": "execute_result"
    }
   ],
   "source": [
    "#previewing the the cleaned books\n",
    "books.sample(5)"
   ]
  },
  {
   "cell_type": "markdown",
   "metadata": {},
   "source": [
    "Api books"
   ]
  },
  {
   "cell_type": "code",
   "execution_count": 186,
   "metadata": {
    "tags": []
   },
   "outputs": [
    {
     "data": {
      "text/html": [
       "<div>\n",
       "<style scoped>\n",
       "    .dataframe tbody tr th:only-of-type {\n",
       "        vertical-align: middle;\n",
       "    }\n",
       "\n",
       "    .dataframe tbody tr th {\n",
       "        vertical-align: top;\n",
       "    }\n",
       "\n",
       "    .dataframe thead th {\n",
       "        text-align: right;\n",
       "    }\n",
       "</style>\n",
       "<table border=\"1\" class=\"dataframe\">\n",
       "  <thead>\n",
       "    <tr style=\"text-align: right;\">\n",
       "      <th></th>\n",
       "      <th>authors</th>\n",
       "      <th>published_date</th>\n",
       "      <th>description</th>\n",
       "      <th>isbn_10</th>\n",
       "      <th>isbn_13</th>\n",
       "      <th>page_count</th>\n",
       "      <th>categories</th>\n",
       "      <th>maturity_rating</th>\n",
       "      <th>language</th>\n",
       "      <th>join_isbn_10</th>\n",
       "    </tr>\n",
       "  </thead>\n",
       "  <tbody>\n",
       "    <tr>\n",
       "      <th>0</th>\n",
       "      <td>['Mark P. O. Morford', 'Robert J. Lenardon']</td>\n",
       "      <td>2003</td>\n",
       "      <td>Provides an introduction to classical myths pl...</td>\n",
       "      <td>0195153448</td>\n",
       "      <td>9780195153446.0</td>\n",
       "      <td>808.0</td>\n",
       "      <td>['Social Science']</td>\n",
       "      <td>NOT_MATURE</td>\n",
       "      <td>en</td>\n",
       "      <td>0195153448</td>\n",
       "    </tr>\n",
       "    <tr>\n",
       "      <th>1</th>\n",
       "      <td>NaN</td>\n",
       "      <td>NaN</td>\n",
       "      <td>NaN</td>\n",
       "      <td>NaN</td>\n",
       "      <td>NaN</td>\n",
       "      <td>NaN</td>\n",
       "      <td>NaN</td>\n",
       "      <td>NaN</td>\n",
       "      <td>NaN</td>\n",
       "      <td>0002005018</td>\n",
       "    </tr>\n",
       "    <tr>\n",
       "      <th>2</th>\n",
       "      <td>[\"Carlo D'Este\"]</td>\n",
       "      <td>1991</td>\n",
       "      <td>Here, for the first time in paperback, is an o...</td>\n",
       "      <td>IND:30000026059836</td>\n",
       "      <td>NaN</td>\n",
       "      <td>582.0</td>\n",
       "      <td>['1940-1949']</td>\n",
       "      <td>NOT_MATURE</td>\n",
       "      <td>en</td>\n",
       "      <td>0060973129</td>\n",
       "    </tr>\n",
       "    <tr>\n",
       "      <th>3</th>\n",
       "      <td>['Gina Bari Kolata']</td>\n",
       "      <td>1999</td>\n",
       "      <td>Describes the great flu epidemic of 1918, an o...</td>\n",
       "      <td>9780374157067</td>\n",
       "      <td>374157065.0</td>\n",
       "      <td>367.0</td>\n",
       "      <td>['Medical']</td>\n",
       "      <td>NOT_MATURE</td>\n",
       "      <td>en</td>\n",
       "      <td>0374157065</td>\n",
       "    </tr>\n",
       "    <tr>\n",
       "      <th>4</th>\n",
       "      <td>['E. J. W. Barber']</td>\n",
       "      <td>1999</td>\n",
       "      <td>A look at the incredibly well-preserved ancien...</td>\n",
       "      <td>0393045218</td>\n",
       "      <td>9780393045215.0</td>\n",
       "      <td>240.0</td>\n",
       "      <td>['Design']</td>\n",
       "      <td>NOT_MATURE</td>\n",
       "      <td>en</td>\n",
       "      <td>0393045218</td>\n",
       "    </tr>\n",
       "  </tbody>\n",
       "</table>\n",
       "</div>"
      ],
      "text/plain": [
       "                                        authors published_date  \\\n",
       "0  ['Mark P. O. Morford', 'Robert J. Lenardon']           2003   \n",
       "1                                           NaN            NaN   \n",
       "2                              [\"Carlo D'Este\"]           1991   \n",
       "3                          ['Gina Bari Kolata']           1999   \n",
       "4                           ['E. J. W. Barber']           1999   \n",
       "\n",
       "                                         description             isbn_10  \\\n",
       "0  Provides an introduction to classical myths pl...          0195153448   \n",
       "1                                                NaN                 NaN   \n",
       "2  Here, for the first time in paperback, is an o...  IND:30000026059836   \n",
       "3  Describes the great flu epidemic of 1918, an o...       9780374157067   \n",
       "4  A look at the incredibly well-preserved ancien...          0393045218   \n",
       "\n",
       "           isbn_13  page_count          categories maturity_rating language  \\\n",
       "0  9780195153446.0       808.0  ['Social Science']      NOT_MATURE       en   \n",
       "1              NaN         NaN                 NaN             NaN      NaN   \n",
       "2              NaN       582.0       ['1940-1949']      NOT_MATURE       en   \n",
       "3      374157065.0       367.0         ['Medical']      NOT_MATURE       en   \n",
       "4  9780393045215.0       240.0          ['Design']      NOT_MATURE       en   \n",
       "\n",
       "  join_isbn_10  \n",
       "0   0195153448  \n",
       "1   0002005018  \n",
       "2   0060973129  \n",
       "3   0374157065  \n",
       "4   0393045218  "
      ]
     },
     "execution_count": 186,
     "metadata": {},
     "output_type": "execute_result"
    }
   ],
   "source": [
    "#previewing the api books\n",
    "api_books.head()"
   ]
  },
  {
   "cell_type": "code",
   "execution_count": 187,
   "metadata": {
    "tags": []
   },
   "outputs": [],
   "source": [
    "#dropping the ISBN_10 and ISBN_13 since we shall use the last column join_isbn_10\n",
    "api_books.drop(columns= ['isbn_10','isbn_13'], inplace= True)"
   ]
  },
  {
   "cell_type": "code",
   "execution_count": 188,
   "metadata": {
    "tags": []
   },
   "outputs": [
    {
     "data": {
      "text/html": [
       "<div>\n",
       "<style scoped>\n",
       "    .dataframe tbody tr th:only-of-type {\n",
       "        vertical-align: middle;\n",
       "    }\n",
       "\n",
       "    .dataframe tbody tr th {\n",
       "        vertical-align: top;\n",
       "    }\n",
       "\n",
       "    .dataframe thead th {\n",
       "        text-align: right;\n",
       "    }\n",
       "</style>\n",
       "<table border=\"1\" class=\"dataframe\">\n",
       "  <thead>\n",
       "    <tr style=\"text-align: right;\">\n",
       "      <th></th>\n",
       "      <th>authors</th>\n",
       "      <th>published_date</th>\n",
       "      <th>description</th>\n",
       "      <th>page_count</th>\n",
       "      <th>categories</th>\n",
       "      <th>maturity_rating</th>\n",
       "      <th>language</th>\n",
       "      <th>join_isbn_10</th>\n",
       "    </tr>\n",
       "  </thead>\n",
       "  <tbody>\n",
       "    <tr>\n",
       "      <th>0</th>\n",
       "      <td>['Mark P. O. Morford', 'Robert J. Lenardon']</td>\n",
       "      <td>2003</td>\n",
       "      <td>Provides an introduction to classical myths pl...</td>\n",
       "      <td>808.0</td>\n",
       "      <td>['Social Science']</td>\n",
       "      <td>NOT_MATURE</td>\n",
       "      <td>en</td>\n",
       "      <td>0195153448</td>\n",
       "    </tr>\n",
       "    <tr>\n",
       "      <th>1</th>\n",
       "      <td>NaN</td>\n",
       "      <td>NaN</td>\n",
       "      <td>NaN</td>\n",
       "      <td>NaN</td>\n",
       "      <td>NaN</td>\n",
       "      <td>NaN</td>\n",
       "      <td>NaN</td>\n",
       "      <td>0002005018</td>\n",
       "    </tr>\n",
       "    <tr>\n",
       "      <th>2</th>\n",
       "      <td>[\"Carlo D'Este\"]</td>\n",
       "      <td>1991</td>\n",
       "      <td>Here, for the first time in paperback, is an o...</td>\n",
       "      <td>582.0</td>\n",
       "      <td>['1940-1949']</td>\n",
       "      <td>NOT_MATURE</td>\n",
       "      <td>en</td>\n",
       "      <td>0060973129</td>\n",
       "    </tr>\n",
       "    <tr>\n",
       "      <th>3</th>\n",
       "      <td>['Gina Bari Kolata']</td>\n",
       "      <td>1999</td>\n",
       "      <td>Describes the great flu epidemic of 1918, an o...</td>\n",
       "      <td>367.0</td>\n",
       "      <td>['Medical']</td>\n",
       "      <td>NOT_MATURE</td>\n",
       "      <td>en</td>\n",
       "      <td>0374157065</td>\n",
       "    </tr>\n",
       "    <tr>\n",
       "      <th>4</th>\n",
       "      <td>['E. J. W. Barber']</td>\n",
       "      <td>1999</td>\n",
       "      <td>A look at the incredibly well-preserved ancien...</td>\n",
       "      <td>240.0</td>\n",
       "      <td>['Design']</td>\n",
       "      <td>NOT_MATURE</td>\n",
       "      <td>en</td>\n",
       "      <td>0393045218</td>\n",
       "    </tr>\n",
       "  </tbody>\n",
       "</table>\n",
       "</div>"
      ],
      "text/plain": [
       "                                        authors published_date  \\\n",
       "0  ['Mark P. O. Morford', 'Robert J. Lenardon']           2003   \n",
       "1                                           NaN            NaN   \n",
       "2                              [\"Carlo D'Este\"]           1991   \n",
       "3                          ['Gina Bari Kolata']           1999   \n",
       "4                           ['E. J. W. Barber']           1999   \n",
       "\n",
       "                                         description  page_count  \\\n",
       "0  Provides an introduction to classical myths pl...       808.0   \n",
       "1                                                NaN         NaN   \n",
       "2  Here, for the first time in paperback, is an o...       582.0   \n",
       "3  Describes the great flu epidemic of 1918, an o...       367.0   \n",
       "4  A look at the incredibly well-preserved ancien...       240.0   \n",
       "\n",
       "           categories maturity_rating language join_isbn_10  \n",
       "0  ['Social Science']      NOT_MATURE       en   0195153448  \n",
       "1                 NaN             NaN      NaN   0002005018  \n",
       "2       ['1940-1949']      NOT_MATURE       en   0060973129  \n",
       "3         ['Medical']      NOT_MATURE       en   0374157065  \n",
       "4          ['Design']      NOT_MATURE       en   0393045218  "
      ]
     },
     "execution_count": 188,
     "metadata": {},
     "output_type": "execute_result"
    }
   ],
   "source": [
    "api_books.head()"
   ]
  },
  {
   "cell_type": "code",
   "execution_count": 189,
   "metadata": {
    "tags": []
   },
   "outputs": [],
   "source": [
    "#merging the books from api and the cleaned books\n",
    "book_df = books.merge(right= api_books, how= 'inner', right_on= 'join_isbn_10', left_on= 'ISBN')"
   ]
  },
  {
   "cell_type": "code",
   "execution_count": 190,
   "metadata": {
    "tags": []
   },
   "outputs": [
    {
     "data": {
      "text/plain": [
       "(249026, 16)"
      ]
     },
     "execution_count": 190,
     "metadata": {},
     "output_type": "execute_result"
    }
   ],
   "source": [
    "book_df.shape"
   ]
  },
  {
   "cell_type": "code",
   "execution_count": 191,
   "metadata": {
    "tags": []
   },
   "outputs": [
    {
     "data": {
      "text/html": [
       "<div>\n",
       "<style scoped>\n",
       "    .dataframe tbody tr th:only-of-type {\n",
       "        vertical-align: middle;\n",
       "    }\n",
       "\n",
       "    .dataframe tbody tr th {\n",
       "        vertical-align: top;\n",
       "    }\n",
       "\n",
       "    .dataframe thead th {\n",
       "        text-align: right;\n",
       "    }\n",
       "</style>\n",
       "<table border=\"1\" class=\"dataframe\">\n",
       "  <thead>\n",
       "    <tr style=\"text-align: right;\">\n",
       "      <th></th>\n",
       "      <th>ISBN</th>\n",
       "      <th>Book-Title</th>\n",
       "      <th>Book-Author</th>\n",
       "      <th>Year-Of-Publication</th>\n",
       "      <th>Publisher</th>\n",
       "      <th>Image-URL-S</th>\n",
       "      <th>Image-URL-M</th>\n",
       "      <th>Image-URL-L</th>\n",
       "      <th>authors</th>\n",
       "      <th>published_date</th>\n",
       "      <th>description</th>\n",
       "      <th>page_count</th>\n",
       "      <th>categories</th>\n",
       "      <th>maturity_rating</th>\n",
       "      <th>language</th>\n",
       "      <th>join_isbn_10</th>\n",
       "    </tr>\n",
       "  </thead>\n",
       "  <tbody>\n",
       "    <tr>\n",
       "      <th>0</th>\n",
       "      <td>0195153448</td>\n",
       "      <td>Classical Mythology</td>\n",
       "      <td>Mark P. O. Morford</td>\n",
       "      <td>2002</td>\n",
       "      <td>Oxford University Press</td>\n",
       "      <td>http://images.amazon.com/images/P/0195153448.0...</td>\n",
       "      <td>http://images.amazon.com/images/P/0195153448.0...</td>\n",
       "      <td>http://images.amazon.com/images/P/0195153448.0...</td>\n",
       "      <td>['Mark P. O. Morford', 'Robert J. Lenardon']</td>\n",
       "      <td>2003</td>\n",
       "      <td>Provides an introduction to classical myths pl...</td>\n",
       "      <td>808.0</td>\n",
       "      <td>['Social Science']</td>\n",
       "      <td>NOT_MATURE</td>\n",
       "      <td>en</td>\n",
       "      <td>0195153448</td>\n",
       "    </tr>\n",
       "    <tr>\n",
       "      <th>1</th>\n",
       "      <td>0002005018</td>\n",
       "      <td>Clara Callan</td>\n",
       "      <td>Richard Bruce Wright</td>\n",
       "      <td>2001</td>\n",
       "      <td>HarperFlamingo Canada</td>\n",
       "      <td>http://images.amazon.com/images/P/0002005018.0...</td>\n",
       "      <td>http://images.amazon.com/images/P/0002005018.0...</td>\n",
       "      <td>http://images.amazon.com/images/P/0002005018.0...</td>\n",
       "      <td>NaN</td>\n",
       "      <td>NaN</td>\n",
       "      <td>NaN</td>\n",
       "      <td>NaN</td>\n",
       "      <td>NaN</td>\n",
       "      <td>NaN</td>\n",
       "      <td>NaN</td>\n",
       "      <td>0002005018</td>\n",
       "    </tr>\n",
       "    <tr>\n",
       "      <th>2</th>\n",
       "      <td>0060973129</td>\n",
       "      <td>Decision in Normandy</td>\n",
       "      <td>Carlo D'Este</td>\n",
       "      <td>1991</td>\n",
       "      <td>HarperPerennial</td>\n",
       "      <td>http://images.amazon.com/images/P/0060973129.0...</td>\n",
       "      <td>http://images.amazon.com/images/P/0060973129.0...</td>\n",
       "      <td>http://images.amazon.com/images/P/0060973129.0...</td>\n",
       "      <td>[\"Carlo D'Este\"]</td>\n",
       "      <td>1991</td>\n",
       "      <td>Here, for the first time in paperback, is an o...</td>\n",
       "      <td>582.0</td>\n",
       "      <td>['1940-1949']</td>\n",
       "      <td>NOT_MATURE</td>\n",
       "      <td>en</td>\n",
       "      <td>0060973129</td>\n",
       "    </tr>\n",
       "    <tr>\n",
       "      <th>3</th>\n",
       "      <td>0374157065</td>\n",
       "      <td>Flu: The Story of the Great Influenza Pandemic...</td>\n",
       "      <td>Gina Bari Kolata</td>\n",
       "      <td>1999</td>\n",
       "      <td>Farrar Straus Giroux</td>\n",
       "      <td>http://images.amazon.com/images/P/0374157065.0...</td>\n",
       "      <td>http://images.amazon.com/images/P/0374157065.0...</td>\n",
       "      <td>http://images.amazon.com/images/P/0374157065.0...</td>\n",
       "      <td>['Gina Bari Kolata']</td>\n",
       "      <td>1999</td>\n",
       "      <td>Describes the great flu epidemic of 1918, an o...</td>\n",
       "      <td>367.0</td>\n",
       "      <td>['Medical']</td>\n",
       "      <td>NOT_MATURE</td>\n",
       "      <td>en</td>\n",
       "      <td>0374157065</td>\n",
       "    </tr>\n",
       "    <tr>\n",
       "      <th>4</th>\n",
       "      <td>0393045218</td>\n",
       "      <td>The Mummies of Urumchi</td>\n",
       "      <td>E. J. W. Barber</td>\n",
       "      <td>1999</td>\n",
       "      <td>W. W. Norton &amp;amp; Company</td>\n",
       "      <td>http://images.amazon.com/images/P/0393045218.0...</td>\n",
       "      <td>http://images.amazon.com/images/P/0393045218.0...</td>\n",
       "      <td>http://images.amazon.com/images/P/0393045218.0...</td>\n",
       "      <td>['E. J. W. Barber']</td>\n",
       "      <td>1999</td>\n",
       "      <td>A look at the incredibly well-preserved ancien...</td>\n",
       "      <td>240.0</td>\n",
       "      <td>['Design']</td>\n",
       "      <td>NOT_MATURE</td>\n",
       "      <td>en</td>\n",
       "      <td>0393045218</td>\n",
       "    </tr>\n",
       "  </tbody>\n",
       "</table>\n",
       "</div>"
      ],
      "text/plain": [
       "         ISBN                                         Book-Title  \\\n",
       "0  0195153448                                Classical Mythology   \n",
       "1  0002005018                                       Clara Callan   \n",
       "2  0060973129                               Decision in Normandy   \n",
       "3  0374157065  Flu: The Story of the Great Influenza Pandemic...   \n",
       "4  0393045218                             The Mummies of Urumchi   \n",
       "\n",
       "            Book-Author Year-Of-Publication                   Publisher  \\\n",
       "0    Mark P. O. Morford                2002     Oxford University Press   \n",
       "1  Richard Bruce Wright                2001       HarperFlamingo Canada   \n",
       "2          Carlo D'Este                1991             HarperPerennial   \n",
       "3      Gina Bari Kolata                1999        Farrar Straus Giroux   \n",
       "4       E. J. W. Barber                1999  W. W. Norton &amp; Company   \n",
       "\n",
       "                                         Image-URL-S  \\\n",
       "0  http://images.amazon.com/images/P/0195153448.0...   \n",
       "1  http://images.amazon.com/images/P/0002005018.0...   \n",
       "2  http://images.amazon.com/images/P/0060973129.0...   \n",
       "3  http://images.amazon.com/images/P/0374157065.0...   \n",
       "4  http://images.amazon.com/images/P/0393045218.0...   \n",
       "\n",
       "                                         Image-URL-M  \\\n",
       "0  http://images.amazon.com/images/P/0195153448.0...   \n",
       "1  http://images.amazon.com/images/P/0002005018.0...   \n",
       "2  http://images.amazon.com/images/P/0060973129.0...   \n",
       "3  http://images.amazon.com/images/P/0374157065.0...   \n",
       "4  http://images.amazon.com/images/P/0393045218.0...   \n",
       "\n",
       "                                         Image-URL-L  \\\n",
       "0  http://images.amazon.com/images/P/0195153448.0...   \n",
       "1  http://images.amazon.com/images/P/0002005018.0...   \n",
       "2  http://images.amazon.com/images/P/0060973129.0...   \n",
       "3  http://images.amazon.com/images/P/0374157065.0...   \n",
       "4  http://images.amazon.com/images/P/0393045218.0...   \n",
       "\n",
       "                                        authors published_date  \\\n",
       "0  ['Mark P. O. Morford', 'Robert J. Lenardon']           2003   \n",
       "1                                           NaN            NaN   \n",
       "2                              [\"Carlo D'Este\"]           1991   \n",
       "3                          ['Gina Bari Kolata']           1999   \n",
       "4                           ['E. J. W. Barber']           1999   \n",
       "\n",
       "                                         description  page_count  \\\n",
       "0  Provides an introduction to classical myths pl...       808.0   \n",
       "1                                                NaN         NaN   \n",
       "2  Here, for the first time in paperback, is an o...       582.0   \n",
       "3  Describes the great flu epidemic of 1918, an o...       367.0   \n",
       "4  A look at the incredibly well-preserved ancien...       240.0   \n",
       "\n",
       "           categories maturity_rating language join_isbn_10  \n",
       "0  ['Social Science']      NOT_MATURE       en   0195153448  \n",
       "1                 NaN             NaN      NaN   0002005018  \n",
       "2       ['1940-1949']      NOT_MATURE       en   0060973129  \n",
       "3         ['Medical']      NOT_MATURE       en   0374157065  \n",
       "4          ['Design']      NOT_MATURE       en   0393045218  "
      ]
     },
     "execution_count": 191,
     "metadata": {},
     "output_type": "execute_result"
    }
   ],
   "source": [
    "#previewing the merged books df\n",
    "\n",
    "book_df.head()"
   ]
  },
  {
   "cell_type": "markdown",
   "metadata": {},
   "source": [
    "When importing the books data, it was noticed that there were mixed data types. Therefore, before beginning the analysis, it would be better to examine the cause of this in the 3rd column (`Year-Of-Publication`) before proceeding with the exploratory data analysis (EDA)."
   ]
  },
  {
   "cell_type": "code",
   "execution_count": 192,
   "metadata": {
    "tags": []
   },
   "outputs": [
    {
     "data": {
      "text/plain": [
       "array([2002, 2001, 1991, 1999, 2000, 1993, 1996, 1988, 2004, 1998, 1994,\n",
       "       2003, 1997, 1995, 1982, 1985, 1992, 1986, 1978, 1980, 1983, 1952,\n",
       "       1987, 1981, 1990, 1989, 1984, 0, 1968, 1961, 1958, 1974, 1976,\n",
       "       1971, 1977, 1975, 1965, 1941, 1970, 1962, 1972, 1960, 1979, 1966,\n",
       "       1920, 1973, 1956, 1959, 1953, 1951, 1942, 1963, 1964, 1969, 1950,\n",
       "       1967, 2005, 1957, 1937, 1955, 1954, 1946, 1930, 2011, 1925, 1948,\n",
       "       1943, 1947, 1923, 1939, 1926, 1938, 2030, 1940, 1911, 1949, 1932,\n",
       "       1928, 1929, 1945, 1927, 1936, 1931, 1914, 2050, 1934, 1910, 1933,\n",
       "       1902, 1924, 1921, 2038, 2026, 1944, 1917, 1901, 2010, 1908, 1906,\n",
       "       1935, 1806, 2021, '2000', '1995', '1999', '2003', '1990', '1994',\n",
       "       '1986', '1989', '2002', '1981', '1993', '1983', '1982', '1976',\n",
       "       '1991', '1977', '1998', '1992', '0', '2001', '1997', '1996',\n",
       "       '2004', '1968', '1987', '1984', '1988', '1963', '1956', '1974',\n",
       "       '1970', '1985', '1978', '1973', '1980', '1979', '1961', '1965',\n",
       "       '1939', '1975', '1958', '1950', '1953', '1966', '1971', '1969',\n",
       "       '1959', '1972', '1955', '1957', '1945', '1967', '1960', '1932',\n",
       "       '1924', '2012', '1911', '1964', '1927', '1948', '1962', '2006',\n",
       "       '1952', '1940', '1951', '1931', '2005', '1930', '1941', '1944',\n",
       "       '1943', '1938', '1900', '1942', '1954', '1923', '1920', '1933',\n",
       "       'Gallimard', 'DK Publishing Inc', '1909', '1946', '1378', '2030',\n",
       "       '1936', '1947', '2011', '1919', '1949', '1922', '1897', '2024',\n",
       "       '1926'], dtype=object)"
      ]
     },
     "execution_count": 192,
     "metadata": {},
     "output_type": "execute_result"
    }
   ],
   "source": [
    "#Checking inique values for years\n",
    "book_df['Year-Of-Publication'].unique()"
   ]
  },
  {
   "cell_type": "markdown",
   "metadata": {},
   "source": [
    "It is noticed that there are values such as `DK Publishing Inc` and `Gallimard`, which are not ideal for years. Therefore, the rows with these values will be examined."
   ]
  },
  {
   "cell_type": "code",
   "execution_count": 193,
   "metadata": {
    "tags": []
   },
   "outputs": [
    {
     "data": {
      "text/html": [
       "<div>\n",
       "<style scoped>\n",
       "    .dataframe tbody tr th:only-of-type {\n",
       "        vertical-align: middle;\n",
       "    }\n",
       "\n",
       "    .dataframe tbody tr th {\n",
       "        vertical-align: top;\n",
       "    }\n",
       "\n",
       "    .dataframe thead th {\n",
       "        text-align: right;\n",
       "    }\n",
       "</style>\n",
       "<table border=\"1\" class=\"dataframe\">\n",
       "  <thead>\n",
       "    <tr style=\"text-align: right;\">\n",
       "      <th></th>\n",
       "      <th>ISBN</th>\n",
       "      <th>Book-Title</th>\n",
       "      <th>Book-Author</th>\n",
       "      <th>Year-Of-Publication</th>\n",
       "      <th>Publisher</th>\n",
       "      <th>Image-URL-S</th>\n",
       "      <th>Image-URL-M</th>\n",
       "      <th>Image-URL-L</th>\n",
       "      <th>authors</th>\n",
       "      <th>published_date</th>\n",
       "      <th>description</th>\n",
       "      <th>page_count</th>\n",
       "      <th>categories</th>\n",
       "      <th>maturity_rating</th>\n",
       "      <th>language</th>\n",
       "      <th>join_isbn_10</th>\n",
       "    </tr>\n",
       "  </thead>\n",
       "  <tbody>\n",
       "    <tr>\n",
       "      <th>202625</th>\n",
       "      <td>2070426769</td>\n",
       "      <td>Peuple du ciel, suivi de 'Les Bergers\\\";Jean-M...</td>\n",
       "      <td>2003</td>\n",
       "      <td>Gallimard</td>\n",
       "      <td>http://images.amazon.com/images/P/2070426769.0...</td>\n",
       "      <td>http://images.amazon.com/images/P/2070426769.0...</td>\n",
       "      <td>http://images.amazon.com/images/P/2070426769.0...</td>\n",
       "      <td>NaN</td>\n",
       "      <td>['Jean-Marie Gustave Le ClÃ©zio']</td>\n",
       "      <td>2002</td>\n",
       "      <td>Deux enfants vivent une expÃ©rience qui boulev...</td>\n",
       "      <td>132.0</td>\n",
       "      <td>['Fiction']</td>\n",
       "      <td>NOT_MATURE</td>\n",
       "      <td>fr</td>\n",
       "      <td>2070426769</td>\n",
       "    </tr>\n",
       "    <tr>\n",
       "      <th>203486</th>\n",
       "      <td>0789466953</td>\n",
       "      <td>DK Readers: Creating the X-Men, How Comic Book...</td>\n",
       "      <td>2000</td>\n",
       "      <td>DK Publishing Inc</td>\n",
       "      <td>http://images.amazon.com/images/P/0789466953.0...</td>\n",
       "      <td>http://images.amazon.com/images/P/0789466953.0...</td>\n",
       "      <td>http://images.amazon.com/images/P/0789466953.0...</td>\n",
       "      <td>NaN</td>\n",
       "      <td>['James Buckley (Jr.)', 'Michael Teitelbaum']</td>\n",
       "      <td>2000</td>\n",
       "      <td>Meet the artists, writers and others who make ...</td>\n",
       "      <td>54.0</td>\n",
       "      <td>['Graphic novels']</td>\n",
       "      <td>NOT_MATURE</td>\n",
       "      <td>en</td>\n",
       "      <td>0789466953</td>\n",
       "    </tr>\n",
       "  </tbody>\n",
       "</table>\n",
       "</div>"
      ],
      "text/plain": [
       "              ISBN                                         Book-Title  \\\n",
       "202625  2070426769  Peuple du ciel, suivi de 'Les Bergers\\\";Jean-M...   \n",
       "203486  0789466953  DK Readers: Creating the X-Men, How Comic Book...   \n",
       "\n",
       "       Book-Author Year-Of-Publication  \\\n",
       "202625        2003           Gallimard   \n",
       "203486        2000   DK Publishing Inc   \n",
       "\n",
       "                                                Publisher  \\\n",
       "202625  http://images.amazon.com/images/P/2070426769.0...   \n",
       "203486  http://images.amazon.com/images/P/0789466953.0...   \n",
       "\n",
       "                                              Image-URL-S  \\\n",
       "202625  http://images.amazon.com/images/P/2070426769.0...   \n",
       "203486  http://images.amazon.com/images/P/0789466953.0...   \n",
       "\n",
       "                                              Image-URL-M Image-URL-L  \\\n",
       "202625  http://images.amazon.com/images/P/2070426769.0...         NaN   \n",
       "203486  http://images.amazon.com/images/P/0789466953.0...         NaN   \n",
       "\n",
       "                                              authors published_date  \\\n",
       "202625              ['Jean-Marie Gustave Le ClÃ©zio']           2002   \n",
       "203486  ['James Buckley (Jr.)', 'Michael Teitelbaum']           2000   \n",
       "\n",
       "                                              description  page_count  \\\n",
       "202625  Deux enfants vivent une expÃ©rience qui boulev...       132.0   \n",
       "203486  Meet the artists, writers and others who make ...        54.0   \n",
       "\n",
       "                categories maturity_rating language join_isbn_10  \n",
       "202625         ['Fiction']      NOT_MATURE       fr   2070426769  \n",
       "203486  ['Graphic novels']      NOT_MATURE       en   0789466953  "
      ]
     },
     "execution_count": 193,
     "metadata": {},
     "output_type": "execute_result"
    }
   ],
   "source": [
    "#previewing the records with wrong years\n",
    "book_df.loc[(book_df['Year-Of-Publication'] == 'DK Publishing Inc') \n",
    "            | (book_df['Year-Of-Publication'] == 'Gallimard')]"
   ]
  },
  {
   "cell_type": "markdown",
   "metadata": {},
   "source": [
    "Instead of dropping these records, the `Book-Author`, `Year-Of-Publication`, and `Publisher` columns will be fixed for these records using the available information. It is noticed that the year of publication was moved to the book author column at the time of recording, while the publisher was recorded in the year of publication column. The book author can be found from the authors column."
   ]
  },
  {
   "cell_type": "code",
   "execution_count": 194,
   "metadata": {
    "tags": []
   },
   "outputs": [
    {
     "name": "stderr",
     "output_type": "stream",
     "text": [
      "C:\\Users\\KennedyOdhiambo\\AppData\\Local\\Temp\\ipykernel_9756\\392233048.py:9: SettingWithCopyWarning: \n",
      "A value is trying to be set on a copy of a slice from a DataFrame\n",
      "\n",
      "See the caveats in the documentation: https://pandas.pydata.org/pandas-docs/stable/user_guide/indexing.html#returning-a-view-versus-a-copy\n",
      "  book_df.iloc[203486]['Book-Author'] = 'James Buckley (Jr.)'\n",
      "C:\\Users\\KennedyOdhiambo\\AppData\\Local\\Temp\\ipykernel_9756\\392233048.py:10: SettingWithCopyWarning: \n",
      "A value is trying to be set on a copy of a slice from a DataFrame\n",
      "\n",
      "See the caveats in the documentation: https://pandas.pydata.org/pandas-docs/stable/user_guide/indexing.html#returning-a-view-versus-a-copy\n",
      "  book_df.iloc[202625]['Book-Author'] = 'Jean-Marie Gustave Le ClÃ©zio'\n",
      "C:\\Users\\KennedyOdhiambo\\AppData\\Local\\Temp\\ipykernel_9756\\392233048.py:13: SettingWithCopyWarning: \n",
      "A value is trying to be set on a copy of a slice from a DataFrame\n",
      "\n",
      "See the caveats in the documentation: https://pandas.pydata.org/pandas-docs/stable/user_guide/indexing.html#returning-a-view-versus-a-copy\n",
      "  book_df.iloc[203486]['Publisher'] = 'DK Publishing Inc'\n",
      "C:\\Users\\KennedyOdhiambo\\AppData\\Local\\Temp\\ipykernel_9756\\392233048.py:14: SettingWithCopyWarning: \n",
      "A value is trying to be set on a copy of a slice from a DataFrame\n",
      "\n",
      "See the caveats in the documentation: https://pandas.pydata.org/pandas-docs/stable/user_guide/indexing.html#returning-a-view-versus-a-copy\n",
      "  book_df.iloc[202625]['Publisher'] = 'Gallimard'\n"
     ]
    }
   ],
   "source": [
    "#fixing the mislabeled records\n",
    "publication_dict = {'DK Publishing Inc': 2000,\n",
    "                    'Gallimard': 2003}\n",
    "\n",
    "#year of publication\n",
    "book_df['Year-Of-Publication'].replace(publication_dict, inplace= True)\n",
    "\n",
    "#Fixing book author\n",
    "book_df.iloc[203486]['Book-Author'] = 'James Buckley (Jr.)'\n",
    "book_df.iloc[202625]['Book-Author'] = 'Jean-Marie Gustave Le ClÃ©zio'\n",
    "\n",
    "#fixing the publisher\n",
    "book_df.iloc[203486]['Publisher'] = 'DK Publishing Inc'\n",
    "book_df.iloc[202625]['Publisher'] = 'Gallimard'\n"
   ]
  },
  {
   "cell_type": "code",
   "execution_count": 195,
   "metadata": {
    "tags": []
   },
   "outputs": [
    {
     "data": {
      "text/html": [
       "<div>\n",
       "<style scoped>\n",
       "    .dataframe tbody tr th:only-of-type {\n",
       "        vertical-align: middle;\n",
       "    }\n",
       "\n",
       "    .dataframe tbody tr th {\n",
       "        vertical-align: top;\n",
       "    }\n",
       "\n",
       "    .dataframe thead th {\n",
       "        text-align: right;\n",
       "    }\n",
       "</style>\n",
       "<table border=\"1\" class=\"dataframe\">\n",
       "  <thead>\n",
       "    <tr style=\"text-align: right;\">\n",
       "      <th></th>\n",
       "      <th>ISBN</th>\n",
       "      <th>Book-Title</th>\n",
       "      <th>Book-Author</th>\n",
       "      <th>Year-Of-Publication</th>\n",
       "      <th>Publisher</th>\n",
       "      <th>Image-URL-S</th>\n",
       "      <th>Image-URL-M</th>\n",
       "      <th>Image-URL-L</th>\n",
       "      <th>authors</th>\n",
       "      <th>published_date</th>\n",
       "      <th>description</th>\n",
       "      <th>page_count</th>\n",
       "      <th>categories</th>\n",
       "      <th>maturity_rating</th>\n",
       "      <th>language</th>\n",
       "      <th>join_isbn_10</th>\n",
       "    </tr>\n",
       "  </thead>\n",
       "  <tbody>\n",
       "  </tbody>\n",
       "</table>\n",
       "</div>"
      ],
      "text/plain": [
       "Empty DataFrame\n",
       "Columns: [ISBN, Book-Title, Book-Author, Year-Of-Publication, Publisher, Image-URL-S, Image-URL-M, Image-URL-L, authors, published_date, description, page_count, categories, maturity_rating, language, join_isbn_10]\n",
       "Index: []"
      ]
     },
     "execution_count": 195,
     "metadata": {},
     "output_type": "execute_result"
    }
   ],
   "source": [
    "#sanity check\n",
    "book_df.loc[(book_df['Year-Of-Publication'] == 'DK Publishing Inc') \n",
    "            | (book_df['Year-Of-Publication'] == 'Gallimard')]"
   ]
  },
  {
   "cell_type": "code",
   "execution_count": 196,
   "metadata": {
    "tags": []
   },
   "outputs": [],
   "source": [
    "#converting the year column to integer\n",
    "book_df['Year-Of-Publication'] = book_df['Year-Of-Publication'].astype(int)"
   ]
  },
  {
   "cell_type": "code",
   "execution_count": 197,
   "metadata": {
    "tags": []
   },
   "outputs": [
    {
     "data": {
      "text/plain": [
       "Year-Of-Publication\n",
       "2050        2\n",
       "2038        1\n",
       "2030        7\n",
       "2026        1\n",
       "2024        1\n",
       "2021        1\n",
       "2012        1\n",
       "2011        2\n",
       "2010        2\n",
       "2006        3\n",
       "2005       39\n",
       "2004     5347\n",
       "2003    13086\n",
       "2002    16103\n",
       "2001    15851\n",
       "2000    15748\n",
       "1999    15951\n",
       "1998    14512\n",
       "1997    13648\n",
       "1996    12907\n",
       "Name: count, dtype: int64"
      ]
     },
     "execution_count": 197,
     "metadata": {},
     "output_type": "execute_result"
    }
   ],
   "source": [
    "#Rechecking the values of years dataset\n",
    "book_df['Year-Of-Publication'].value_counts().sort_index(ascending= False)[:20]"
   ]
  },
  {
   "cell_type": "markdown",
   "metadata": {},
   "source": [
    "#"
   ]
  },
  {
   "cell_type": "markdown",
   "metadata": {},
   "source": [
    "Considering that the main dataset utilized in this project was collected in 2004, it's essential to inspect the columns containing years above 2004."
   ]
  },
  {
   "cell_type": "code",
   "execution_count": 198,
   "metadata": {
    "tags": []
   },
   "outputs": [
    {
     "data": {
      "text/html": [
       "<div>\n",
       "<style scoped>\n",
       "    .dataframe tbody tr th:only-of-type {\n",
       "        vertical-align: middle;\n",
       "    }\n",
       "\n",
       "    .dataframe tbody tr th {\n",
       "        vertical-align: top;\n",
       "    }\n",
       "\n",
       "    .dataframe thead th {\n",
       "        text-align: right;\n",
       "    }\n",
       "</style>\n",
       "<table border=\"1\" class=\"dataframe\">\n",
       "  <thead>\n",
       "    <tr style=\"text-align: right;\">\n",
       "      <th></th>\n",
       "      <th>ISBN</th>\n",
       "      <th>Book-Title</th>\n",
       "      <th>Book-Author</th>\n",
       "      <th>Year-Of-Publication</th>\n",
       "      <th>Publisher</th>\n",
       "      <th>Image-URL-S</th>\n",
       "      <th>Image-URL-M</th>\n",
       "      <th>Image-URL-L</th>\n",
       "      <th>authors</th>\n",
       "      <th>published_date</th>\n",
       "      <th>description</th>\n",
       "      <th>page_count</th>\n",
       "      <th>categories</th>\n",
       "      <th>maturity_rating</th>\n",
       "      <th>language</th>\n",
       "      <th>join_isbn_10</th>\n",
       "    </tr>\n",
       "  </thead>\n",
       "  <tbody>\n",
       "    <tr>\n",
       "      <th>230410</th>\n",
       "      <td>0316156108</td>\n",
       "      <td>The Ha-Ha : A Novel</td>\n",
       "      <td>Dave King</td>\n",
       "      <td>2005</td>\n",
       "      <td>Little, Brown</td>\n",
       "      <td>http://images.amazon.com/images/P/0316156108.0...</td>\n",
       "      <td>http://images.amazon.com/images/P/0316156108.0...</td>\n",
       "      <td>http://images.amazon.com/images/P/0316156108.0...</td>\n",
       "      <td>['Dave King']</td>\n",
       "      <td>2005</td>\n",
       "      <td>Rendered unable to speak, read, or write after...</td>\n",
       "      <td>340.0</td>\n",
       "      <td>['Fiction']</td>\n",
       "      <td>NOT_MATURE</td>\n",
       "      <td>en</td>\n",
       "      <td>0316156108</td>\n",
       "    </tr>\n",
       "    <tr>\n",
       "      <th>100372</th>\n",
       "      <td>0881501719</td>\n",
       "      <td>The Asey Mayo Trio: Three Cape Cod Mysteries</td>\n",
       "      <td>Phoebe Atwood Taylor</td>\n",
       "      <td>2005</td>\n",
       "      <td>Countryman Press</td>\n",
       "      <td>http://images.amazon.com/images/P/0881501719.0...</td>\n",
       "      <td>http://images.amazon.com/images/P/0881501719.0...</td>\n",
       "      <td>http://images.amazon.com/images/P/0881501719.0...</td>\n",
       "      <td>['Phoebe Atwood Taylor']</td>\n",
       "      <td>2005-02</td>\n",
       "      <td>Set within the brooding landscape of Cape Code...</td>\n",
       "      <td>243.0</td>\n",
       "      <td>['Fiction']</td>\n",
       "      <td>NOT_MATURE</td>\n",
       "      <td>en</td>\n",
       "      <td>0881501719</td>\n",
       "    </tr>\n",
       "  </tbody>\n",
       "</table>\n",
       "</div>"
      ],
      "text/plain": [
       "              ISBN                                    Book-Title  \\\n",
       "230410  0316156108                           The Ha-Ha : A Novel   \n",
       "100372  0881501719  The Asey Mayo Trio: Three Cape Cod Mysteries   \n",
       "\n",
       "                 Book-Author  Year-Of-Publication         Publisher  \\\n",
       "230410             Dave King                 2005     Little, Brown   \n",
       "100372  Phoebe Atwood Taylor                 2005  Countryman Press   \n",
       "\n",
       "                                              Image-URL-S  \\\n",
       "230410  http://images.amazon.com/images/P/0316156108.0...   \n",
       "100372  http://images.amazon.com/images/P/0881501719.0...   \n",
       "\n",
       "                                              Image-URL-M  \\\n",
       "230410  http://images.amazon.com/images/P/0316156108.0...   \n",
       "100372  http://images.amazon.com/images/P/0881501719.0...   \n",
       "\n",
       "                                              Image-URL-L  \\\n",
       "230410  http://images.amazon.com/images/P/0316156108.0...   \n",
       "100372  http://images.amazon.com/images/P/0881501719.0...   \n",
       "\n",
       "                         authors published_date  \\\n",
       "230410             ['Dave King']           2005   \n",
       "100372  ['Phoebe Atwood Taylor']        2005-02   \n",
       "\n",
       "                                              description  page_count  \\\n",
       "230410  Rendered unable to speak, read, or write after...       340.0   \n",
       "100372  Set within the brooding landscape of Cape Code...       243.0   \n",
       "\n",
       "         categories maturity_rating language join_isbn_10  \n",
       "230410  ['Fiction']      NOT_MATURE       en   0316156108  \n",
       "100372  ['Fiction']      NOT_MATURE       en   0881501719  "
      ]
     },
     "execution_count": 198,
     "metadata": {},
     "output_type": "execute_result"
    }
   ],
   "source": [
    "#inspecting the columns that have years above 2004\n",
    "\n",
    "book_df.loc[book_df['Year-Of-Publication'] > 2004].sample(2)"
   ]
  },
  {
   "cell_type": "markdown",
   "metadata": {},
   "source": [
    "Given the dataset's size, we can afford to lose the 72 records containing such unrealistic publication years. Therefore, we will drop all records where the year of publication is above 2004. Additionally, some dates may be unreasonable, and removing them will help ensure the dataset's quality and accuracy."
   ]
  },
  {
   "cell_type": "markdown",
   "metadata": {},
   "source": [
    "There are also records where the year of publication is 0. Given we can't have a zero year, they are problably place holders. For this project, we shall drop the records with zero as the year of publication."
   ]
  },
  {
   "cell_type": "code",
   "execution_count": 199,
   "metadata": {
    "tags": []
   },
   "outputs": [],
   "source": [
    "#sling to have only records with year of publication above 0\n",
    "book_df = book_df.loc[book_df['Year-Of-Publication'] > 0]"
   ]
  },
  {
   "cell_type": "code",
   "execution_count": 200,
   "metadata": {
    "tags": []
   },
   "outputs": [
    {
     "data": {
      "text/html": [
       "<div>\n",
       "<style scoped>\n",
       "    .dataframe tbody tr th:only-of-type {\n",
       "        vertical-align: middle;\n",
       "    }\n",
       "\n",
       "    .dataframe tbody tr th {\n",
       "        vertical-align: top;\n",
       "    }\n",
       "\n",
       "    .dataframe thead th {\n",
       "        text-align: right;\n",
       "    }\n",
       "</style>\n",
       "<table border=\"1\" class=\"dataframe\">\n",
       "  <thead>\n",
       "    <tr style=\"text-align: right;\">\n",
       "      <th></th>\n",
       "      <th>ISBN</th>\n",
       "      <th>Book-Title</th>\n",
       "      <th>Book-Author</th>\n",
       "      <th>Year-Of-Publication</th>\n",
       "      <th>Publisher</th>\n",
       "      <th>Image-URL-S</th>\n",
       "      <th>Image-URL-M</th>\n",
       "      <th>Image-URL-L</th>\n",
       "      <th>authors</th>\n",
       "      <th>published_date</th>\n",
       "      <th>description</th>\n",
       "      <th>page_count</th>\n",
       "      <th>categories</th>\n",
       "      <th>maturity_rating</th>\n",
       "      <th>language</th>\n",
       "      <th>join_isbn_10</th>\n",
       "    </tr>\n",
       "  </thead>\n",
       "  <tbody>\n",
       "  </tbody>\n",
       "</table>\n",
       "</div>"
      ],
      "text/plain": [
       "Empty DataFrame\n",
       "Columns: [ISBN, Book-Title, Book-Author, Year-Of-Publication, Publisher, Image-URL-S, Image-URL-M, Image-URL-L, authors, published_date, description, page_count, categories, maturity_rating, language, join_isbn_10]\n",
       "Index: []"
      ]
     },
     "execution_count": 200,
     "metadata": {},
     "output_type": "execute_result"
    }
   ],
   "source": [
    "#sanity check\n",
    "book_df.loc[book_df['Year-Of-Publication'] == 0]"
   ]
  },
  {
   "cell_type": "code",
   "execution_count": 201,
   "metadata": {
    "tags": []
   },
   "outputs": [],
   "source": [
    "#dropping some duplicate features\n",
    "\n",
    "book_df.drop(columns= ['join_isbn_10','authors','published_date' ], inplace= True)\n"
   ]
  },
  {
   "cell_type": "code",
   "execution_count": 202,
   "metadata": {
    "tags": []
   },
   "outputs": [
    {
     "name": "stdout",
     "output_type": "stream",
     "text": [
      "<class 'pandas.core.frame.DataFrame'>\n",
      "Index: 244835 entries, 0 to 249025\n",
      "Data columns (total 13 columns):\n",
      " #   Column               Non-Null Count   Dtype  \n",
      "---  ------               --------------   -----  \n",
      " 0   ISBN                 244835 non-null  object \n",
      " 1   Book-Title           244835 non-null  object \n",
      " 2   Book-Author          244833 non-null  object \n",
      " 3   Year-Of-Publication  244835 non-null  int32  \n",
      " 4   Publisher            244834 non-null  object \n",
      " 5   Image-URL-S          244835 non-null  object \n",
      " 6   Image-URL-M          244835 non-null  object \n",
      " 7   Image-URL-L          244833 non-null  object \n",
      " 8   description          163922 non-null  object \n",
      " 9   page_count           191322 non-null  float64\n",
      " 10  categories           180410 non-null  object \n",
      " 11  maturity_rating      192535 non-null  object \n",
      " 12  language             192535 non-null  object \n",
      "dtypes: float64(1), int32(1), object(11)\n",
      "memory usage: 25.2+ MB\n"
     ]
    }
   ],
   "source": [
    "book_df.info()"
   ]
  },
  {
   "cell_type": "markdown",
   "metadata": {},
   "source": [
    "- **Handling the categories column**\n",
    "\n"
   ]
  },
  {
   "cell_type": "code",
   "execution_count": 203,
   "metadata": {
    "tags": []
   },
   "outputs": [
    {
     "data": {
      "text/html": [
       "<div>\n",
       "<style scoped>\n",
       "    .dataframe tbody tr th:only-of-type {\n",
       "        vertical-align: middle;\n",
       "    }\n",
       "\n",
       "    .dataframe tbody tr th {\n",
       "        vertical-align: top;\n",
       "    }\n",
       "\n",
       "    .dataframe thead th {\n",
       "        text-align: right;\n",
       "    }\n",
       "</style>\n",
       "<table border=\"1\" class=\"dataframe\">\n",
       "  <thead>\n",
       "    <tr style=\"text-align: right;\">\n",
       "      <th></th>\n",
       "      <th>ISBN</th>\n",
       "      <th>Book-Title</th>\n",
       "      <th>Book-Author</th>\n",
       "      <th>Year-Of-Publication</th>\n",
       "      <th>Publisher</th>\n",
       "      <th>Image-URL-S</th>\n",
       "      <th>Image-URL-M</th>\n",
       "      <th>Image-URL-L</th>\n",
       "      <th>description</th>\n",
       "      <th>page_count</th>\n",
       "      <th>categories</th>\n",
       "      <th>maturity_rating</th>\n",
       "      <th>language</th>\n",
       "    </tr>\n",
       "  </thead>\n",
       "  <tbody>\n",
       "    <tr>\n",
       "      <th>150876</th>\n",
       "      <td>0844263869</td>\n",
       "      <td>Careers for Introverts &amp;amp; Other Solitary Types</td>\n",
       "      <td>Blythe  Camenson</td>\n",
       "      <td>1999</td>\n",
       "      <td>McGraw-Hill</td>\n",
       "      <td>http://images.amazon.com/images/P/0844263869.0...</td>\n",
       "      <td>http://images.amazon.com/images/P/0844263869.0...</td>\n",
       "      <td>http://images.amazon.com/images/P/0844263869.0...</td>\n",
       "      <td>Explores professions suitable for people who p...</td>\n",
       "      <td>129.0</td>\n",
       "      <td>['Business &amp; Economics']</td>\n",
       "      <td>NOT_MATURE</td>\n",
       "      <td>en</td>\n",
       "    </tr>\n",
       "    <tr>\n",
       "      <th>148992</th>\n",
       "      <td>0517006766</td>\n",
       "      <td>Ancestors</td>\n",
       "      <td>Robert Kline</td>\n",
       "      <td>1988</td>\n",
       "      <td>Random House Inc</td>\n",
       "      <td>http://images.amazon.com/images/P/0517006766.0...</td>\n",
       "      <td>http://images.amazon.com/images/P/0517006766.0...</td>\n",
       "      <td>http://images.amazon.com/images/P/0517006766.0...</td>\n",
       "      <td>Toby Horton has a gift--the gift of traveling ...</td>\n",
       "      <td>388.0</td>\n",
       "      <td>['Fiction']</td>\n",
       "      <td>NOT_MATURE</td>\n",
       "      <td>en</td>\n",
       "    </tr>\n",
       "    <tr>\n",
       "      <th>87533</th>\n",
       "      <td>0099279444</td>\n",
       "      <td>The BRIDESMAID/TO FEAR A PAINTED</td>\n",
       "      <td>RUTH RENDELL</td>\n",
       "      <td>1998</td>\n",
       "      <td>Random House UK Ltd (A Division of Random Hous...</td>\n",
       "      <td>http://images.amazon.com/images/P/0099279444.0...</td>\n",
       "      <td>http://images.amazon.com/images/P/0099279444.0...</td>\n",
       "      <td>http://images.amazon.com/images/P/0099279444.0...</td>\n",
       "      <td>NaN</td>\n",
       "      <td>508.0</td>\n",
       "      <td>NaN</td>\n",
       "      <td>NOT_MATURE</td>\n",
       "      <td>en</td>\n",
       "    </tr>\n",
       "    <tr>\n",
       "      <th>153738</th>\n",
       "      <td>0060907851</td>\n",
       "      <td>Sleepers Joining Hands (Harper colophon books)</td>\n",
       "      <td>Robert Bly</td>\n",
       "      <td>1991</td>\n",
       "      <td>Harpercollins</td>\n",
       "      <td>http://images.amazon.com/images/P/0060907851.0...</td>\n",
       "      <td>http://images.amazon.com/images/P/0060907851.0...</td>\n",
       "      <td>http://images.amazon.com/images/P/0060907851.0...</td>\n",
       "      <td>NaN</td>\n",
       "      <td>67.0</td>\n",
       "      <td>['Poetry']</td>\n",
       "      <td>NOT_MATURE</td>\n",
       "      <td>en</td>\n",
       "    </tr>\n",
       "    <tr>\n",
       "      <th>225598</th>\n",
       "      <td>0671660934</td>\n",
       "      <td>The Paradise of Bombs (Touchstone Books (Paper...</td>\n",
       "      <td>Scott Russell Sanders</td>\n",
       "      <td>1988</td>\n",
       "      <td>Simon &amp;amp; Schuster</td>\n",
       "      <td>http://images.amazon.com/images/P/0671660934.0...</td>\n",
       "      <td>http://images.amazon.com/images/P/0671660934.0...</td>\n",
       "      <td>http://images.amazon.com/images/P/0671660934.0...</td>\n",
       "      <td>NaN</td>\n",
       "      <td>NaN</td>\n",
       "      <td>NaN</td>\n",
       "      <td>NaN</td>\n",
       "      <td>NaN</td>\n",
       "    </tr>\n",
       "  </tbody>\n",
       "</table>\n",
       "</div>"
      ],
      "text/plain": [
       "              ISBN                                         Book-Title  \\\n",
       "150876  0844263869  Careers for Introverts &amp; Other Solitary Types   \n",
       "148992  0517006766                                          Ancestors   \n",
       "87533   0099279444                   The BRIDESMAID/TO FEAR A PAINTED   \n",
       "153738  0060907851     Sleepers Joining Hands (Harper colophon books)   \n",
       "225598  0671660934  The Paradise of Bombs (Touchstone Books (Paper...   \n",
       "\n",
       "                  Book-Author  Year-Of-Publication  \\\n",
       "150876       Blythe  Camenson                 1999   \n",
       "148992           Robert Kline                 1988   \n",
       "87533            RUTH RENDELL                 1998   \n",
       "153738             Robert Bly                 1991   \n",
       "225598  Scott Russell Sanders                 1988   \n",
       "\n",
       "                                                Publisher  \\\n",
       "150876                                        McGraw-Hill   \n",
       "148992                                   Random House Inc   \n",
       "87533   Random House UK Ltd (A Division of Random Hous...   \n",
       "153738                                      Harpercollins   \n",
       "225598                               Simon &amp; Schuster   \n",
       "\n",
       "                                              Image-URL-S  \\\n",
       "150876  http://images.amazon.com/images/P/0844263869.0...   \n",
       "148992  http://images.amazon.com/images/P/0517006766.0...   \n",
       "87533   http://images.amazon.com/images/P/0099279444.0...   \n",
       "153738  http://images.amazon.com/images/P/0060907851.0...   \n",
       "225598  http://images.amazon.com/images/P/0671660934.0...   \n",
       "\n",
       "                                              Image-URL-M  \\\n",
       "150876  http://images.amazon.com/images/P/0844263869.0...   \n",
       "148992  http://images.amazon.com/images/P/0517006766.0...   \n",
       "87533   http://images.amazon.com/images/P/0099279444.0...   \n",
       "153738  http://images.amazon.com/images/P/0060907851.0...   \n",
       "225598  http://images.amazon.com/images/P/0671660934.0...   \n",
       "\n",
       "                                              Image-URL-L  \\\n",
       "150876  http://images.amazon.com/images/P/0844263869.0...   \n",
       "148992  http://images.amazon.com/images/P/0517006766.0...   \n",
       "87533   http://images.amazon.com/images/P/0099279444.0...   \n",
       "153738  http://images.amazon.com/images/P/0060907851.0...   \n",
       "225598  http://images.amazon.com/images/P/0671660934.0...   \n",
       "\n",
       "                                              description  page_count  \\\n",
       "150876  Explores professions suitable for people who p...       129.0   \n",
       "148992  Toby Horton has a gift--the gift of traveling ...       388.0   \n",
       "87533                                                 NaN       508.0   \n",
       "153738                                                NaN        67.0   \n",
       "225598                                                NaN         NaN   \n",
       "\n",
       "                      categories maturity_rating language  \n",
       "150876  ['Business & Economics']      NOT_MATURE       en  \n",
       "148992               ['Fiction']      NOT_MATURE       en  \n",
       "87533                        NaN      NOT_MATURE       en  \n",
       "153738                ['Poetry']      NOT_MATURE       en  \n",
       "225598                       NaN             NaN      NaN  "
      ]
     },
     "execution_count": 203,
     "metadata": {},
     "output_type": "execute_result"
    }
   ],
   "source": [
    "book_df.sample(5)"
   ]
  },
  {
   "cell_type": "code",
   "execution_count": 204,
   "metadata": {
    "tags": []
   },
   "outputs": [],
   "source": [
    "#Replacing the null values with Undefined\n",
    "book_df['categories'].fillna('Undefined', inplace= True)"
   ]
  },
  {
   "cell_type": "code",
   "execution_count": 205,
   "metadata": {
    "tags": []
   },
   "outputs": [],
   "source": [
    "# Removing unwanted characters and split the string into a list\n",
    "book_df['categories'] = book_df['categories'] \\\n",
    "                            .str.replace(\"[\", \"\") \\\n",
    "                            .str.replace(\"]\", \"\") \\\n",
    "                            .str.replace(\"'\", \"\") \\\n",
    "                            .str.replace('\"', \"\") \\\n",
    "                            .str.split(\", \") \n",
    "#exploding the list of categories to individual categories in new rows\n",
    "book_df = book_df.explode(column= 'categories', ignore_index= True)"
   ]
  },
  {
   "cell_type": "markdown",
   "metadata": {},
   "source": [
    "- Handling  page count column"
   ]
  },
  {
   "cell_type": "code",
   "execution_count": 206,
   "metadata": {
    "tags": []
   },
   "outputs": [],
   "source": [
    "#replacing page count with median page count\n",
    "\n",
    "book_df['page_count'].fillna(book_df['page_count'].median(), inplace= True)"
   ]
  },
  {
   "cell_type": "markdown",
   "metadata": {},
   "source": [
    "- Handling description column"
   ]
  },
  {
   "cell_type": "code",
   "execution_count": 207,
   "metadata": {
    "tags": []
   },
   "outputs": [],
   "source": [
    "#dropping the records with missng values in description column\n",
    "book_df.dropna(subset= ['description'], inplace = True)"
   ]
  },
  {
   "cell_type": "code",
   "execution_count": 208,
   "metadata": {
    "tags": []
   },
   "outputs": [
    {
     "data": {
      "text/plain": [
       "ISBN                   0\n",
       "Book-Title             0\n",
       "Book-Author            0\n",
       "Year-Of-Publication    0\n",
       "Publisher              1\n",
       "Image-URL-S            0\n",
       "Image-URL-M            0\n",
       "Image-URL-L            2\n",
       "description            0\n",
       "page_count             0\n",
       "categories             0\n",
       "maturity_rating        0\n",
       "language               0\n",
       "dtype: int64"
      ]
     },
     "execution_count": 208,
     "metadata": {},
     "output_type": "execute_result"
    }
   ],
   "source": [
    "book_df.isna().sum()"
   ]
  },
  {
   "cell_type": "code",
   "execution_count": 209,
   "metadata": {
    "tags": []
   },
   "outputs": [],
   "source": [
    "#dropping the remaining missing value\n",
    "\n",
    "book_df.dropna(inplace= True)"
   ]
  },
  {
   "cell_type": "code",
   "execution_count": 210,
   "metadata": {
    "tags": []
   },
   "outputs": [
    {
     "data": {
      "text/plain": [
       "ISBN                   0\n",
       "Book-Title             0\n",
       "Book-Author            0\n",
       "Year-Of-Publication    0\n",
       "Publisher              0\n",
       "Image-URL-S            0\n",
       "Image-URL-M            0\n",
       "Image-URL-L            0\n",
       "description            0\n",
       "page_count             0\n",
       "categories             0\n",
       "maturity_rating        0\n",
       "language               0\n",
       "dtype: int64"
      ]
     },
     "execution_count": 210,
     "metadata": {},
     "output_type": "execute_result"
    }
   ],
   "source": [
    "#sanity check\n",
    "book_df.isna().sum()"
   ]
  },
  {
   "cell_type": "markdown",
   "metadata": {},
   "source": [
    "- Sorting the maturity rating and Languange"
   ]
  },
  {
   "cell_type": "code",
   "execution_count": 211,
   "metadata": {
    "tags": []
   },
   "outputs": [],
   "source": [
    "# capitalizing the maturity rangings\n",
    "\n",
    "book_df['maturity_rating'] = book_df['maturity_rating'].str.capitalize()\n",
    "\n",
    "#language abreviation to upper case\n",
    "\n",
    "book_df['language'] = book_df['language'].str.upper()"
   ]
  },
  {
   "cell_type": "markdown",
   "metadata": {},
   "source": [
    "**Rating Table**"
   ]
  },
  {
   "cell_type": "code",
   "execution_count": 212,
   "metadata": {
    "tags": []
   },
   "outputs": [
    {
     "data": {
      "text/plain": [
       "(1149780, 3)"
      ]
     },
     "execution_count": 212,
     "metadata": {},
     "output_type": "execute_result"
    }
   ],
   "source": [
    "ratings.shape"
   ]
  },
  {
   "cell_type": "code",
   "execution_count": 213,
   "metadata": {
    "tags": []
   },
   "outputs": [
    {
     "data": {
      "text/html": [
       "<div>\n",
       "<style scoped>\n",
       "    .dataframe tbody tr th:only-of-type {\n",
       "        vertical-align: middle;\n",
       "    }\n",
       "\n",
       "    .dataframe tbody tr th {\n",
       "        vertical-align: top;\n",
       "    }\n",
       "\n",
       "    .dataframe thead th {\n",
       "        text-align: right;\n",
       "    }\n",
       "</style>\n",
       "<table border=\"1\" class=\"dataframe\">\n",
       "  <thead>\n",
       "    <tr style=\"text-align: right;\">\n",
       "      <th></th>\n",
       "      <th>User-ID</th>\n",
       "      <th>ISBN</th>\n",
       "      <th>Book-Rating</th>\n",
       "    </tr>\n",
       "  </thead>\n",
       "  <tbody>\n",
       "    <tr>\n",
       "      <th>29343</th>\n",
       "      <td>6703</td>\n",
       "      <td>8485224051</td>\n",
       "      <td>0</td>\n",
       "    </tr>\n",
       "    <tr>\n",
       "      <th>419953</th>\n",
       "      <td>100410</td>\n",
       "      <td>088798317040</td>\n",
       "      <td>9</td>\n",
       "    </tr>\n",
       "    <tr>\n",
       "      <th>231939</th>\n",
       "      <td>53477</td>\n",
       "      <td>0380814021</td>\n",
       "      <td>10</td>\n",
       "    </tr>\n",
       "    <tr>\n",
       "      <th>467453</th>\n",
       "      <td>111888</td>\n",
       "      <td>0312950586</td>\n",
       "      <td>8</td>\n",
       "    </tr>\n",
       "    <tr>\n",
       "      <th>735307</th>\n",
       "      <td>177458</td>\n",
       "      <td>0743445627</td>\n",
       "      <td>8</td>\n",
       "    </tr>\n",
       "  </tbody>\n",
       "</table>\n",
       "</div>"
      ],
      "text/plain": [
       "        User-ID          ISBN  Book-Rating\n",
       "29343      6703    8485224051            0\n",
       "419953   100410  088798317040            9\n",
       "231939    53477    0380814021           10\n",
       "467453   111888    0312950586            8\n",
       "735307   177458    0743445627            8"
      ]
     },
     "execution_count": 213,
     "metadata": {},
     "output_type": "execute_result"
    }
   ],
   "source": [
    "#preview the dataset\n",
    "ratings.sample(5)"
   ]
  },
  {
   "cell_type": "code",
   "execution_count": 214,
   "metadata": {
    "tags": []
   },
   "outputs": [],
   "source": [
    "#removing the whitespaces if there is any and lower all alphabets the the ISBNS\n",
    "ratings['ISBN'] = ratings['ISBN'].str.replace(' ', '').str.lower()"
   ]
  },
  {
   "cell_type": "code",
   "execution_count": 215,
   "metadata": {
    "tags": []
   },
   "outputs": [
    {
     "data": {
      "text/html": [
       "<div>\n",
       "<style scoped>\n",
       "    .dataframe tbody tr th:only-of-type {\n",
       "        vertical-align: middle;\n",
       "    }\n",
       "\n",
       "    .dataframe tbody tr th {\n",
       "        vertical-align: top;\n",
       "    }\n",
       "\n",
       "    .dataframe thead th {\n",
       "        text-align: right;\n",
       "    }\n",
       "</style>\n",
       "<table border=\"1\" class=\"dataframe\">\n",
       "  <thead>\n",
       "    <tr style=\"text-align: right;\">\n",
       "      <th></th>\n",
       "      <th>User-ID</th>\n",
       "      <th>ISBN</th>\n",
       "      <th>Book-Rating</th>\n",
       "    </tr>\n",
       "  </thead>\n",
       "  <tbody>\n",
       "    <tr>\n",
       "      <th>9</th>\n",
       "      <td>276745</td>\n",
       "      <td>342310538</td>\n",
       "      <td>10</td>\n",
       "    </tr>\n",
       "    <tr>\n",
       "      <th>40</th>\n",
       "      <td>276762</td>\n",
       "      <td>342662429</td>\n",
       "      <td>0</td>\n",
       "    </tr>\n",
       "    <tr>\n",
       "      <th>55</th>\n",
       "      <td>276762</td>\n",
       "      <td>n3453124715</td>\n",
       "      <td>4</td>\n",
       "    </tr>\n",
       "    <tr>\n",
       "      <th>247</th>\n",
       "      <td>276856</td>\n",
       "      <td>20103389</td>\n",
       "      <td>0</td>\n",
       "    </tr>\n",
       "    <tr>\n",
       "      <th>291</th>\n",
       "      <td>276861</td>\n",
       "      <td>344242529</td>\n",
       "      <td>9</td>\n",
       "    </tr>\n",
       "    <tr>\n",
       "      <th>...</th>\n",
       "      <td>...</td>\n",
       "      <td>...</td>\n",
       "      <td>...</td>\n",
       "    </tr>\n",
       "    <tr>\n",
       "      <th>1149238</th>\n",
       "      <td>276641</td>\n",
       "      <td>033031582</td>\n",
       "      <td>5</td>\n",
       "    </tr>\n",
       "    <tr>\n",
       "      <th>1149358</th>\n",
       "      <td>276670</td>\n",
       "      <td>00969754916</td>\n",
       "      <td>7</td>\n",
       "    </tr>\n",
       "    <tr>\n",
       "      <th>1149428</th>\n",
       "      <td>276670</td>\n",
       "      <td>15655122046</td>\n",
       "      <td>6</td>\n",
       "    </tr>\n",
       "    <tr>\n",
       "      <th>1149439</th>\n",
       "      <td>276670</td>\n",
       "      <td>55305663</td>\n",
       "      <td>6</td>\n",
       "    </tr>\n",
       "    <tr>\n",
       "      <th>1149779</th>\n",
       "      <td>276723</td>\n",
       "      <td>05162443314</td>\n",
       "      <td>8</td>\n",
       "    </tr>\n",
       "  </tbody>\n",
       "</table>\n",
       "<p>10373 rows × 3 columns</p>\n",
       "</div>"
      ],
      "text/plain": [
       "         User-ID         ISBN  Book-Rating\n",
       "9         276745    342310538           10\n",
       "40        276762    342662429            0\n",
       "55        276762  n3453124715            4\n",
       "247       276856     20103389            0\n",
       "291       276861    344242529            9\n",
       "...          ...          ...          ...\n",
       "1149238   276641    033031582            5\n",
       "1149358   276670  00969754916            7\n",
       "1149428   276670  15655122046            6\n",
       "1149439   276670     55305663            6\n",
       "1149779   276723  05162443314            8\n",
       "\n",
       "[10373 rows x 3 columns]"
      ]
     },
     "execution_count": 215,
     "metadata": {},
     "output_type": "execute_result"
    }
   ],
   "source": [
    "#checking the ISBN if correct\n",
    "ratings.loc[(ratings['ISBN'].apply(lambda x: len(x) > 10 )) | (ratings['ISBN'].apply(lambda x: len(x) < 10))]"
   ]
  },
  {
   "cell_type": "code",
   "execution_count": 216,
   "metadata": {
    "tags": []
   },
   "outputs": [],
   "source": [
    "#droping the invalid ISBN\n",
    "ratings.drop(ratings.loc[(ratings['ISBN']\n",
    "                      .apply(lambda x: len(x) > 10)) | (ratings['ISBN']\n",
    "                                                        .apply(lambda x: len(x) < 10))].index, inplace=True)"
   ]
  },
  {
   "cell_type": "code",
   "execution_count": 217,
   "metadata": {
    "tags": []
   },
   "outputs": [
    {
     "data": {
      "text/html": [
       "<div>\n",
       "<style scoped>\n",
       "    .dataframe tbody tr th:only-of-type {\n",
       "        vertical-align: middle;\n",
       "    }\n",
       "\n",
       "    .dataframe tbody tr th {\n",
       "        vertical-align: top;\n",
       "    }\n",
       "\n",
       "    .dataframe thead th {\n",
       "        text-align: right;\n",
       "    }\n",
       "</style>\n",
       "<table border=\"1\" class=\"dataframe\">\n",
       "  <thead>\n",
       "    <tr style=\"text-align: right;\">\n",
       "      <th></th>\n",
       "      <th>User-ID</th>\n",
       "      <th>ISBN</th>\n",
       "      <th>Book-Rating</th>\n",
       "    </tr>\n",
       "  </thead>\n",
       "  <tbody>\n",
       "  </tbody>\n",
       "</table>\n",
       "</div>"
      ],
      "text/plain": [
       "Empty DataFrame\n",
       "Columns: [User-ID, ISBN, Book-Rating]\n",
       "Index: []"
      ]
     },
     "execution_count": 217,
     "metadata": {},
     "output_type": "execute_result"
    }
   ],
   "source": [
    "#Sanity check\n",
    "ratings.loc[(ratings['ISBN'].apply(lambda x: len(x) > 10 )) | (ratings['ISBN'].apply(lambda x: len(x) < 10))]"
   ]
  },
  {
   "cell_type": "markdown",
   "metadata": {},
   "source": [
    "In the data description, it was observed that explicit ratings were provided by users to express their sentiments toward a book, using a scale of 1 to 10. Additionally, implicit ratings were denoted by a zero. For this project, the explicit ratings from each user will be utilized, as they provide insight into the user's emotional response to the content they have engaged with. This decision is based on the understanding that explicit ratings convey the user's feelings more directly compared to implicit ratings, which may not necessarily reflect their sentiment accurately."
   ]
  },
  {
   "cell_type": "code",
   "execution_count": 218,
   "metadata": {
    "tags": []
   },
   "outputs": [],
   "source": [
    "#segragating only explicit ratings\n",
    "ratings_explicit = ratings.loc[ratings['Book-Rating'] != 0]"
   ]
  },
  {
   "cell_type": "markdown",
   "metadata": {},
   "source": [
    "- Merging the users table to rating table"
   ]
  },
  {
   "cell_type": "code",
   "execution_count": 219,
   "metadata": {
    "tags": []
   },
   "outputs": [
    {
     "data": {
      "text/plain": [
       "(428016, 5)"
      ]
     },
     "execution_count": 219,
     "metadata": {},
     "output_type": "execute_result"
    }
   ],
   "source": [
    "#merging on User-ID\n",
    "users_and_rating = users.merge(right= ratings_explicit, on= 'User-ID')\n",
    "users_and_rating.shape"
   ]
  },
  {
   "cell_type": "code",
   "execution_count": 220,
   "metadata": {
    "tags": []
   },
   "outputs": [
    {
     "data": {
      "text/plain": [
       "User-ID        0\n",
       "Age            0\n",
       "Country        0\n",
       "ISBN           0\n",
       "Book-Rating    0\n",
       "dtype: int64"
      ]
     },
     "execution_count": 220,
     "metadata": {},
     "output_type": "execute_result"
    }
   ],
   "source": [
    "users_and_rating.isna().sum()"
   ]
  },
  {
   "cell_type": "markdown",
   "metadata": {},
   "source": [
    "- Merging users and ratings with cleaned books"
   ]
  },
  {
   "cell_type": "code",
   "execution_count": 221,
   "metadata": {
    "tags": []
   },
   "outputs": [
    {
     "data": {
      "text/plain": [
       "(286533, 17)"
      ]
     },
     "execution_count": 221,
     "metadata": {},
     "output_type": "execute_result"
    }
   ],
   "source": [
    "#merging on ISBN\n",
    "\n",
    "final_df = users_and_rating.merge(right= book_df, on= 'ISBN')\n",
    "\n",
    "final_df.shape"
   ]
  },
  {
   "cell_type": "code",
   "execution_count": 222,
   "metadata": {
    "tags": []
   },
   "outputs": [
    {
     "data": {
      "text/html": [
       "<div>\n",
       "<style scoped>\n",
       "    .dataframe tbody tr th:only-of-type {\n",
       "        vertical-align: middle;\n",
       "    }\n",
       "\n",
       "    .dataframe tbody tr th {\n",
       "        vertical-align: top;\n",
       "    }\n",
       "\n",
       "    .dataframe thead th {\n",
       "        text-align: right;\n",
       "    }\n",
       "</style>\n",
       "<table border=\"1\" class=\"dataframe\">\n",
       "  <thead>\n",
       "    <tr style=\"text-align: right;\">\n",
       "      <th></th>\n",
       "      <th>User-ID</th>\n",
       "      <th>Age</th>\n",
       "      <th>Country</th>\n",
       "      <th>ISBN</th>\n",
       "      <th>Book-Rating</th>\n",
       "      <th>Book-Title</th>\n",
       "      <th>Book-Author</th>\n",
       "      <th>Year-Of-Publication</th>\n",
       "      <th>Publisher</th>\n",
       "      <th>Image-URL-S</th>\n",
       "      <th>Image-URL-M</th>\n",
       "      <th>Image-URL-L</th>\n",
       "      <th>description</th>\n",
       "      <th>page_count</th>\n",
       "      <th>categories</th>\n",
       "      <th>maturity_rating</th>\n",
       "      <th>language</th>\n",
       "    </tr>\n",
       "  </thead>\n",
       "  <tbody>\n",
       "    <tr>\n",
       "      <th>48031</th>\n",
       "      <td>190374</td>\n",
       "      <td>38.0</td>\n",
       "      <td>canada</td>\n",
       "      <td>0316789844</td>\n",
       "      <td>8</td>\n",
       "      <td>Resistance : A Novel</td>\n",
       "      <td>Anita Shreve</td>\n",
       "      <td>1997</td>\n",
       "      <td>Back Bay Books</td>\n",
       "      <td>http://images.amazon.com/images/P/0316789844.0...</td>\n",
       "      <td>http://images.amazon.com/images/P/0316789844.0...</td>\n",
       "      <td>http://images.amazon.com/images/P/0316789844.0...</td>\n",
       "      <td>This tale of impossible love--told with the sa...</td>\n",
       "      <td>256.0</td>\n",
       "      <td>Fiction</td>\n",
       "      <td>Not_mature</td>\n",
       "      <td>EN</td>\n",
       "    </tr>\n",
       "    <tr>\n",
       "      <th>223519</th>\n",
       "      <td>98391</td>\n",
       "      <td>52.0</td>\n",
       "      <td>usa</td>\n",
       "      <td>0312270984</td>\n",
       "      <td>8</td>\n",
       "      <td>Home to Trinity: A Novel</td>\n",
       "      <td>Delia Parr</td>\n",
       "      <td>2003</td>\n",
       "      <td>St. Martin's Press</td>\n",
       "      <td>http://images.amazon.com/images/P/0312270984.0...</td>\n",
       "      <td>http://images.amazon.com/images/P/0312270984.0...</td>\n",
       "      <td>http://images.amazon.com/images/P/0312270984.0...</td>\n",
       "      <td>Come home to friendship, family, and faith in ...</td>\n",
       "      <td>352.0</td>\n",
       "      <td>Fiction</td>\n",
       "      <td>Not_mature</td>\n",
       "      <td>EN</td>\n",
       "    </tr>\n",
       "    <tr>\n",
       "      <th>81546</th>\n",
       "      <td>155711</td>\n",
       "      <td>51.0</td>\n",
       "      <td>usa</td>\n",
       "      <td>0812551699</td>\n",
       "      <td>7</td>\n",
       "      <td>The Merlin Effect</td>\n",
       "      <td>T. A. Barron</td>\n",
       "      <td>1996</td>\n",
       "      <td>Tor Fantasy</td>\n",
       "      <td>http://images.amazon.com/images/P/0812551699.0...</td>\n",
       "      <td>http://images.amazon.com/images/P/0812551699.0...</td>\n",
       "      <td>http://images.amazon.com/images/P/0812551699.0...</td>\n",
       "      <td>When she joins her father and several others i...</td>\n",
       "      <td>260.0</td>\n",
       "      <td>Fiction</td>\n",
       "      <td>Not_mature</td>\n",
       "      <td>EN</td>\n",
       "    </tr>\n",
       "    <tr>\n",
       "      <th>108265</th>\n",
       "      <td>11676</td>\n",
       "      <td>32.0</td>\n",
       "      <td>n/a</td>\n",
       "      <td>0590115073</td>\n",
       "      <td>8</td>\n",
       "      <td>Winter is here!</td>\n",
       "      <td>Kimberly Weinberger</td>\n",
       "      <td>1997</td>\n",
       "      <td>Scholastic Inc</td>\n",
       "      <td>http://images.amazon.com/images/P/0590115073.0...</td>\n",
       "      <td>http://images.amazon.com/images/P/0590115073.0...</td>\n",
       "      <td>http://images.amazon.com/images/P/0590115073.0...</td>\n",
       "      <td>Children are playing outside in the snow.</td>\n",
       "      <td>23.0</td>\n",
       "      <td>Snow</td>\n",
       "      <td>Not_mature</td>\n",
       "      <td>EN</td>\n",
       "    </tr>\n",
       "    <tr>\n",
       "      <th>218852</th>\n",
       "      <td>92498</td>\n",
       "      <td>32.0</td>\n",
       "      <td>australia</td>\n",
       "      <td>0060936827</td>\n",
       "      <td>7</td>\n",
       "      <td>Nectar : A Novel of Temptation</td>\n",
       "      <td>Lily Prior</td>\n",
       "      <td>2003</td>\n",
       "      <td>Ecco</td>\n",
       "      <td>http://images.amazon.com/images/P/0060936827.0...</td>\n",
       "      <td>http://images.amazon.com/images/P/0060936827.0...</td>\n",
       "      <td>http://images.amazon.com/images/P/0060936827.0...</td>\n",
       "      <td>Ramona Drottoveo, an albino, is a chambermaid ...</td>\n",
       "      <td>272.0</td>\n",
       "      <td>Fiction</td>\n",
       "      <td>Not_mature</td>\n",
       "      <td>EN</td>\n",
       "    </tr>\n",
       "    <tr>\n",
       "      <th>249575</th>\n",
       "      <td>197515</td>\n",
       "      <td>32.0</td>\n",
       "      <td>usa</td>\n",
       "      <td>0747263612</td>\n",
       "      <td>6</td>\n",
       "      <td>Belladonna At Belstone</td>\n",
       "      <td>Michael Jecks</td>\n",
       "      <td>2000</td>\n",
       "      <td>Headline Book Publishing</td>\n",
       "      <td>http://images.amazon.com/images/P/0747263612.0...</td>\n",
       "      <td>http://images.amazon.com/images/P/0747263612.0...</td>\n",
       "      <td>http://images.amazon.com/images/P/0747263612.0...</td>\n",
       "      <td>It's 1321 and Lady Elizabeth of Topsham, prior...</td>\n",
       "      <td>332.0</td>\n",
       "      <td>Fiction</td>\n",
       "      <td>Not_mature</td>\n",
       "      <td>EN</td>\n",
       "    </tr>\n",
       "    <tr>\n",
       "      <th>47259</th>\n",
       "      <td>179147</td>\n",
       "      <td>32.0</td>\n",
       "      <td>usa</td>\n",
       "      <td>0767902890</td>\n",
       "      <td>4</td>\n",
       "      <td>The Things They Carried</td>\n",
       "      <td>TIM O'BRIEN</td>\n",
       "      <td>1998</td>\n",
       "      <td>Broadway</td>\n",
       "      <td>http://images.amazon.com/images/P/0767902890.0...</td>\n",
       "      <td>http://images.amazon.com/images/P/0767902890.0...</td>\n",
       "      <td>http://images.amazon.com/images/P/0767902890.0...</td>\n",
       "      <td>Heroic young men carry the emotional weight of...</td>\n",
       "      <td>274.0</td>\n",
       "      <td>Fiction</td>\n",
       "      <td>Not_mature</td>\n",
       "      <td>EN</td>\n",
       "    </tr>\n",
       "    <tr>\n",
       "      <th>260367</th>\n",
       "      <td>175510</td>\n",
       "      <td>32.0</td>\n",
       "      <td>germany</td>\n",
       "      <td>3455026516</td>\n",
       "      <td>9</td>\n",
       "      <td>Die Herzogin der Bloomsbury Street</td>\n",
       "      <td>Helene Hanff</td>\n",
       "      <td>2003</td>\n",
       "      <td>Hoffmann und Campe, Verlag</td>\n",
       "      <td>http://images.amazon.com/images/P/3455026516.0...</td>\n",
       "      <td>http://images.amazon.com/images/P/3455026516.0...</td>\n",
       "      <td>http://images.amazon.com/images/P/3455026516.0...</td>\n",
       "      <td>Gleichsam Ã¼ber Nacht wird die amerikanische A...</td>\n",
       "      <td>207.0</td>\n",
       "      <td>Undefined</td>\n",
       "      <td>Not_mature</td>\n",
       "      <td>DE</td>\n",
       "    </tr>\n",
       "    <tr>\n",
       "      <th>17370</th>\n",
       "      <td>257800</td>\n",
       "      <td>32.0</td>\n",
       "      <td>usa</td>\n",
       "      <td>0060930535</td>\n",
       "      <td>7</td>\n",
       "      <td>The Poisonwood Bible: A Novel</td>\n",
       "      <td>Barbara Kingsolver</td>\n",
       "      <td>1999</td>\n",
       "      <td>Perennial</td>\n",
       "      <td>http://images.amazon.com/images/P/0060930535.0...</td>\n",
       "      <td>http://images.amazon.com/images/P/0060930535.0...</td>\n",
       "      <td>http://images.amazon.com/images/P/0060930535.0...</td>\n",
       "      <td>Nathan Price, a evangelical Baptist who in 195...</td>\n",
       "      <td>302.0</td>\n",
       "      <td>Fiction</td>\n",
       "      <td>Not_mature</td>\n",
       "      <td>EN</td>\n",
       "    </tr>\n",
       "    <tr>\n",
       "      <th>158603</th>\n",
       "      <td>30511</td>\n",
       "      <td>32.0</td>\n",
       "      <td>netherlands</td>\n",
       "      <td>0803287119</td>\n",
       "      <td>8</td>\n",
       "      <td>A Lady's Experiences in the Wild West in 1883</td>\n",
       "      <td>Rose Pender</td>\n",
       "      <td>1985</td>\n",
       "      <td>University of Nebraska Press</td>\n",
       "      <td>http://images.amazon.com/images/P/0803287119.0...</td>\n",
       "      <td>http://images.amazon.com/images/P/0803287119.0...</td>\n",
       "      <td>http://images.amazon.com/images/P/0803287119.0...</td>\n",
       "      <td>\"A very intelligent, spirited woman who saw re...</td>\n",
       "      <td>136.0</td>\n",
       "      <td>Biography &amp; Autobiography</td>\n",
       "      <td>Not_mature</td>\n",
       "      <td>EN</td>\n",
       "    </tr>\n",
       "  </tbody>\n",
       "</table>\n",
       "</div>"
      ],
      "text/plain": [
       "        User-ID   Age      Country        ISBN  Book-Rating  \\\n",
       "48031    190374  38.0       canada  0316789844            8   \n",
       "223519    98391  52.0          usa  0312270984            8   \n",
       "81546    155711  51.0          usa  0812551699            7   \n",
       "108265    11676  32.0          n/a  0590115073            8   \n",
       "218852    92498  32.0    australia  0060936827            7   \n",
       "249575   197515  32.0          usa  0747263612            6   \n",
       "47259    179147  32.0          usa  0767902890            4   \n",
       "260367   175510  32.0      germany  3455026516            9   \n",
       "17370    257800  32.0          usa  0060930535            7   \n",
       "158603    30511  32.0  netherlands  0803287119            8   \n",
       "\n",
       "                                           Book-Title          Book-Author  \\\n",
       "48031                            Resistance : A Novel         Anita Shreve   \n",
       "223519                       Home to Trinity: A Novel           Delia Parr   \n",
       "81546                               The Merlin Effect         T. A. Barron   \n",
       "108265                                Winter is here!  Kimberly Weinberger   \n",
       "218852                 Nectar : A Novel of Temptation           Lily Prior   \n",
       "249575                         Belladonna At Belstone        Michael Jecks   \n",
       "47259                         The Things They Carried          TIM O'BRIEN   \n",
       "260367             Die Herzogin der Bloomsbury Street         Helene Hanff   \n",
       "17370                   The Poisonwood Bible: A Novel   Barbara Kingsolver   \n",
       "158603  A Lady's Experiences in the Wild West in 1883          Rose Pender   \n",
       "\n",
       "        Year-Of-Publication                     Publisher  \\\n",
       "48031                  1997                Back Bay Books   \n",
       "223519                 2003            St. Martin's Press   \n",
       "81546                  1996                   Tor Fantasy   \n",
       "108265                 1997                Scholastic Inc   \n",
       "218852                 2003                          Ecco   \n",
       "249575                 2000      Headline Book Publishing   \n",
       "47259                  1998                      Broadway   \n",
       "260367                 2003    Hoffmann und Campe, Verlag   \n",
       "17370                  1999                     Perennial   \n",
       "158603                 1985  University of Nebraska Press   \n",
       "\n",
       "                                              Image-URL-S  \\\n",
       "48031   http://images.amazon.com/images/P/0316789844.0...   \n",
       "223519  http://images.amazon.com/images/P/0312270984.0...   \n",
       "81546   http://images.amazon.com/images/P/0812551699.0...   \n",
       "108265  http://images.amazon.com/images/P/0590115073.0...   \n",
       "218852  http://images.amazon.com/images/P/0060936827.0...   \n",
       "249575  http://images.amazon.com/images/P/0747263612.0...   \n",
       "47259   http://images.amazon.com/images/P/0767902890.0...   \n",
       "260367  http://images.amazon.com/images/P/3455026516.0...   \n",
       "17370   http://images.amazon.com/images/P/0060930535.0...   \n",
       "158603  http://images.amazon.com/images/P/0803287119.0...   \n",
       "\n",
       "                                              Image-URL-M  \\\n",
       "48031   http://images.amazon.com/images/P/0316789844.0...   \n",
       "223519  http://images.amazon.com/images/P/0312270984.0...   \n",
       "81546   http://images.amazon.com/images/P/0812551699.0...   \n",
       "108265  http://images.amazon.com/images/P/0590115073.0...   \n",
       "218852  http://images.amazon.com/images/P/0060936827.0...   \n",
       "249575  http://images.amazon.com/images/P/0747263612.0...   \n",
       "47259   http://images.amazon.com/images/P/0767902890.0...   \n",
       "260367  http://images.amazon.com/images/P/3455026516.0...   \n",
       "17370   http://images.amazon.com/images/P/0060930535.0...   \n",
       "158603  http://images.amazon.com/images/P/0803287119.0...   \n",
       "\n",
       "                                              Image-URL-L  \\\n",
       "48031   http://images.amazon.com/images/P/0316789844.0...   \n",
       "223519  http://images.amazon.com/images/P/0312270984.0...   \n",
       "81546   http://images.amazon.com/images/P/0812551699.0...   \n",
       "108265  http://images.amazon.com/images/P/0590115073.0...   \n",
       "218852  http://images.amazon.com/images/P/0060936827.0...   \n",
       "249575  http://images.amazon.com/images/P/0747263612.0...   \n",
       "47259   http://images.amazon.com/images/P/0767902890.0...   \n",
       "260367  http://images.amazon.com/images/P/3455026516.0...   \n",
       "17370   http://images.amazon.com/images/P/0060930535.0...   \n",
       "158603  http://images.amazon.com/images/P/0803287119.0...   \n",
       "\n",
       "                                              description  page_count  \\\n",
       "48031   This tale of impossible love--told with the sa...       256.0   \n",
       "223519  Come home to friendship, family, and faith in ...       352.0   \n",
       "81546   When she joins her father and several others i...       260.0   \n",
       "108265          Children are playing outside in the snow.        23.0   \n",
       "218852  Ramona Drottoveo, an albino, is a chambermaid ...       272.0   \n",
       "249575  It's 1321 and Lady Elizabeth of Topsham, prior...       332.0   \n",
       "47259   Heroic young men carry the emotional weight of...       274.0   \n",
       "260367  Gleichsam Ã¼ber Nacht wird die amerikanische A...       207.0   \n",
       "17370   Nathan Price, a evangelical Baptist who in 195...       302.0   \n",
       "158603  \"A very intelligent, spirited woman who saw re...       136.0   \n",
       "\n",
       "                       categories maturity_rating language  \n",
       "48031                     Fiction      Not_mature       EN  \n",
       "223519                    Fiction      Not_mature       EN  \n",
       "81546                     Fiction      Not_mature       EN  \n",
       "108265                       Snow      Not_mature       EN  \n",
       "218852                    Fiction      Not_mature       EN  \n",
       "249575                    Fiction      Not_mature       EN  \n",
       "47259                     Fiction      Not_mature       EN  \n",
       "260367                  Undefined      Not_mature       DE  \n",
       "17370                     Fiction      Not_mature       EN  \n",
       "158603  Biography & Autobiography      Not_mature       EN  "
      ]
     },
     "execution_count": 222,
     "metadata": {},
     "output_type": "execute_result"
    }
   ],
   "source": [
    "#previwing sample \n",
    "\n",
    "final_df.sample(10)"
   ]
  },
  {
   "cell_type": "code",
   "execution_count": 223,
   "metadata": {
    "tags": []
   },
   "outputs": [
    {
     "data": {
      "text/plain": [
       "User-ID                0\n",
       "Age                    0\n",
       "Country                0\n",
       "ISBN                   0\n",
       "Book-Rating            0\n",
       "Book-Title             0\n",
       "Book-Author            0\n",
       "Year-Of-Publication    0\n",
       "Publisher              0\n",
       "Image-URL-S            0\n",
       "Image-URL-M            0\n",
       "Image-URL-L            0\n",
       "description            0\n",
       "page_count             0\n",
       "categories             0\n",
       "maturity_rating        0\n",
       "language               0\n",
       "dtype: int64"
      ]
     },
     "execution_count": 223,
     "metadata": {},
     "output_type": "execute_result"
    }
   ],
   "source": [
    "final_df.isna().sum()"
   ]
  },
  {
   "cell_type": "markdown",
   "metadata": {},
   "source": [
    "## Exploratory Data Analysis"
   ]
  },
  {
   "cell_type": "markdown",
   "metadata": {},
   "source": [
    "**Users**"
   ]
  },
  {
   "cell_type": "code",
   "execution_count": 224,
   "metadata": {
    "tags": []
   },
   "outputs": [
    {
     "data": {
      "image/png": "[encoded data removed]",
      "text/plain": [
       "<Figure size 1200x600 with 1 Axes>"
      ]
     },
     "metadata": {},
     "output_type": "display_data"
    }
   ],
   "source": [
    "# Univariate Analysis for 'Country'\n",
    "# Get the top 10 countries by frequency of users\n",
    "top_10_countries = users['Country'].value_counts().head(10).index\n",
    "\n",
    "# Filter the dataset to include only the top 10 countries\n",
    "users_top_10_countries = users[users['Country'].isin(top_10_countries)]\n",
    "\n",
    "# Plot the frequency of users for the top 10 countries\n",
    "plt.figure(figsize=(12, 6))\n",
    "users_top_10_countries['Country'].value_counts().plot(kind='bar', )\n",
    "plt.title('Top 10 Countries by Frequency of Users',  fontname='Consolas', fontsize = 25)\n",
    "plt.xlabel('Country', fontname='Consolas', fontsize=18)\n",
    "plt.ylabel('Frequency', fontname='Consolas', fontsize=18)\n",
    "plt.xticks(rotation=45, fontname='Consolas', fontsize=18)\n",
    "plt.yticks(fontname='Consolas', fontsize=18)\n",
    "plt.show()"
   ]
  },
  {
   "cell_type": "markdown",
   "metadata": {},
   "source": [
    "**Books**"
   ]
  },
  {
   "cell_type": "code",
   "execution_count": 225,
   "metadata": {
    "tags": []
   },
   "outputs": [
    {
     "data": {
      "image/png": "[encoded data removed]",
      "text/plain": [
       "<Figure size 1200x600 with 1 Axes>"
      ]
     },
     "metadata": {},
     "output_type": "display_data"
    }
   ],
   "source": [
    "# Top 10 authors \n",
    "plt.figure(figsize=(12, 6))\n",
    "top_authors = book_df['Book-Author'].value_counts().head(10)\n",
    "top_authors = top_authors.iloc[::-1]  \n",
    "plt.barh(y=top_authors.index, width=top_authors.values)\n",
    "plt.title('Top 10 Authors by Frequency', fontname='Consolas', fontsize=25)\n",
    "plt.xlabel('Number of Books', fontname='Consolas', fontsize=18)\n",
    "plt.ylabel('Author', fontname='Consolas', fontsize=18)\n",
    "plt.xticks(fontname='Consolas', fontsize=18)\n",
    "plt.yticks(fontname='Consolas', fontsize=18)\n",
    "plt.show()"
   ]
  },
  {
   "cell_type": "code",
   "execution_count": 233,
   "metadata": {
    "tags": []
   },
   "outputs": [
    {
     "data": {
      "image/png": "[encoded data removed]",
      "text/plain": [
       "<Figure size 1200x600 with 1 Axes>"
      ]
     },
     "metadata": {},
     "output_type": "display_data"
    }
   ],
   "source": [
    "# Univariate Analysis for 'Publisher'\n",
    "plt.figure(figsize=(12, 6))\n",
    "top_publishers = book_df['Publisher'].value_counts().head(10).iloc[::-1]\n",
    "plt.barh(y=top_publishers.index, width=top_publishers.values)\n",
    "plt.title('Top 10 Publishers', fontname='Consolas', fontsize = 25)\n",
    "plt.xlabel('Number of Books', fontname='Consolas', fontsize = 18)\n",
    "plt.ylabel('Publisher', fontname='Consolas', fontsize=18)\n",
    "plt.xticks(fontname='Consolas', fontsize=18)\n",
    "plt.yticks(fontname='Consolas', fontsize=18)\n",
    "plt.show()"
   ]
  },
  {
   "cell_type": "code",
   "execution_count": 239,
   "metadata": {
    "tags": []
   },
   "outputs": [
    {
     "data": {
      "image/png": "[encoded data removed]",
      "text/plain": [
       "<Figure size 1200x600 with 1 Axes>"
      ]
     },
     "metadata": {},
     "output_type": "display_data"
    }
   ],
   "source": [
    "# Univariate Analysis for 'categories'\n",
    "# Get the top 10 categories by frequency\n",
    "top_10_categories = book_df['categories'].explode().value_counts().head(10)\n",
    "# Plot the count plot for the top 10 categories\n",
    "plt.figure(figsize=(12, 6))\n",
    "plt.barh( width = top_10_categories.values, y=top_10_categories.index)\n",
    "plt.title('Top 10 Book Categories', fontname='Consolas', fontsize=25)\n",
    "plt.xlabel('Number of Books', fontname='Consolas', fontsize=18)\n",
    "plt.ylabel('Book Category', fontname='Consolas', fontsize=18)\n",
    "plt.xticks(fontname='Consolas', fontsize=18)\n",
    "plt.yticks(fontname='Consolas', fontsize=18)\n",
    "plt.show()"
   ]
  },
  {
   "cell_type": "code",
   "execution_count": 259,
   "metadata": {
    "tags": []
   },
   "outputs": [
    {
     "data": {
      "image/png": "[encoded data removed]",
      "text/plain": [
       "<Figure size 1200x600 with 1 Axes>"
      ]
     },
     "metadata": {},
     "output_type": "display_data"
    }
   ],
   "source": [
    "# Get the top 4 languages by frequency\n",
    "top_4_languages = book_df['language'].value_counts().head(4).index\n",
    "\n",
    "# Filter the dataframe to include only the top 4 languages\n",
    "book_df_top_4_languages = book_df[book_df['language'].isin(top_4_languages)]\n",
    "\n",
    "# Plot the count plot for the top 4 languages\n",
    "plt.figure(figsize=(12, 6))\n",
    "sns.countplot(data=book_df_top_4_languages, x='language', order=top_4_languages, color='#2E86C1')\n",
    "plt.title('Top 4 Languages', fontname='Consolas', fontsize= 25)\n",
    "plt.xlabel('Language', fontname='Consolas', fontsize=18)\n",
    "plt.ylabel('Number of Books', fontname='Consolas', fontsize=18)\n",
    "plt.xticks(fontname='Consolas', fontsize=18)\n",
    "plt.yticks(fontname='Consolas', fontsize=18)\n",
    "plt.show()"
   ]
  },
  {
   "cell_type": "markdown",
   "metadata": {},
   "source": [
    "**Ratings**"
   ]
  },
  {
   "cell_type": "code",
   "execution_count": 257,
   "metadata": {
    "tags": []
   },
   "outputs": [
    {
     "data": {
      "image/png": "[encoded data removed]",
      "text/plain": [
       "<Figure size 1200x600 with 1 Axes>"
      ]
     },
     "metadata": {},
     "output_type": "display_data"
    }
   ],
   "source": [
    "# Distribution of book ratings\n",
    "plt.figure(figsize=(12, 6))\n",
    "sns.countplot(data=ratings_explicit, x='Book-Rating', color='#2E86C1') \n",
    "plt.title('Distribution of Book Ratings', fontname='Consolas', fontsize= 25)\n",
    "plt.xlabel('Rating', fontname='Consolas', fontsize=18)\n",
    "plt.ylabel('Number of Books', fontname='Consolas', fontsize=18)\n",
    "plt.xticks(fontname='Consolas', fontsize=18)\n",
    "plt.yticks(fontname='Consolas', fontsize=18)\n",
    "plt.show()"
   ]
  },
  {
   "cell_type": "code",
   "execution_count": 291,
   "metadata": {
    "tags": []
   },
   "outputs": [
    {
     "data": {
      "image/png": "[encoded data removed]",
      "text/plain": [
       "<Figure size 1200x600 with 1 Axes>"
      ]
     },
     "metadata": {},
     "output_type": "display_data"
    }
   ],
   "source": [
    "# Top rated authors\n",
    "top_rated_authors_ = final_df.groupby(by=['Book-Author'])['Book-Rating'].mean().head(10)\n",
    "\n",
    "# Sorting values in ascending order\n",
    "top_rated_authors_sorted = top_rated_authors_.sort_values()\n",
    "\n",
    "plt.figure(figsize = (12,6))\n",
    "plt.barh(y=top_rated_authors_sorted.index, width=top_rated_authors_sorted.values)\n",
    "\n",
    "plt.title('Top Rated Authors', fontname='Consolas', fontsize= 25)\n",
    "plt.xlabel('Average Rating', fontname='Consolas', fontsize=18)\n",
    "plt.ylabel('Author', fontname='Consolas', fontsize=18)\n",
    "plt.xticks(fontname='Consolas', fontsize=18)\n",
    "plt.yticks(fontname='Consolas', fontsize=18)\n",
    "plt.show()\n",
    "\n",
    "\n"
   ]
  },
  {
   "cell_type": "markdown",
   "metadata": {},
   "source": [
    "## Feature Engineering"
   ]
  },
  {
   "cell_type": "markdown",
   "metadata": {},
   "source": [
    "***Age Grouping:*** Using the `pd.cut` function, the 'Age' column is binned into various age groups, including 'Child', 'Young Adult', 'Adult', and 'Senior'. This process results in the creation of a new categorical feature that represents the age group of each user."
   ]
  },
  {
   "cell_type": "code",
   "execution_count": 262,
   "metadata": {
    "tags": []
   },
   "outputs": [],
   "source": [
    "#creating age group column\n",
    "final_df['age_group'] = (pd.cut(final_df['Age'],\n",
    "                                bins=[0, 18, 35, 60, 120],\n",
    "                                labels=['Child', 'Young Adult', 'Adult', 'Senior']))"
   ]
  },
  {
   "cell_type": "code",
   "execution_count": 267,
   "metadata": {
    "tags": []
   },
   "outputs": [
    {
     "data": {
      "image/png": "[encoded data removed]",
      "text/plain": [
       "<Figure size 1200x600 with 1 Axes>"
      ]
     },
     "metadata": {},
     "output_type": "display_data"
    }
   ],
   "source": [
    "# Value counts for 'Age_Group' column\n",
    "age_group_counts = final_df['age_group'].value_counts()\n",
    "\n",
    "# Plot age groups\n",
    "plt.figure(figsize=(12, 6))\n",
    "age_group_counts.plot(kind='bar')\n",
    "plt.title('Distribution of Age Groups', fontname='Consolas', fontsize= 25)\n",
    "plt.xlabel('Age Group', fontname='Consolas', fontsize=18)\n",
    "plt.ylabel('Frequency',fontname='Consolas', fontsize=18)\n",
    "plt.xticks(rotation = 45, fontname='Consolas', fontsize=18)\n",
    "plt.yticks(fontname='Consolas', fontsize=18)\n",
    "plt.show()"
   ]
  },
  {
   "cell_type": "markdown",
   "metadata": {},
   "source": [
    "## Modelling"
   ]
  },
  {
   "cell_type": "code",
   "execution_count": null,
   "metadata": {},
   "outputs": [],
   "source": []
  },
  {
   "cell_type": "code",
   "execution_count": null,
   "metadata": {},
   "outputs": [],
   "source": []
  }
 ],
 "metadata": {
  "kernelspec": {
   "display_name": "Python 3 (ipykernel)",
   "language": "python",
   "name": "python3"
  },
  "language_info": {
   "codemirror_mode": {
    "name": "ipython",
    "version": 3
   },
   "file_extension": ".py",
   "mimetype": "text/x-python",
   "name": "python",
   "nbconvert_exporter": "python",
   "pygments_lexer": "ipython3",
   "version": "3.11.5"
  }
 },
 "nbformat": 4,
 "nbformat_minor": 4
}
